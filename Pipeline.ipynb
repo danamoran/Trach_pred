{
 "cells": [
  {
   "cell_type": "markdown",
   "metadata": {},
   "source": [
    "\n",
    "# IMPORTS"
   ]
  },
  {
   "cell_type": "code",
   "execution_count": 27,
   "metadata": {},
   "outputs": [],
   "source": [
    "import pandas as pd\n",
    "from sklearn.metrics import classification_report\n",
    "from matplotlib import pyplot as plt\n",
    "from datetime import datetime, timedelta\n",
    "from os import walk, path\n",
    "import os\n",
    "import sys\n",
    "import numpy as np\n",
    "from functools import reduce\n",
    "from sklearn.ensemble import RandomForestClassifier\n",
    "from sklearn.model_selection import train_test_split\n",
    "from sklearn.ensemble import GradientBoostingClassifier\n",
    "from sklearn.model_selection import learning_curve\n",
    "import time\n",
    "from sklearn.model_selection import KFold\n",
    "from sklearn.metrics import f1_score, recall_score, precision_score, roc_auc_score\n",
    "import xgboost\n",
    "from sklearn.metrics import roc_auc_score\n",
    "import seaborn as sns\n",
    "from imblearn.pipeline import Pipeline as imb_pipe\n",
    "from sklearn.decomposition import PCA\n",
    "from sklearn.model_selection import RandomizedSearchCV\n",
    "from imblearn.ensemble._bagging import BalancedBaggingClassifier\n",
    "from imblearn.ensemble._forest import BalancedRandomForestClassifier\n",
    "from imblearn.over_sampling import SMOTE\n",
    "from sklearn.model_selection import KFold\n",
    "from sklearn.metrics import f1_score, recall_score, precision_score, accuracy_score\n",
    "from sklearn.pipeline import Pipeline as sk_pipe\n",
    "from sklearn.ensemble import RandomForestClassifier\n",
    "from sklearn.ensemble import AdaBoostClassifier\n",
    "from sklearn.impute import SimpleImputer\n",
    "from sklearn.preprocessing import StandardScaler\n",
    "import xgboost\n",
    "import catboost\n",
    "from  imblearn.ensemble._bagging import BalancedBaggingClassifier\n",
    "from sklearn.tree import DecisionTreeClassifier\n",
    "%matplotlib inline"
   ]
  },
  {
   "cell_type": "markdown",
   "metadata": {},
   "source": [
    "# CONSTANTS"
   ]
  },
  {
   "cell_type": "code",
   "execution_count": 28,
   "metadata": {},
   "outputs": [],
   "source": [
    "NUMERIC_DIR = r\"C:\\Users\\Dana\\Documents\\Final_Project\\Data\\processed\\numeric_files\"\n",
    "CATEGORICAL_DIR = r\"C:\\Users\\Dana\\Documents\\Final_Project\\Data\\processed\\categorial_files\"\n",
    "META_DIR = r\"C:\\Users\\Dana\\Documents\\Final_Project\\Data\\processed\\meta_files\"\n",
    "ORDINAL_DIR =  r\"C:\\Users\\Dana\\Documents\\Final_Project\\Data\\processed\\ordinal_files\"\n",
    "LABELS_PATH = r\"C:\\Users\\Dana\\Documents\\Final_Project\\Data\\processed\\labels.csv\""
   ]
  },
  {
   "cell_type": "code",
   "execution_count": 13,
   "metadata": {},
   "outputs": [],
   "source": [
    "NUMERICAL_COLS = os.listdir(NUMERIC_DIR)\n",
    "CATEGORICAL_COLS = os.listdir(CATEGORICAL_DIR)\n",
    "NUMERICAL_COLS = [name.split(\".\")[0] for name in NUMERICAL_COLS]\n",
    "ORDINAL_COLS = os.listdir(ORDINAL_DIR)\n",
    "ORDINAL_COLS = [name.split(\".\")[0] for name in ORDINAL_COLS]\n",
    "CATEGORICAL_COLS = [name.split(\".\")[0] for name in CATEGORICAL_COLS]\n",
    "CATEGORICAL_COLS.remove('Airway')"
   ]
  },
  {
   "cell_type": "markdown",
   "metadata": {},
   "source": [
    "# CREATE GROUPED DATA PER TYPE"
   ]
  },
  {
   "cell_type": "code",
   "execution_count": 50,
   "metadata": {
    "collapsed": true
   },
   "outputs": [
    {
     "name": "stdout",
     "output_type": "stream",
     "text": [
      "Albumin\n",
      "ArtBPD\n",
      "ArtBPM\n",
      "ArtBPS\n",
      "Bilirubin Total\n",
      "Creatinine\n",
      "ETCO2\n",
      "FiO2\n",
      "GlucoseABG\n",
      "HCO3\n",
      "HCT\n",
      "Hemoglobin\n",
      "HR\n",
      "Na-ABG\n",
      "PaCO2\n",
      "Pat\n",
      "PEEP\n",
      "PH\n",
      "PiP-Peak\n",
      "Platelets\n",
      "Pmax\n",
      "PotassiumABG\n",
      "PT-INR\n",
      "RR\n",
      "SaturationPulse\n",
      "SuctionsPerDay\n",
      "Temp\n",
      "TotalMinuteVolume\n",
      "Urea\n",
      "VTsetting\n",
      "WCC\n",
      "--- 1968.1092808246613 seconds ---\n"
     ]
    }
   ],
   "source": [
    "numeric_df = pd.DataFrame(columns=[\"key\", 'time', \"value\"])\n",
    "start_time = time.time()\n",
    "for root, dirs, files in walk(NUMERIC_DIR, topdown=False):\n",
    "    for name in files:\n",
    "        temp_path = path.join(NUMERIC_DIR,name)\n",
    "        temp_raw_df = pd.read_csv(temp_path)\n",
    "        temp_raw_df[\"time\"] = pd.to_datetime(temp_raw_df[\"time\"])\n",
    "        base = temp_raw_df.loc[temp_raw_df.index[0], 'time'].minute\n",
    "        temp_df = temp_raw_df.groupby(['key', pd.Grouper(freq='1T', key='time', base=base)]).mean()\n",
    "        temp_df = pd.DataFrame(temp_df.to_records())\n",
    "        temp_df = temp_df[[\"key\", \"time\", \"value\"]]\n",
    "        name = name.split(\".\")[0]\n",
    "        temp_df = temp_df.rename(columns={\"value\": name})\n",
    "        print(name)\n",
    "        numeric_df = pd.merge(numeric_df, temp_df, on=['key', 'time'], how='outer')\n",
    "print(\"--- %s seconds ---\" % (time.time() - start_time))\n",
    "numeric_df.to_csv(r\"C:\\Users\\Dana\\Documents\\Final_Project\\Data\\processed\\numerical_data.csv\")"
   ]
  },
  {
   "cell_type": "code",
   "execution_count": 5,
   "metadata": {
    "collapsed": true
   },
   "outputs": [
    {
     "name": "stdout",
     "output_type": "stream",
     "text": [
      "CCPOT\n",
      "GCS_SOFA\n",
      "PaO2_FiO2_SOFA\n",
      "RASS\n",
      "--- 7.181756258010864 seconds ---\n"
     ]
    }
   ],
   "source": [
    "ordinal_df = pd.DataFrame(columns=[\"key\", 'time', \"value\"])\n",
    "start_time = time.time()\n",
    "for root, dirs, files in walk(ORDINAL_DIR, topdown=False):\n",
    "    for name in files:\n",
    "        temp_path = path.join(ORDINAL_DIR,name)\n",
    "        temp_raw_df = pd.read_csv(temp_path)\n",
    "        temp_raw_df[\"time\"] = pd.to_datetime(temp_raw_df[\"time\"])\n",
    "        base = temp_raw_df.loc[temp_raw_df.index[0], 'time'].minute\n",
    "        temp_df = temp_raw_df.groupby(['key', pd.Grouper(freq='1T', key='time', base=base)]).mean()\n",
    "        temp_df = pd.DataFrame(temp_df.to_records())\n",
    "        temp_df = temp_df[[\"key\", \"time\", \"value\"]]\n",
    "        name = name.split(\".\")[0]\n",
    "        temp_df = temp_df.rename(columns={\"value\": name})\n",
    "        print(name)\n",
    "        ordinal_df = pd.merge(ordinal_df, temp_df, on=['key', 'time'], how='outer')\n",
    "print(\"--- %s seconds ---\" % (time.time() - start_time))\n",
    "ordinal_df.to_csv(r\"C:\\Users\\Dana\\Documents\\Final_Project\\Data\\processed\\ordinal_data.csv\")"
   ]
  },
  {
   "cell_type": "code",
   "execution_count": 6,
   "metadata": {
    "collapsed": true
   },
   "outputs": [
    {
     "name": "stdout",
     "output_type": "stream",
     "text": [
      "Airway\n",
      "Consciousness\n",
      "MucusState\n",
      "MucusSuction\n",
      "PaO2_FiO2_Ventilated_SOFA\n",
      "RespiratoryTherapy\n",
      "--- 5.903905153274536 seconds ---\n"
     ]
    }
   ],
   "source": [
    "categorical_df = pd.DataFrame(columns=[\"key\", 'time', \"value\"])\n",
    "start_time = time.time()\n",
    "for root, dirs, files in walk(CATEGORICAL_DIR, topdown=False):\n",
    "    for name in files:\n",
    "        temp_path = path.join(CATEGORICAL_DIR,name)\n",
    "        temp_raw_df = pd.read_csv(temp_path)\n",
    "        temp_raw_df[\"time\"] = pd.to_datetime(temp_raw_df[\"time\"])\n",
    "        base = temp_raw_df.loc[temp_raw_df.index[0], 'time'].minute\n",
    "        temp_df = temp_raw_df.groupby(['key', pd.Grouper(freq='1T', key='time', base=base)]).first()\n",
    "        temp_df = pd.DataFrame(temp_df.to_records())\n",
    "        name = name.split(\".\")[0]\n",
    "        temp_df = temp_df[[\"key\", \"time\", \"value\"]]\n",
    "        temp_df = temp_df.rename(columns={\"value\": name})\n",
    "        print(name)\n",
    "        categorical_df = pd.merge(categorical_df, temp_df, on=['key', 'time'], how='outer')\n",
    "print(\"--- %s seconds ---\" % (time.time() - start_time))\n",
    "categorical_df.to_csv(r\"C:\\Users\\Dana\\Documents\\Final_Project\\Data\\processed\\categorical_data.csv\")"
   ]
  },
  {
   "cell_type": "code",
   "execution_count": 9,
   "metadata": {
    "collapsed": true
   },
   "outputs": [
    {
     "name": "stdout",
     "output_type": "stream",
     "text": [
      "acmv\n",
      "Age\n",
      "AntibioticsCont\n",
      "AntibioticsIV\n",
      "Gender\n",
      "Height\n",
      "OriginalDepartment\n",
      "psv\n",
      "simv\n",
      "SolumedrolUse\n",
      "Weight\n",
      "--- 0.45310187339782715 seconds ---\n"
     ]
    }
   ],
   "source": [
    "meta_df = pd.DataFrame(columns=[\"key\", \"value\"])\n",
    "start_time = time.time()\n",
    "for root, dirs, files in walk(META_DIR, topdown=False):\n",
    "    for name in files:\n",
    "        temp_path = path.join(META_DIR,name)\n",
    "        temp_raw_df = pd.read_csv(temp_path)\n",
    "        name = name.split(\".\")[0]\n",
    "        temp_df = temp_raw_df[[\"key\", \"value\"]]\n",
    "        temp_df = temp_df.rename(columns={\"value\": name})\n",
    "        print(name)\n",
    "        meta_df = pd.merge(meta_df, temp_df, on=['key'], how='outer')\n",
    "meta_df.loc[:,['AntibioticsCont', 'AntibioticsIV', 'SolumedrolUse','acmv','simv','psv']] = meta_df[['AntibioticsCont', 'AntibioticsIV', 'SolumedrolUse','acmv','simv','psv']].notnull() * 1\n",
    "meta_df[\"Antibiotics\"] = meta_df['AntibioticsCont'] + meta_df[\"AntibioticsIV\"]\n",
    "meta_df[\"Antibiotics\"] = meta_df[\"Antibiotics\"].astype(bool)\n",
    "print(\"--- %s seconds ---\" % (time.time() - start_time))\n",
    "meta_df.to_csv(r\"C:\\Users\\Dana\\Documents\\Final_Project\\Data\\processed\\meta_data.csv\")"
   ]
  },
  {
   "cell_type": "markdown",
   "metadata": {},
   "source": [
    "# LOAD GROUPED DATA"
   ]
  },
  {
   "cell_type": "code",
   "execution_count": 14,
   "metadata": {},
   "outputs": [
    {
     "name": "stderr",
     "output_type": "stream",
     "text": [
      "C:\\ProgramData\\Anaconda3\\envs\\dandush\\lib\\site-packages\\IPython\\core\\interactiveshell.py:3058: DtypeWarning: Columns (4,5,6) have mixed types. Specify dtype option on import or set low_memory=False.\n",
      "  interactivity=interactivity, compiler=compiler, result=result)\n"
     ]
    }
   ],
   "source": [
    "numeric_df = pd.read_csv(r\"C:\\Users\\Dana\\Documents\\Final_Project\\Data\\processed\\numerical_data.csv\")\n",
    "categorical_df = pd.read_csv(r\"C:\\Users\\Dana\\Documents\\Final_Project\\Data\\processed\\categorical_data.csv\")\n",
    "meta_df = pd.read_csv(r\"C:\\Users\\Dana\\Documents\\Final_Project\\Data\\processed\\meta_data.csv\")\n",
    "ordinal_df = pd.read_csv(r\"C:\\Users\\Dana\\Documents\\Final_Project\\Data\\processed\\ordinal_data.csv\")"
   ]
  },
  {
   "cell_type": "code",
   "execution_count": 15,
   "metadata": {
    "scrolled": true
   },
   "outputs": [],
   "source": [
    "labels = pd.read_csv(LABELS_PATH)\n",
    "labels = labels.set_index(\"key\")"
   ]
  },
  {
   "cell_type": "markdown",
   "metadata": {},
   "source": [
    "# SUBSET TO LABELED DATA ONLY"
   ]
  },
  {
   "cell_type": "code",
   "execution_count": 16,
   "metadata": {},
   "outputs": [],
   "source": [
    "ordinal_df = ordinal_df[ordinal_df[\"key\"].isin(labels.index.tolist())]"
   ]
  },
  {
   "cell_type": "code",
   "execution_count": 17,
   "metadata": {},
   "outputs": [],
   "source": [
    "numeric_df = numeric_df[numeric_df[\"key\"].isin(labels.index.tolist())]\n",
    "numeric_df.time = pd.to_datetime(numeric_df.time)"
   ]
  },
  {
   "cell_type": "code",
   "execution_count": 18,
   "metadata": {},
   "outputs": [],
   "source": [
    "categorical_df = categorical_df[categorical_df[\"key\"].isin(labels.index.tolist())]"
   ]
  },
  {
   "cell_type": "code",
   "execution_count": 19,
   "metadata": {},
   "outputs": [],
   "source": [
    "meta_df = meta_df[meta_df[\"key\"].isin(labels.index.tolist())]\n",
    "meta_df = meta_df.set_index(\"key\")"
   ]
  },
  {
   "cell_type": "markdown",
   "metadata": {},
   "source": [
    "# FEATURES CREATION FUNCTIONS"
   ]
  },
  {
   "cell_type": "code",
   "execution_count": 21,
   "metadata": {},
   "outputs": [],
   "source": [
    "def calc_start_end_slope(df,col_list):\n",
    "    df[\"time\"] = pd.to_datetime(df[\"time\"])\n",
    "    base = df.loc[df.index[0], 'time'].hour\n",
    "    df = df.set_index(\"time\").resample(rule='24H',base=base).median()\n",
    "    df = df[col_list]\n",
    "    start_end_slope = (df.iloc[0] / df.iloc[-1]).add_prefix(\"start_end_slope_\")\n",
    "    return start_end_slope"
   ]
  },
  {
   "cell_type": "code",
   "execution_count": 22,
   "metadata": {},
   "outputs": [],
   "source": [
    "def calc_simple_numerical_features(df,col_list=NUMERICAL_COLS ):\n",
    "    median_series = df[col_list].median().add_prefix(\"median_\")\n",
    "    start_end_slope_series = calc_start_end_slope(df,col_list)\n",
    "    min_max_series = (df[col_list].max() / df[col_list].min()).add_prefix(\"min_max_\")\n",
    "    std_series = df[col_list].std().add_prefix(\"std_\")\n",
    "    min_series = df[col_list].min().add_prefix(\"min_\")\n",
    "    max_series = df[col_list].max().add_prefix(\"max_\")\n",
    "    count_series = df[col_list].count().add_prefix(\"count_\")\n",
    "    numerical_features = pd.concat([median_series, min_max_series,std_series, min_series, max_series, count_series])\n",
    "    return numerical_features"
   ]
  },
  {
   "cell_type": "code",
   "execution_count": 23,
   "metadata": {},
   "outputs": [],
   "source": [
    "def calc_simple_categorical_features(df):\n",
    "    cat_dummy = pd.get_dummies(df[CATEGORICAL_COLS])\n",
    "    cat_dummy = pd.merge(cat_dummy, df[[\"key\"]],left_index=True, right_index=True)\n",
    "    cat_dummy_grp = cat_dummy.groupby(\"key\").max().fillna(0)\n",
    "    return cat_dummy_grp"
   ]
  },
  {
   "cell_type": "markdown",
   "metadata": {},
   "source": [
    "# FEATURE ENGINEERING"
   ]
  },
  {
   "cell_type": "code",
   "execution_count": 24,
   "metadata": {},
   "outputs": [],
   "source": [
    "etc_period_dict = {}"
   ]
  },
  {
   "cell_type": "code",
   "execution_count": 25,
   "metadata": {
    "collapsed": true
   },
   "outputs": [
    {
     "name": "stderr",
     "output_type": "stream",
     "text": [
      "C:\\ProgramData\\Anaconda3\\envs\\dandush\\lib\\site-packages\\numpy\\lib\\nanfunctions.py:959: RuntimeWarning: All-NaN slice encountered\n",
      "  result = np.apply_along_axis(_nanmedian1d, axis, a, overwrite_input)\n",
      "C:\\ProgramData\\Anaconda3\\envs\\dandush\\lib\\site-packages\\numpy\\lib\\function_base.py:3405: RuntimeWarning: All-NaN slice encountered\n",
      "  r = func(a, **kwargs)\n"
     ]
    },
    {
     "data": {
      "text/html": [
       "<div>\n",
       "<style scoped>\n",
       "    .dataframe tbody tr th:only-of-type {\n",
       "        vertical-align: middle;\n",
       "    }\n",
       "\n",
       "    .dataframe tbody tr th {\n",
       "        vertical-align: top;\n",
       "    }\n",
       "\n",
       "    .dataframe thead th {\n",
       "        text-align: right;\n",
       "    }\n",
       "</style>\n",
       "<table border=\"1\" class=\"dataframe\">\n",
       "  <thead>\n",
       "    <tr style=\"text-align: right;\">\n",
       "      <th></th>\n",
       "      <th>median_Albumin</th>\n",
       "      <th>median_ArtBPD</th>\n",
       "      <th>median_ArtBPM</th>\n",
       "      <th>median_ArtBPS</th>\n",
       "      <th>median_Bilirubin Total</th>\n",
       "      <th>median_Creatinine</th>\n",
       "      <th>median_ETCO2</th>\n",
       "      <th>median_FiO2</th>\n",
       "      <th>median_GlucoseABG</th>\n",
       "      <th>median_HCO3</th>\n",
       "      <th>...</th>\n",
       "      <th>count_PotassiumABG</th>\n",
       "      <th>count_PT-INR</th>\n",
       "      <th>count_RR</th>\n",
       "      <th>count_SaturationPulse</th>\n",
       "      <th>count_SuctionsPerDay</th>\n",
       "      <th>count_Temp</th>\n",
       "      <th>count_TotalMinuteVolume</th>\n",
       "      <th>count_Urea</th>\n",
       "      <th>count_VTsetting</th>\n",
       "      <th>count_WCC</th>\n",
       "    </tr>\n",
       "  </thead>\n",
       "  <tbody>\n",
       "    <tr>\n",
       "      <td>0</td>\n",
       "      <td>2.20</td>\n",
       "      <td>46.0</td>\n",
       "      <td>70.0</td>\n",
       "      <td>145.0</td>\n",
       "      <td>0.770</td>\n",
       "      <td>2.135</td>\n",
       "      <td>38.70</td>\n",
       "      <td>36.0</td>\n",
       "      <td>117.0</td>\n",
       "      <td>20.4</td>\n",
       "      <td>...</td>\n",
       "      <td>19.0</td>\n",
       "      <td>4.0</td>\n",
       "      <td>829.0</td>\n",
       "      <td>777.0</td>\n",
       "      <td>1.0</td>\n",
       "      <td>743.0</td>\n",
       "      <td>829.0</td>\n",
       "      <td>10.0</td>\n",
       "      <td>833.0</td>\n",
       "      <td>11.0</td>\n",
       "    </tr>\n",
       "    <tr>\n",
       "      <td>11</td>\n",
       "      <td>2.90</td>\n",
       "      <td>50.0</td>\n",
       "      <td>70.0</td>\n",
       "      <td>129.0</td>\n",
       "      <td>0.180</td>\n",
       "      <td>3.210</td>\n",
       "      <td>39.90</td>\n",
       "      <td>43.0</td>\n",
       "      <td>115.0</td>\n",
       "      <td>21.0</td>\n",
       "      <td>...</td>\n",
       "      <td>15.0</td>\n",
       "      <td>1.0</td>\n",
       "      <td>839.0</td>\n",
       "      <td>752.0</td>\n",
       "      <td>5.0</td>\n",
       "      <td>830.0</td>\n",
       "      <td>839.0</td>\n",
       "      <td>13.0</td>\n",
       "      <td>847.0</td>\n",
       "      <td>11.0</td>\n",
       "    </tr>\n",
       "    <tr>\n",
       "      <td>20</td>\n",
       "      <td>2.50</td>\n",
       "      <td>60.0</td>\n",
       "      <td>81.0</td>\n",
       "      <td>128.5</td>\n",
       "      <td>0.550</td>\n",
       "      <td>0.660</td>\n",
       "      <td>33.90</td>\n",
       "      <td>45.0</td>\n",
       "      <td>133.0</td>\n",
       "      <td>29.0</td>\n",
       "      <td>...</td>\n",
       "      <td>14.0</td>\n",
       "      <td>2.0</td>\n",
       "      <td>130.0</td>\n",
       "      <td>750.0</td>\n",
       "      <td>5.0</td>\n",
       "      <td>714.0</td>\n",
       "      <td>4.0</td>\n",
       "      <td>12.0</td>\n",
       "      <td>24.0</td>\n",
       "      <td>12.0</td>\n",
       "    </tr>\n",
       "    <tr>\n",
       "      <td>26</td>\n",
       "      <td>2.80</td>\n",
       "      <td>56.0</td>\n",
       "      <td>74.0</td>\n",
       "      <td>119.0</td>\n",
       "      <td>0.415</td>\n",
       "      <td>1.335</td>\n",
       "      <td>34.19</td>\n",
       "      <td>35.0</td>\n",
       "      <td>142.5</td>\n",
       "      <td>24.4</td>\n",
       "      <td>...</td>\n",
       "      <td>15.0</td>\n",
       "      <td>2.0</td>\n",
       "      <td>821.0</td>\n",
       "      <td>731.0</td>\n",
       "      <td>2.0</td>\n",
       "      <td>792.0</td>\n",
       "      <td>821.0</td>\n",
       "      <td>12.0</td>\n",
       "      <td>828.0</td>\n",
       "      <td>14.0</td>\n",
       "    </tr>\n",
       "    <tr>\n",
       "      <td>29</td>\n",
       "      <td>3.50</td>\n",
       "      <td>42.0</td>\n",
       "      <td>67.0</td>\n",
       "      <td>123.0</td>\n",
       "      <td>0.230</td>\n",
       "      <td>0.820</td>\n",
       "      <td>38.00</td>\n",
       "      <td>40.0</td>\n",
       "      <td>147.0</td>\n",
       "      <td>35.3</td>\n",
       "      <td>...</td>\n",
       "      <td>13.0</td>\n",
       "      <td>4.0</td>\n",
       "      <td>840.0</td>\n",
       "      <td>740.0</td>\n",
       "      <td>5.0</td>\n",
       "      <td>826.0</td>\n",
       "      <td>840.0</td>\n",
       "      <td>11.0</td>\n",
       "      <td>844.0</td>\n",
       "      <td>13.0</td>\n",
       "    </tr>\n",
       "    <tr>\n",
       "      <td>...</td>\n",
       "      <td>...</td>\n",
       "      <td>...</td>\n",
       "      <td>...</td>\n",
       "      <td>...</td>\n",
       "      <td>...</td>\n",
       "      <td>...</td>\n",
       "      <td>...</td>\n",
       "      <td>...</td>\n",
       "      <td>...</td>\n",
       "      <td>...</td>\n",
       "      <td>...</td>\n",
       "      <td>...</td>\n",
       "      <td>...</td>\n",
       "      <td>...</td>\n",
       "      <td>...</td>\n",
       "      <td>...</td>\n",
       "      <td>...</td>\n",
       "      <td>...</td>\n",
       "      <td>...</td>\n",
       "      <td>...</td>\n",
       "      <td>...</td>\n",
       "    </tr>\n",
       "    <tr>\n",
       "      <td>7982</td>\n",
       "      <td>2.15</td>\n",
       "      <td>49.0</td>\n",
       "      <td>70.0</td>\n",
       "      <td>119.0</td>\n",
       "      <td>3.300</td>\n",
       "      <td>0.980</td>\n",
       "      <td>36.00</td>\n",
       "      <td>43.0</td>\n",
       "      <td>131.5</td>\n",
       "      <td>27.8</td>\n",
       "      <td>...</td>\n",
       "      <td>23.0</td>\n",
       "      <td>4.0</td>\n",
       "      <td>38.0</td>\n",
       "      <td>699.0</td>\n",
       "      <td>0.0</td>\n",
       "      <td>797.0</td>\n",
       "      <td>18.0</td>\n",
       "      <td>13.0</td>\n",
       "      <td>37.0</td>\n",
       "      <td>15.0</td>\n",
       "    </tr>\n",
       "    <tr>\n",
       "      <td>7989</td>\n",
       "      <td>2.40</td>\n",
       "      <td>57.0</td>\n",
       "      <td>74.0</td>\n",
       "      <td>106.0</td>\n",
       "      <td>3.120</td>\n",
       "      <td>5.770</td>\n",
       "      <td>40.00</td>\n",
       "      <td>45.0</td>\n",
       "      <td>151.0</td>\n",
       "      <td>21.7</td>\n",
       "      <td>...</td>\n",
       "      <td>23.0</td>\n",
       "      <td>14.0</td>\n",
       "      <td>738.0</td>\n",
       "      <td>813.0</td>\n",
       "      <td>1.0</td>\n",
       "      <td>839.0</td>\n",
       "      <td>740.0</td>\n",
       "      <td>14.0</td>\n",
       "      <td>742.0</td>\n",
       "      <td>16.0</td>\n",
       "    </tr>\n",
       "    <tr>\n",
       "      <td>7990</td>\n",
       "      <td>2.25</td>\n",
       "      <td>56.0</td>\n",
       "      <td>73.0</td>\n",
       "      <td>111.0</td>\n",
       "      <td>3.870</td>\n",
       "      <td>1.185</td>\n",
       "      <td>31.31</td>\n",
       "      <td>40.0</td>\n",
       "      <td>149.0</td>\n",
       "      <td>27.2</td>\n",
       "      <td>...</td>\n",
       "      <td>17.0</td>\n",
       "      <td>1.0</td>\n",
       "      <td>798.0</td>\n",
       "      <td>714.0</td>\n",
       "      <td>2.0</td>\n",
       "      <td>795.0</td>\n",
       "      <td>818.0</td>\n",
       "      <td>10.0</td>\n",
       "      <td>6843.0</td>\n",
       "      <td>10.0</td>\n",
       "    </tr>\n",
       "    <tr>\n",
       "      <td>7996</td>\n",
       "      <td>2.10</td>\n",
       "      <td>58.0</td>\n",
       "      <td>80.0</td>\n",
       "      <td>121.0</td>\n",
       "      <td>4.390</td>\n",
       "      <td>1.070</td>\n",
       "      <td>37.00</td>\n",
       "      <td>45.0</td>\n",
       "      <td>121.5</td>\n",
       "      <td>25.9</td>\n",
       "      <td>...</td>\n",
       "      <td>18.0</td>\n",
       "      <td>4.0</td>\n",
       "      <td>802.0</td>\n",
       "      <td>785.0</td>\n",
       "      <td>4.0</td>\n",
       "      <td>800.0</td>\n",
       "      <td>637.0</td>\n",
       "      <td>9.0</td>\n",
       "      <td>1460.0</td>\n",
       "      <td>13.0</td>\n",
       "    </tr>\n",
       "    <tr>\n",
       "      <td>8000</td>\n",
       "      <td>2.15</td>\n",
       "      <td>68.0</td>\n",
       "      <td>93.0</td>\n",
       "      <td>148.0</td>\n",
       "      <td>1.495</td>\n",
       "      <td>0.655</td>\n",
       "      <td>33.00</td>\n",
       "      <td>35.0</td>\n",
       "      <td>125.5</td>\n",
       "      <td>25.3</td>\n",
       "      <td>...</td>\n",
       "      <td>15.0</td>\n",
       "      <td>0.0</td>\n",
       "      <td>822.0</td>\n",
       "      <td>789.0</td>\n",
       "      <td>2.0</td>\n",
       "      <td>803.0</td>\n",
       "      <td>784.0</td>\n",
       "      <td>6.0</td>\n",
       "      <td>0.0</td>\n",
       "      <td>8.0</td>\n",
       "    </tr>\n",
       "  </tbody>\n",
       "</table>\n",
       "<p>729 rows × 186 columns</p>\n",
       "</div>"
      ],
      "text/plain": [
       "      median_Albumin  median_ArtBPD  median_ArtBPM  median_ArtBPS  \\\n",
       "0               2.20           46.0           70.0          145.0   \n",
       "11              2.90           50.0           70.0          129.0   \n",
       "20              2.50           60.0           81.0          128.5   \n",
       "26              2.80           56.0           74.0          119.0   \n",
       "29              3.50           42.0           67.0          123.0   \n",
       "...              ...            ...            ...            ...   \n",
       "7982            2.15           49.0           70.0          119.0   \n",
       "7989            2.40           57.0           74.0          106.0   \n",
       "7990            2.25           56.0           73.0          111.0   \n",
       "7996            2.10           58.0           80.0          121.0   \n",
       "8000            2.15           68.0           93.0          148.0   \n",
       "\n",
       "      median_Bilirubin Total  median_Creatinine  median_ETCO2  median_FiO2  \\\n",
       "0                      0.770              2.135         38.70         36.0   \n",
       "11                     0.180              3.210         39.90         43.0   \n",
       "20                     0.550              0.660         33.90         45.0   \n",
       "26                     0.415              1.335         34.19         35.0   \n",
       "29                     0.230              0.820         38.00         40.0   \n",
       "...                      ...                ...           ...          ...   \n",
       "7982                   3.300              0.980         36.00         43.0   \n",
       "7989                   3.120              5.770         40.00         45.0   \n",
       "7990                   3.870              1.185         31.31         40.0   \n",
       "7996                   4.390              1.070         37.00         45.0   \n",
       "8000                   1.495              0.655         33.00         35.0   \n",
       "\n",
       "      median_GlucoseABG  median_HCO3  ...  count_PotassiumABG  count_PT-INR  \\\n",
       "0                 117.0         20.4  ...                19.0           4.0   \n",
       "11                115.0         21.0  ...                15.0           1.0   \n",
       "20                133.0         29.0  ...                14.0           2.0   \n",
       "26                142.5         24.4  ...                15.0           2.0   \n",
       "29                147.0         35.3  ...                13.0           4.0   \n",
       "...                 ...          ...  ...                 ...           ...   \n",
       "7982              131.5         27.8  ...                23.0           4.0   \n",
       "7989              151.0         21.7  ...                23.0          14.0   \n",
       "7990              149.0         27.2  ...                17.0           1.0   \n",
       "7996              121.5         25.9  ...                18.0           4.0   \n",
       "8000              125.5         25.3  ...                15.0           0.0   \n",
       "\n",
       "      count_RR  count_SaturationPulse  count_SuctionsPerDay  count_Temp  \\\n",
       "0        829.0                  777.0                   1.0       743.0   \n",
       "11       839.0                  752.0                   5.0       830.0   \n",
       "20       130.0                  750.0                   5.0       714.0   \n",
       "26       821.0                  731.0                   2.0       792.0   \n",
       "29       840.0                  740.0                   5.0       826.0   \n",
       "...        ...                    ...                   ...         ...   \n",
       "7982      38.0                  699.0                   0.0       797.0   \n",
       "7989     738.0                  813.0                   1.0       839.0   \n",
       "7990     798.0                  714.0                   2.0       795.0   \n",
       "7996     802.0                  785.0                   4.0       800.0   \n",
       "8000     822.0                  789.0                   2.0       803.0   \n",
       "\n",
       "      count_TotalMinuteVolume  count_Urea  count_VTsetting  count_WCC  \n",
       "0                       829.0        10.0            833.0       11.0  \n",
       "11                      839.0        13.0            847.0       11.0  \n",
       "20                        4.0        12.0             24.0       12.0  \n",
       "26                      821.0        12.0            828.0       14.0  \n",
       "29                      840.0        11.0            844.0       13.0  \n",
       "...                       ...         ...              ...        ...  \n",
       "7982                     18.0        13.0             37.0       15.0  \n",
       "7989                    740.0        14.0            742.0       16.0  \n",
       "7990                    818.0        10.0           6843.0       10.0  \n",
       "7996                    637.0         9.0           1460.0       13.0  \n",
       "8000                    784.0         6.0              0.0        8.0  \n",
       "\n",
       "[729 rows x 186 columns]"
      ]
     },
     "execution_count": 25,
     "metadata": {},
     "output_type": "execute_result"
    }
   ],
   "source": [
    "numeric_df.time = pd.to_datetime(numeric_df.time)\n",
    "numeric_feature_list = []\n",
    "for i, key in enumerate(numeric_df[\"key\"].unique()):\n",
    "    temp_patient = numeric_df[numeric_df.key == key]\n",
    "    temp_patient = temp_patient.sort_values(\"time\")\n",
    "    try:\n",
    "        start_date = temp_patient[~temp_patient[\"ETCO2\"].isnull()].iloc[0][\"time\"]\n",
    "    except IndexError:\n",
    "        print(key)\n",
    "        continue\n",
    "    end_date = start_date + timedelta(days=5)\n",
    "    etc_period_dict[key] = (start_date, end_date)\n",
    "    temp_patient = temp_patient[(temp_patient[\"time\"] > start_date) & (temp_patient[\"time\"] < end_date)]\n",
    "    features = calc_simple_numerical_features(temp_patient)\n",
    "    features.name = key\n",
    "    numeric_feature_list.append(features)\n",
    "all_numeric_feature_list = pd.DataFrame(numeric_feature_list)\n",
    "all_numeric_feature_list"
   ]
  },
  {
   "cell_type": "code",
   "execution_count": 35,
   "metadata": {
    "collapsed": true
   },
   "outputs": [
    {
     "name": "stderr",
     "output_type": "stream",
     "text": [
      "C:\\ProgramData\\Anaconda3\\envs\\dandush\\lib\\site-packages\\numpy\\lib\\function_base.py:3405: RuntimeWarning: All-NaN slice encountered\n",
      "  r = func(a, **kwargs)\n"
     ]
    },
    {
     "data": {
      "text/html": [
       "<div>\n",
       "<style scoped>\n",
       "    .dataframe tbody tr th:only-of-type {\n",
       "        vertical-align: middle;\n",
       "    }\n",
       "\n",
       "    .dataframe tbody tr th {\n",
       "        vertical-align: top;\n",
       "    }\n",
       "\n",
       "    .dataframe thead th {\n",
       "        text-align: right;\n",
       "    }\n",
       "</style>\n",
       "<table border=\"1\" class=\"dataframe\">\n",
       "  <thead>\n",
       "    <tr style=\"text-align: right;\">\n",
       "      <th></th>\n",
       "      <th>median_CCPOT</th>\n",
       "      <th>median_GCS_SOFA</th>\n",
       "      <th>median_PaO2_FiO2_SOFA</th>\n",
       "      <th>median_RASS</th>\n",
       "      <th>min_max_CCPOT</th>\n",
       "      <th>min_max_GCS_SOFA</th>\n",
       "      <th>min_max_PaO2_FiO2_SOFA</th>\n",
       "      <th>min_max_RASS</th>\n",
       "      <th>std_CCPOT</th>\n",
       "      <th>std_GCS_SOFA</th>\n",
       "      <th>...</th>\n",
       "      <th>min_PaO2_FiO2_SOFA</th>\n",
       "      <th>min_RASS</th>\n",
       "      <th>max_CCPOT</th>\n",
       "      <th>max_GCS_SOFA</th>\n",
       "      <th>max_PaO2_FiO2_SOFA</th>\n",
       "      <th>max_RASS</th>\n",
       "      <th>count_CCPOT</th>\n",
       "      <th>count_GCS_SOFA</th>\n",
       "      <th>count_PaO2_FiO2_SOFA</th>\n",
       "      <th>count_RASS</th>\n",
       "    </tr>\n",
       "  </thead>\n",
       "  <tbody>\n",
       "    <tr>\n",
       "      <td>0</td>\n",
       "      <td>2.0</td>\n",
       "      <td>4.0</td>\n",
       "      <td>1.0</td>\n",
       "      <td>-3.0</td>\n",
       "      <td>2.0</td>\n",
       "      <td>1.0</td>\n",
       "      <td>1.0</td>\n",
       "      <td>0.250000</td>\n",
       "      <td>0.500000</td>\n",
       "      <td>NaN</td>\n",
       "      <td>...</td>\n",
       "      <td>1.0</td>\n",
       "      <td>-4.0</td>\n",
       "      <td>2.0</td>\n",
       "      <td>4.0</td>\n",
       "      <td>1.0</td>\n",
       "      <td>-1.0</td>\n",
       "      <td>4.0</td>\n",
       "      <td>1.0</td>\n",
       "      <td>1.0</td>\n",
       "      <td>5.0</td>\n",
       "    </tr>\n",
       "    <tr>\n",
       "      <td>11</td>\n",
       "      <td>3.0</td>\n",
       "      <td>4.0</td>\n",
       "      <td>1.0</td>\n",
       "      <td>-3.0</td>\n",
       "      <td>inf</td>\n",
       "      <td>1.0</td>\n",
       "      <td>1.0</td>\n",
       "      <td>-0.250000</td>\n",
       "      <td>1.925001</td>\n",
       "      <td>0.0</td>\n",
       "      <td>...</td>\n",
       "      <td>1.0</td>\n",
       "      <td>-4.0</td>\n",
       "      <td>5.0</td>\n",
       "      <td>4.0</td>\n",
       "      <td>1.0</td>\n",
       "      <td>1.0</td>\n",
       "      <td>22.0</td>\n",
       "      <td>2.0</td>\n",
       "      <td>2.0</td>\n",
       "      <td>25.0</td>\n",
       "    </tr>\n",
       "    <tr>\n",
       "      <td>20</td>\n",
       "      <td>0.0</td>\n",
       "      <td>4.0</td>\n",
       "      <td>1.0</td>\n",
       "      <td>0.0</td>\n",
       "      <td>NaN</td>\n",
       "      <td>1.0</td>\n",
       "      <td>1.0</td>\n",
       "      <td>-0.000000</td>\n",
       "      <td>0.000000</td>\n",
       "      <td>0.0</td>\n",
       "      <td>...</td>\n",
       "      <td>1.0</td>\n",
       "      <td>-3.0</td>\n",
       "      <td>0.0</td>\n",
       "      <td>4.0</td>\n",
       "      <td>1.0</td>\n",
       "      <td>0.0</td>\n",
       "      <td>4.0</td>\n",
       "      <td>2.0</td>\n",
       "      <td>2.0</td>\n",
       "      <td>28.0</td>\n",
       "    </tr>\n",
       "    <tr>\n",
       "      <td>26</td>\n",
       "      <td>0.0</td>\n",
       "      <td>4.0</td>\n",
       "      <td>1.0</td>\n",
       "      <td>-4.0</td>\n",
       "      <td>inf</td>\n",
       "      <td>1.0</td>\n",
       "      <td>1.0</td>\n",
       "      <td>0.750000</td>\n",
       "      <td>1.032796</td>\n",
       "      <td>0.0</td>\n",
       "      <td>...</td>\n",
       "      <td>1.0</td>\n",
       "      <td>-4.0</td>\n",
       "      <td>2.0</td>\n",
       "      <td>4.0</td>\n",
       "      <td>1.0</td>\n",
       "      <td>-3.0</td>\n",
       "      <td>6.0</td>\n",
       "      <td>4.0</td>\n",
       "      <td>4.0</td>\n",
       "      <td>6.0</td>\n",
       "    </tr>\n",
       "    <tr>\n",
       "      <td>29</td>\n",
       "      <td>1.0</td>\n",
       "      <td>4.0</td>\n",
       "      <td>1.0</td>\n",
       "      <td>-3.0</td>\n",
       "      <td>inf</td>\n",
       "      <td>1.0</td>\n",
       "      <td>1.0</td>\n",
       "      <td>0.500000</td>\n",
       "      <td>1.380004</td>\n",
       "      <td>0.0</td>\n",
       "      <td>...</td>\n",
       "      <td>1.0</td>\n",
       "      <td>-4.0</td>\n",
       "      <td>5.0</td>\n",
       "      <td>4.0</td>\n",
       "      <td>1.0</td>\n",
       "      <td>-2.0</td>\n",
       "      <td>17.0</td>\n",
       "      <td>2.0</td>\n",
       "      <td>2.0</td>\n",
       "      <td>28.0</td>\n",
       "    </tr>\n",
       "    <tr>\n",
       "      <td>...</td>\n",
       "      <td>...</td>\n",
       "      <td>...</td>\n",
       "      <td>...</td>\n",
       "      <td>...</td>\n",
       "      <td>...</td>\n",
       "      <td>...</td>\n",
       "      <td>...</td>\n",
       "      <td>...</td>\n",
       "      <td>...</td>\n",
       "      <td>...</td>\n",
       "      <td>...</td>\n",
       "      <td>...</td>\n",
       "      <td>...</td>\n",
       "      <td>...</td>\n",
       "      <td>...</td>\n",
       "      <td>...</td>\n",
       "      <td>...</td>\n",
       "      <td>...</td>\n",
       "      <td>...</td>\n",
       "      <td>...</td>\n",
       "      <td>...</td>\n",
       "    </tr>\n",
       "    <tr>\n",
       "      <td>2988</td>\n",
       "      <td>NaN</td>\n",
       "      <td>4.0</td>\n",
       "      <td>1.0</td>\n",
       "      <td>-1.0</td>\n",
       "      <td>NaN</td>\n",
       "      <td>1.0</td>\n",
       "      <td>1.0</td>\n",
       "      <td>-0.333333</td>\n",
       "      <td>NaN</td>\n",
       "      <td>NaN</td>\n",
       "      <td>...</td>\n",
       "      <td>1.0</td>\n",
       "      <td>-3.0</td>\n",
       "      <td>NaN</td>\n",
       "      <td>4.0</td>\n",
       "      <td>1.0</td>\n",
       "      <td>1.0</td>\n",
       "      <td>0.0</td>\n",
       "      <td>1.0</td>\n",
       "      <td>1.0</td>\n",
       "      <td>22.0</td>\n",
       "    </tr>\n",
       "    <tr>\n",
       "      <td>3124</td>\n",
       "      <td>NaN</td>\n",
       "      <td>4.0</td>\n",
       "      <td>1.0</td>\n",
       "      <td>NaN</td>\n",
       "      <td>NaN</td>\n",
       "      <td>1.0</td>\n",
       "      <td>1.0</td>\n",
       "      <td>NaN</td>\n",
       "      <td>NaN</td>\n",
       "      <td>0.0</td>\n",
       "      <td>...</td>\n",
       "      <td>1.0</td>\n",
       "      <td>NaN</td>\n",
       "      <td>NaN</td>\n",
       "      <td>4.0</td>\n",
       "      <td>1.0</td>\n",
       "      <td>NaN</td>\n",
       "      <td>0.0</td>\n",
       "      <td>3.0</td>\n",
       "      <td>3.0</td>\n",
       "      <td>0.0</td>\n",
       "    </tr>\n",
       "    <tr>\n",
       "      <td>3167</td>\n",
       "      <td>NaN</td>\n",
       "      <td>4.0</td>\n",
       "      <td>1.0</td>\n",
       "      <td>-2.0</td>\n",
       "      <td>NaN</td>\n",
       "      <td>1.0</td>\n",
       "      <td>1.0</td>\n",
       "      <td>-0.666667</td>\n",
       "      <td>NaN</td>\n",
       "      <td>0.0</td>\n",
       "      <td>...</td>\n",
       "      <td>1.0</td>\n",
       "      <td>-3.0</td>\n",
       "      <td>NaN</td>\n",
       "      <td>4.0</td>\n",
       "      <td>1.0</td>\n",
       "      <td>2.0</td>\n",
       "      <td>0.0</td>\n",
       "      <td>5.0</td>\n",
       "      <td>5.0</td>\n",
       "      <td>5.0</td>\n",
       "    </tr>\n",
       "    <tr>\n",
       "      <td>4034</td>\n",
       "      <td>NaN</td>\n",
       "      <td>1.0</td>\n",
       "      <td>1.0</td>\n",
       "      <td>-4.0</td>\n",
       "      <td>NaN</td>\n",
       "      <td>1.0</td>\n",
       "      <td>1.0</td>\n",
       "      <td>0.750000</td>\n",
       "      <td>NaN</td>\n",
       "      <td>0.0</td>\n",
       "      <td>...</td>\n",
       "      <td>1.0</td>\n",
       "      <td>-4.0</td>\n",
       "      <td>NaN</td>\n",
       "      <td>1.0</td>\n",
       "      <td>1.0</td>\n",
       "      <td>-3.0</td>\n",
       "      <td>0.0</td>\n",
       "      <td>3.0</td>\n",
       "      <td>3.0</td>\n",
       "      <td>14.0</td>\n",
       "    </tr>\n",
       "    <tr>\n",
       "      <td>6179</td>\n",
       "      <td>NaN</td>\n",
       "      <td>NaN</td>\n",
       "      <td>NaN</td>\n",
       "      <td>0.0</td>\n",
       "      <td>NaN</td>\n",
       "      <td>NaN</td>\n",
       "      <td>NaN</td>\n",
       "      <td>inf</td>\n",
       "      <td>NaN</td>\n",
       "      <td>NaN</td>\n",
       "      <td>...</td>\n",
       "      <td>NaN</td>\n",
       "      <td>0.0</td>\n",
       "      <td>NaN</td>\n",
       "      <td>NaN</td>\n",
       "      <td>NaN</td>\n",
       "      <td>1.0</td>\n",
       "      <td>0.0</td>\n",
       "      <td>0.0</td>\n",
       "      <td>0.0</td>\n",
       "      <td>6.0</td>\n",
       "    </tr>\n",
       "  </tbody>\n",
       "</table>\n",
       "<p>710 rows × 24 columns</p>\n",
       "</div>"
      ],
      "text/plain": [
       "      median_CCPOT  median_GCS_SOFA  median_PaO2_FiO2_SOFA  median_RASS  \\\n",
       "0              2.0              4.0                    1.0         -3.0   \n",
       "11             3.0              4.0                    1.0         -3.0   \n",
       "20             0.0              4.0                    1.0          0.0   \n",
       "26             0.0              4.0                    1.0         -4.0   \n",
       "29             1.0              4.0                    1.0         -3.0   \n",
       "...            ...              ...                    ...          ...   \n",
       "2988           NaN              4.0                    1.0         -1.0   \n",
       "3124           NaN              4.0                    1.0          NaN   \n",
       "3167           NaN              4.0                    1.0         -2.0   \n",
       "4034           NaN              1.0                    1.0         -4.0   \n",
       "6179           NaN              NaN                    NaN          0.0   \n",
       "\n",
       "      min_max_CCPOT  min_max_GCS_SOFA  min_max_PaO2_FiO2_SOFA  min_max_RASS  \\\n",
       "0               2.0               1.0                     1.0      0.250000   \n",
       "11              inf               1.0                     1.0     -0.250000   \n",
       "20              NaN               1.0                     1.0     -0.000000   \n",
       "26              inf               1.0                     1.0      0.750000   \n",
       "29              inf               1.0                     1.0      0.500000   \n",
       "...             ...               ...                     ...           ...   \n",
       "2988            NaN               1.0                     1.0     -0.333333   \n",
       "3124            NaN               1.0                     1.0           NaN   \n",
       "3167            NaN               1.0                     1.0     -0.666667   \n",
       "4034            NaN               1.0                     1.0      0.750000   \n",
       "6179            NaN               NaN                     NaN           inf   \n",
       "\n",
       "      std_CCPOT  std_GCS_SOFA  ...  min_PaO2_FiO2_SOFA  min_RASS  max_CCPOT  \\\n",
       "0      0.500000           NaN  ...                 1.0      -4.0        2.0   \n",
       "11     1.925001           0.0  ...                 1.0      -4.0        5.0   \n",
       "20     0.000000           0.0  ...                 1.0      -3.0        0.0   \n",
       "26     1.032796           0.0  ...                 1.0      -4.0        2.0   \n",
       "29     1.380004           0.0  ...                 1.0      -4.0        5.0   \n",
       "...         ...           ...  ...                 ...       ...        ...   \n",
       "2988        NaN           NaN  ...                 1.0      -3.0        NaN   \n",
       "3124        NaN           0.0  ...                 1.0       NaN        NaN   \n",
       "3167        NaN           0.0  ...                 1.0      -3.0        NaN   \n",
       "4034        NaN           0.0  ...                 1.0      -4.0        NaN   \n",
       "6179        NaN           NaN  ...                 NaN       0.0        NaN   \n",
       "\n",
       "      max_GCS_SOFA  max_PaO2_FiO2_SOFA  max_RASS  count_CCPOT  count_GCS_SOFA  \\\n",
       "0              4.0                 1.0      -1.0          4.0             1.0   \n",
       "11             4.0                 1.0       1.0         22.0             2.0   \n",
       "20             4.0                 1.0       0.0          4.0             2.0   \n",
       "26             4.0                 1.0      -3.0          6.0             4.0   \n",
       "29             4.0                 1.0      -2.0         17.0             2.0   \n",
       "...            ...                 ...       ...          ...             ...   \n",
       "2988           4.0                 1.0       1.0          0.0             1.0   \n",
       "3124           4.0                 1.0       NaN          0.0             3.0   \n",
       "3167           4.0                 1.0       2.0          0.0             5.0   \n",
       "4034           1.0                 1.0      -3.0          0.0             3.0   \n",
       "6179           NaN                 NaN       1.0          0.0             0.0   \n",
       "\n",
       "      count_PaO2_FiO2_SOFA  count_RASS  \n",
       "0                      1.0         5.0  \n",
       "11                     2.0        25.0  \n",
       "20                     2.0        28.0  \n",
       "26                     4.0         6.0  \n",
       "29                     2.0        28.0  \n",
       "...                    ...         ...  \n",
       "2988                   1.0        22.0  \n",
       "3124                   3.0         0.0  \n",
       "3167                   5.0         5.0  \n",
       "4034                   3.0        14.0  \n",
       "6179                   0.0         6.0  \n",
       "\n",
       "[710 rows x 24 columns]"
      ]
     },
     "execution_count": 35,
     "metadata": {},
     "output_type": "execute_result"
    }
   ],
   "source": [
    "ordinal_df.time = pd.to_datetime(ordinal_df.time)\n",
    "ordinal_feature_list = []\n",
    "for i, key in enumerate(ordinal_df[\"key\"].unique()):\n",
    "    \n",
    "    temp_patient = ordinal_df[ordinal_df.key == key]\n",
    "    \n",
    "    temp_patient = temp_patient.sort_values(\"time\")\n",
    "    temp_patient = temp_patient[(temp_patient[\"time\"] > etc_period_dict[key][0]) & (temp_patient[\"time\"] < etc_period_dict[key][1])]\n",
    "    try:\n",
    "        features = calc_simple_numerical_features(temp_patient, col_list=ORDINAL_COLS)\n",
    "        features.name = key\n",
    "        ordinal_feature_list.append(features)\n",
    "    except IndexError:\n",
    "        continue\n",
    "        \n",
    "all_ordinal_feature_list = pd.DataFrame(ordinal_feature_list)\n",
    "all_ordinal_feature_list"
   ]
  },
  {
   "cell_type": "code",
   "execution_count": 38,
   "metadata": {
    "collapsed": true
   },
   "outputs": [
    {
     "name": "stderr",
     "output_type": "stream",
     "text": [
      "C:\\ProgramData\\Anaconda3\\envs\\dandush\\lib\\site-packages\\ipykernel_launcher.py:10: FutureWarning: Sorting because non-concatenation axis is not aligned. A future version\n",
      "of pandas will change to not sort by default.\n",
      "\n",
      "To accept the future behavior, pass 'sort=False'.\n",
      "\n",
      "To retain the current behavior and silence the warning, pass 'sort=True'.\n",
      "\n",
      "  # Remove the CWD from sys.path while we load stuff.\n"
     ]
    },
    {
     "data": {
      "text/html": [
       "<div>\n",
       "<style scoped>\n",
       "    .dataframe tbody tr th:only-of-type {\n",
       "        vertical-align: middle;\n",
       "    }\n",
       "\n",
       "    .dataframe tbody tr th {\n",
       "        vertical-align: top;\n",
       "    }\n",
       "\n",
       "    .dataframe thead th {\n",
       "        text-align: right;\n",
       "    }\n",
       "</style>\n",
       "<table border=\"1\" class=\"dataframe\">\n",
       "  <thead>\n",
       "    <tr style=\"text-align: right;\">\n",
       "      <th></th>\n",
       "      <th>Consciousness_coma</th>\n",
       "      <th>Consciousness_confused</th>\n",
       "      <th>Consciousness_conscious</th>\n",
       "      <th>Consciousness_delirium</th>\n",
       "      <th>Consciousness_fluctuated</th>\n",
       "      <th>Consciousness_obtunded</th>\n",
       "      <th>Consciousness_stupor</th>\n",
       "      <th>Consciousness_unconscious</th>\n",
       "      <th>Consciousness_under_anesthesia</th>\n",
       "      <th>MucusState_ambu_saline</th>\n",
       "      <th>...</th>\n",
       "      <th>PaO2_FiO2_Ventilated_SOFA_ventilated</th>\n",
       "      <th>RespiratoryTherapy_cough_encouragement</th>\n",
       "      <th>RespiratoryTherapy_couging</th>\n",
       "      <th>RespiratoryTherapy_expirium1-triflow</th>\n",
       "      <th>RespiratoryTherapy_expirium2-triflow</th>\n",
       "      <th>RespiratoryTherapy_inspirium1-triflow</th>\n",
       "      <th>RespiratoryTherapy_inspirium2-triflow</th>\n",
       "      <th>RespiratoryTherapy_other</th>\n",
       "      <th>RespiratoryTherapy_respiratory_exercise</th>\n",
       "      <th>RespiratoryTherapy_suction</th>\n",
       "    </tr>\n",
       "    <tr>\n",
       "      <th>key</th>\n",
       "      <th></th>\n",
       "      <th></th>\n",
       "      <th></th>\n",
       "      <th></th>\n",
       "      <th></th>\n",
       "      <th></th>\n",
       "      <th></th>\n",
       "      <th></th>\n",
       "      <th></th>\n",
       "      <th></th>\n",
       "      <th></th>\n",
       "      <th></th>\n",
       "      <th></th>\n",
       "      <th></th>\n",
       "      <th></th>\n",
       "      <th></th>\n",
       "      <th></th>\n",
       "      <th></th>\n",
       "      <th></th>\n",
       "      <th></th>\n",
       "      <th></th>\n",
       "    </tr>\n",
       "  </thead>\n",
       "  <tbody>\n",
       "    <tr>\n",
       "      <td>0</td>\n",
       "      <td>1.0</td>\n",
       "      <td>NaN</td>\n",
       "      <td>1.0</td>\n",
       "      <td>NaN</td>\n",
       "      <td>NaN</td>\n",
       "      <td>1.0</td>\n",
       "      <td>NaN</td>\n",
       "      <td>NaN</td>\n",
       "      <td>1.0</td>\n",
       "      <td>NaN</td>\n",
       "      <td>...</td>\n",
       "      <td>NaN</td>\n",
       "      <td>NaN</td>\n",
       "      <td>NaN</td>\n",
       "      <td>NaN</td>\n",
       "      <td>NaN</td>\n",
       "      <td>NaN</td>\n",
       "      <td>NaN</td>\n",
       "      <td>NaN</td>\n",
       "      <td>NaN</td>\n",
       "      <td>1.0</td>\n",
       "    </tr>\n",
       "    <tr>\n",
       "      <td>11</td>\n",
       "      <td>1.0</td>\n",
       "      <td>NaN</td>\n",
       "      <td>NaN</td>\n",
       "      <td>NaN</td>\n",
       "      <td>NaN</td>\n",
       "      <td>1.0</td>\n",
       "      <td>NaN</td>\n",
       "      <td>NaN</td>\n",
       "      <td>1.0</td>\n",
       "      <td>NaN</td>\n",
       "      <td>...</td>\n",
       "      <td>NaN</td>\n",
       "      <td>NaN</td>\n",
       "      <td>NaN</td>\n",
       "      <td>NaN</td>\n",
       "      <td>NaN</td>\n",
       "      <td>NaN</td>\n",
       "      <td>NaN</td>\n",
       "      <td>NaN</td>\n",
       "      <td>NaN</td>\n",
       "      <td>1.0</td>\n",
       "    </tr>\n",
       "    <tr>\n",
       "      <td>20</td>\n",
       "      <td>1.0</td>\n",
       "      <td>NaN</td>\n",
       "      <td>1.0</td>\n",
       "      <td>NaN</td>\n",
       "      <td>NaN</td>\n",
       "      <td>1.0</td>\n",
       "      <td>NaN</td>\n",
       "      <td>NaN</td>\n",
       "      <td>1.0</td>\n",
       "      <td>1.0</td>\n",
       "      <td>...</td>\n",
       "      <td>NaN</td>\n",
       "      <td>1.0</td>\n",
       "      <td>NaN</td>\n",
       "      <td>NaN</td>\n",
       "      <td>NaN</td>\n",
       "      <td>NaN</td>\n",
       "      <td>NaN</td>\n",
       "      <td>NaN</td>\n",
       "      <td>NaN</td>\n",
       "      <td>1.0</td>\n",
       "    </tr>\n",
       "    <tr>\n",
       "      <td>26</td>\n",
       "      <td>1.0</td>\n",
       "      <td>NaN</td>\n",
       "      <td>NaN</td>\n",
       "      <td>NaN</td>\n",
       "      <td>NaN</td>\n",
       "      <td>1.0</td>\n",
       "      <td>NaN</td>\n",
       "      <td>NaN</td>\n",
       "      <td>1.0</td>\n",
       "      <td>NaN</td>\n",
       "      <td>...</td>\n",
       "      <td>NaN</td>\n",
       "      <td>NaN</td>\n",
       "      <td>NaN</td>\n",
       "      <td>NaN</td>\n",
       "      <td>NaN</td>\n",
       "      <td>NaN</td>\n",
       "      <td>NaN</td>\n",
       "      <td>NaN</td>\n",
       "      <td>NaN</td>\n",
       "      <td>1.0</td>\n",
       "    </tr>\n",
       "    <tr>\n",
       "      <td>29</td>\n",
       "      <td>1.0</td>\n",
       "      <td>NaN</td>\n",
       "      <td>1.0</td>\n",
       "      <td>NaN</td>\n",
       "      <td>NaN</td>\n",
       "      <td>1.0</td>\n",
       "      <td>NaN</td>\n",
       "      <td>NaN</td>\n",
       "      <td>1.0</td>\n",
       "      <td>NaN</td>\n",
       "      <td>...</td>\n",
       "      <td>NaN</td>\n",
       "      <td>NaN</td>\n",
       "      <td>NaN</td>\n",
       "      <td>NaN</td>\n",
       "      <td>NaN</td>\n",
       "      <td>NaN</td>\n",
       "      <td>NaN</td>\n",
       "      <td>NaN</td>\n",
       "      <td>1.0</td>\n",
       "      <td>1.0</td>\n",
       "    </tr>\n",
       "    <tr>\n",
       "      <td>...</td>\n",
       "      <td>...</td>\n",
       "      <td>...</td>\n",
       "      <td>...</td>\n",
       "      <td>...</td>\n",
       "      <td>...</td>\n",
       "      <td>...</td>\n",
       "      <td>...</td>\n",
       "      <td>...</td>\n",
       "      <td>...</td>\n",
       "      <td>...</td>\n",
       "      <td>...</td>\n",
       "      <td>...</td>\n",
       "      <td>...</td>\n",
       "      <td>...</td>\n",
       "      <td>...</td>\n",
       "      <td>...</td>\n",
       "      <td>...</td>\n",
       "      <td>...</td>\n",
       "      <td>...</td>\n",
       "      <td>...</td>\n",
       "      <td>...</td>\n",
       "    </tr>\n",
       "    <tr>\n",
       "      <td>7982</td>\n",
       "      <td>1.0</td>\n",
       "      <td>NaN</td>\n",
       "      <td>NaN</td>\n",
       "      <td>NaN</td>\n",
       "      <td>NaN</td>\n",
       "      <td>NaN</td>\n",
       "      <td>NaN</td>\n",
       "      <td>NaN</td>\n",
       "      <td>NaN</td>\n",
       "      <td>NaN</td>\n",
       "      <td>...</td>\n",
       "      <td>NaN</td>\n",
       "      <td>NaN</td>\n",
       "      <td>NaN</td>\n",
       "      <td>NaN</td>\n",
       "      <td>NaN</td>\n",
       "      <td>NaN</td>\n",
       "      <td>NaN</td>\n",
       "      <td>NaN</td>\n",
       "      <td>NaN</td>\n",
       "      <td>NaN</td>\n",
       "    </tr>\n",
       "    <tr>\n",
       "      <td>7989</td>\n",
       "      <td>NaN</td>\n",
       "      <td>NaN</td>\n",
       "      <td>NaN</td>\n",
       "      <td>NaN</td>\n",
       "      <td>NaN</td>\n",
       "      <td>NaN</td>\n",
       "      <td>NaN</td>\n",
       "      <td>NaN</td>\n",
       "      <td>1.0</td>\n",
       "      <td>NaN</td>\n",
       "      <td>...</td>\n",
       "      <td>NaN</td>\n",
       "      <td>NaN</td>\n",
       "      <td>NaN</td>\n",
       "      <td>NaN</td>\n",
       "      <td>NaN</td>\n",
       "      <td>NaN</td>\n",
       "      <td>NaN</td>\n",
       "      <td>NaN</td>\n",
       "      <td>NaN</td>\n",
       "      <td>1.0</td>\n",
       "    </tr>\n",
       "    <tr>\n",
       "      <td>7990</td>\n",
       "      <td>1.0</td>\n",
       "      <td>NaN</td>\n",
       "      <td>NaN</td>\n",
       "      <td>NaN</td>\n",
       "      <td>NaN</td>\n",
       "      <td>NaN</td>\n",
       "      <td>NaN</td>\n",
       "      <td>NaN</td>\n",
       "      <td>1.0</td>\n",
       "      <td>NaN</td>\n",
       "      <td>...</td>\n",
       "      <td>NaN</td>\n",
       "      <td>NaN</td>\n",
       "      <td>NaN</td>\n",
       "      <td>NaN</td>\n",
       "      <td>NaN</td>\n",
       "      <td>NaN</td>\n",
       "      <td>NaN</td>\n",
       "      <td>NaN</td>\n",
       "      <td>NaN</td>\n",
       "      <td>1.0</td>\n",
       "    </tr>\n",
       "    <tr>\n",
       "      <td>7996</td>\n",
       "      <td>1.0</td>\n",
       "      <td>NaN</td>\n",
       "      <td>NaN</td>\n",
       "      <td>NaN</td>\n",
       "      <td>NaN</td>\n",
       "      <td>NaN</td>\n",
       "      <td>NaN</td>\n",
       "      <td>NaN</td>\n",
       "      <td>1.0</td>\n",
       "      <td>NaN</td>\n",
       "      <td>...</td>\n",
       "      <td>NaN</td>\n",
       "      <td>NaN</td>\n",
       "      <td>NaN</td>\n",
       "      <td>NaN</td>\n",
       "      <td>NaN</td>\n",
       "      <td>NaN</td>\n",
       "      <td>NaN</td>\n",
       "      <td>NaN</td>\n",
       "      <td>NaN</td>\n",
       "      <td>1.0</td>\n",
       "    </tr>\n",
       "    <tr>\n",
       "      <td>8000</td>\n",
       "      <td>1.0</td>\n",
       "      <td>NaN</td>\n",
       "      <td>NaN</td>\n",
       "      <td>NaN</td>\n",
       "      <td>NaN</td>\n",
       "      <td>1.0</td>\n",
       "      <td>NaN</td>\n",
       "      <td>NaN</td>\n",
       "      <td>1.0</td>\n",
       "      <td>NaN</td>\n",
       "      <td>...</td>\n",
       "      <td>NaN</td>\n",
       "      <td>NaN</td>\n",
       "      <td>NaN</td>\n",
       "      <td>NaN</td>\n",
       "      <td>NaN</td>\n",
       "      <td>NaN</td>\n",
       "      <td>NaN</td>\n",
       "      <td>NaN</td>\n",
       "      <td>NaN</td>\n",
       "      <td>1.0</td>\n",
       "    </tr>\n",
       "  </tbody>\n",
       "</table>\n",
       "<p>659 rows × 29 columns</p>\n",
       "</div>"
      ],
      "text/plain": [
       "      Consciousness_coma  Consciousness_confused  Consciousness_conscious  \\\n",
       "key                                                                         \n",
       "0                    1.0                     NaN                      1.0   \n",
       "11                   1.0                     NaN                      NaN   \n",
       "20                   1.0                     NaN                      1.0   \n",
       "26                   1.0                     NaN                      NaN   \n",
       "29                   1.0                     NaN                      1.0   \n",
       "...                  ...                     ...                      ...   \n",
       "7982                 1.0                     NaN                      NaN   \n",
       "7989                 NaN                     NaN                      NaN   \n",
       "7990                 1.0                     NaN                      NaN   \n",
       "7996                 1.0                     NaN                      NaN   \n",
       "8000                 1.0                     NaN                      NaN   \n",
       "\n",
       "      Consciousness_delirium  Consciousness_fluctuated  \\\n",
       "key                                                      \n",
       "0                        NaN                       NaN   \n",
       "11                       NaN                       NaN   \n",
       "20                       NaN                       NaN   \n",
       "26                       NaN                       NaN   \n",
       "29                       NaN                       NaN   \n",
       "...                      ...                       ...   \n",
       "7982                     NaN                       NaN   \n",
       "7989                     NaN                       NaN   \n",
       "7990                     NaN                       NaN   \n",
       "7996                     NaN                       NaN   \n",
       "8000                     NaN                       NaN   \n",
       "\n",
       "      Consciousness_obtunded  Consciousness_stupor  Consciousness_unconscious  \\\n",
       "key                                                                             \n",
       "0                        1.0                   NaN                        NaN   \n",
       "11                       1.0                   NaN                        NaN   \n",
       "20                       1.0                   NaN                        NaN   \n",
       "26                       1.0                   NaN                        NaN   \n",
       "29                       1.0                   NaN                        NaN   \n",
       "...                      ...                   ...                        ...   \n",
       "7982                     NaN                   NaN                        NaN   \n",
       "7989                     NaN                   NaN                        NaN   \n",
       "7990                     NaN                   NaN                        NaN   \n",
       "7996                     NaN                   NaN                        NaN   \n",
       "8000                     1.0                   NaN                        NaN   \n",
       "\n",
       "      Consciousness_under_anesthesia  MucusState_ambu_saline  ...  \\\n",
       "key                                                           ...   \n",
       "0                                1.0                     NaN  ...   \n",
       "11                               1.0                     NaN  ...   \n",
       "20                               1.0                     1.0  ...   \n",
       "26                               1.0                     NaN  ...   \n",
       "29                               1.0                     NaN  ...   \n",
       "...                              ...                     ...  ...   \n",
       "7982                             NaN                     NaN  ...   \n",
       "7989                             1.0                     NaN  ...   \n",
       "7990                             1.0                     NaN  ...   \n",
       "7996                             1.0                     NaN  ...   \n",
       "8000                             1.0                     NaN  ...   \n",
       "\n",
       "      PaO2_FiO2_Ventilated_SOFA_ventilated  \\\n",
       "key                                          \n",
       "0                                      NaN   \n",
       "11                                     NaN   \n",
       "20                                     NaN   \n",
       "26                                     NaN   \n",
       "29                                     NaN   \n",
       "...                                    ...   \n",
       "7982                                   NaN   \n",
       "7989                                   NaN   \n",
       "7990                                   NaN   \n",
       "7996                                   NaN   \n",
       "8000                                   NaN   \n",
       "\n",
       "      RespiratoryTherapy_cough_encouragement  RespiratoryTherapy_couging  \\\n",
       "key                                                                        \n",
       "0                                        NaN                         NaN   \n",
       "11                                       NaN                         NaN   \n",
       "20                                       1.0                         NaN   \n",
       "26                                       NaN                         NaN   \n",
       "29                                       NaN                         NaN   \n",
       "...                                      ...                         ...   \n",
       "7982                                     NaN                         NaN   \n",
       "7989                                     NaN                         NaN   \n",
       "7990                                     NaN                         NaN   \n",
       "7996                                     NaN                         NaN   \n",
       "8000                                     NaN                         NaN   \n",
       "\n",
       "      RespiratoryTherapy_expirium1-triflow  \\\n",
       "key                                          \n",
       "0                                      NaN   \n",
       "11                                     NaN   \n",
       "20                                     NaN   \n",
       "26                                     NaN   \n",
       "29                                     NaN   \n",
       "...                                    ...   \n",
       "7982                                   NaN   \n",
       "7989                                   NaN   \n",
       "7990                                   NaN   \n",
       "7996                                   NaN   \n",
       "8000                                   NaN   \n",
       "\n",
       "      RespiratoryTherapy_expirium2-triflow  \\\n",
       "key                                          \n",
       "0                                      NaN   \n",
       "11                                     NaN   \n",
       "20                                     NaN   \n",
       "26                                     NaN   \n",
       "29                                     NaN   \n",
       "...                                    ...   \n",
       "7982                                   NaN   \n",
       "7989                                   NaN   \n",
       "7990                                   NaN   \n",
       "7996                                   NaN   \n",
       "8000                                   NaN   \n",
       "\n",
       "      RespiratoryTherapy_inspirium1-triflow  \\\n",
       "key                                           \n",
       "0                                       NaN   \n",
       "11                                      NaN   \n",
       "20                                      NaN   \n",
       "26                                      NaN   \n",
       "29                                      NaN   \n",
       "...                                     ...   \n",
       "7982                                    NaN   \n",
       "7989                                    NaN   \n",
       "7990                                    NaN   \n",
       "7996                                    NaN   \n",
       "8000                                    NaN   \n",
       "\n",
       "      RespiratoryTherapy_inspirium2-triflow  RespiratoryTherapy_other  \\\n",
       "key                                                                     \n",
       "0                                       NaN                       NaN   \n",
       "11                                      NaN                       NaN   \n",
       "20                                      NaN                       NaN   \n",
       "26                                      NaN                       NaN   \n",
       "29                                      NaN                       NaN   \n",
       "...                                     ...                       ...   \n",
       "7982                                    NaN                       NaN   \n",
       "7989                                    NaN                       NaN   \n",
       "7990                                    NaN                       NaN   \n",
       "7996                                    NaN                       NaN   \n",
       "8000                                    NaN                       NaN   \n",
       "\n",
       "      RespiratoryTherapy_respiratory_exercise  RespiratoryTherapy_suction  \n",
       "key                                                                        \n",
       "0                                         NaN                         1.0  \n",
       "11                                        NaN                         1.0  \n",
       "20                                        NaN                         1.0  \n",
       "26                                        NaN                         1.0  \n",
       "29                                        1.0                         1.0  \n",
       "...                                       ...                         ...  \n",
       "7982                                      NaN                         NaN  \n",
       "7989                                      NaN                         1.0  \n",
       "7990                                      NaN                         1.0  \n",
       "7996                                      NaN                         1.0  \n",
       "8000                                      NaN                         1.0  \n",
       "\n",
       "[659 rows x 29 columns]"
      ]
     },
     "execution_count": 38,
     "metadata": {},
     "output_type": "execute_result"
    }
   ],
   "source": [
    "categorical_df.time = pd.to_datetime(categorical_df.time)\n",
    "categorical_feature_list = []\n",
    "for i, key in enumerate(categorical_df[\"key\"].unique()):\n",
    "    temp_patient = categorical_df[categorical_df.key == key]\n",
    "    temp_patient = temp_patient.sort_values(\"time\")\n",
    "    temp_patient = temp_patient[(temp_patient[\"time\"] > etc_period_dict[key][0]) & (temp_patient[\"time\"] < etc_period_dict[key][1])]\n",
    "    features = calc_simple_categorical_features(temp_patient)\n",
    "    features.name = key\n",
    "    categorical_feature_list.append(features)\n",
    "all_categorical_features= pd.concat(categorical_feature_list, axis=0)\n",
    "all_categorical_features"
   ]
  },
  {
   "cell_type": "code",
   "execution_count": 39,
   "metadata": {
    "scrolled": true
   },
   "outputs": [],
   "source": [
    "final_df = pd.merge(all_numeric_feature_list, all_categorical_features,left_index=True, right_index=True, how=\"left\")\n",
    "final_df = pd.merge(final_df, meta_df,left_index=True, right_index=True, how=\"left\")\n",
    "final_df = pd.merge(final_df, all_ordinal_feature_list,left_index=True, right_index=True, how=\"left\")\n",
    "final_df = final_df.replace({\"Gender\":{\"female\":True, \"male\":False}})\n",
    "dummies_df = pd.get_dummies(final_df[[\"OriginalDepartment\"]])\n",
    "final_df = pd.merge(final_df, dummies_df,left_index=True, right_index=True, how=\"left\")\n",
    "final_df = final_df.drop(columns=\"OriginalDepartment\")"
   ]
  },
  {
   "cell_type": "code",
   "execution_count": 40,
   "metadata": {
    "scrolled": true
   },
   "outputs": [],
   "source": [
    "final_df[\"labels\"] = labels[\"label_clf\"]\n",
    "final_df = final_df.replace([np.inf, -np.inf], np.nan)\n",
    "final_df = final_df.fillna(-7000)\n",
    "x = final_df.drop(columns=\"labels\")\n",
    "y = final_df.labels"
   ]
  },
  {
   "cell_type": "code",
   "execution_count": 70,
   "metadata": {},
   "outputs": [
    {
     "data": {
      "text/plain": [
       "0       yes\n",
       "11      yes\n",
       "20      yes\n",
       "26      yes\n",
       "29      yes\n",
       "       ... \n",
       "7982     no\n",
       "7989    yes\n",
       "7990    yes\n",
       "7996    yes\n",
       "8000    yes\n",
       "Name: labels, Length: 729, dtype: object"
      ]
     },
     "execution_count": 70,
     "metadata": {},
     "output_type": "execute_result"
    }
   ],
   "source": [
    "y"
   ]
  },
  {
   "cell_type": "markdown",
   "metadata": {},
   "source": [
    "# MODELS"
   ]
  },
  {
   "cell_type": "code",
   "execution_count": 41,
   "metadata": {},
   "outputs": [],
   "source": [
    "models = [\n",
    "    {'name': 'decision',\n",
    "     'classifier':imb_pipe([('smot',SMOTE(random_state=42)),('pca',PCA()),('clf',DecisionTreeClassifier())]),\n",
    "     'grid': dict(pca__n_components=[15,20], \n",
    "                  clf__max_depth=[10,20,30,40,50,60,70,80,90,100,None], \n",
    "                  clf__max_features=['auto','sqrt'],clf__min_samples_leaf=[1,2,4], \n",
    "                  clf__min_samples_split=[2,5,10])},\n",
    "    {'name': 'rf',\n",
    "     'classifier':imb_pipe([('smot',SMOTE(random_state=42)),('pca',PCA()),('clf',RandomForestClassifier())]),\n",
    "     'grid': dict(pca__n_components=[15,20], clf__bootstrap=[True,False], \n",
    "                  clf__max_depth=[10,20,30,40,50,60,70,80,90,100,None], \n",
    "                  clf__max_features=['auto','sqrt'],clf__min_samples_leaf=[1,2,4], \n",
    "                  clf__min_samples_split=[2,5,10],clf__n_estimators=[200,400,600])},\n",
    "    {'name': 'brf',\n",
    "     'classifier':imb_pipe([('pca',PCA()),('clf', BalancedRandomForestClassifier())]),\n",
    "     'grid': dict(pca__n_components=[15,20],clf__bootstrap=[True,False], \n",
    "                  clf__max_depth=[10,20,30,40,50,60,70,80,90,100,None], \n",
    "                  clf__max_features=['auto','sqrt'],clf__min_samples_leaf=[1,2,4], \n",
    "                  clf__min_samples_split=[2,5,10],clf__n_estimators=[200,400,600])},\n",
    "    {'name': 'xgboost', \n",
    "     'classifier': imb_pipe([('pca',PCA()),('clf',xgboost.XGBClassifier(n_estimators=500,n_jobs=-1,scale_pos_weight=3))]),\n",
    "     'grid': dict(pca__n_components=[15,20],clf__scale_pos_weight=[0.3,0.5,1],clf__min_child_weight=[1,5,10],\n",
    "                  clf__gamma=[0.5,1,1.5,2,5],clf__subsample=[0.6,0.8,1.0],clf__colsample_bytree=[0.6,0.8,1.0],\n",
    "                  clf__max_depth=[3,4,5])},\n",
    "    {'name': 'catboost',\n",
    "   'classifier': imb_pipe([('pca',PCA()),('clf',catboost.CatBoostClassifier(thread_count=4, verbose=0))]),\n",
    "  'grid': dict(pca__n_components=[15,20],clf__scale_pos_weight=[0.3], \n",
    "              clf__depth=[7],clf__iterations=[250,500],clf__learning_rate=[0.01],clf__l2_leaf_reg=[5,10])},\n",
    "    {'name': 'adaboost',\n",
    "     'classifier': imb_pipe([('smot',SMOTE(random_state=42)),('pca',PCA()),('clf',AdaBoostClassifier())]),\n",
    "     'grid': dict(pca__n_components=[15,20], clf__n_estimators=[250,500,1000], clf__learning_rate=[0.01, 0.1, 0.5, 1],\n",
    "                 clf__algorithm=['SAMME', 'SAMME.R'])}\n",
    "    \n",
    "]"
   ]
  },
  {
   "cell_type": "markdown",
   "metadata": {},
   "source": [
    "# MODEL SELECTION"
   ]
  },
  {
   "cell_type": "code",
   "execution_count": 42,
   "metadata": {},
   "outputs": [
    {
     "name": "stdout",
     "output_type": "stream",
     "text": [
      "catboost\n"
     ]
    },
    {
     "name": "stderr",
     "output_type": "stream",
     "text": [
      "C:\\ProgramData\\Anaconda3\\envs\\dandush\\lib\\site-packages\\sklearn\\model_selection\\_search.py:266: UserWarning: The total space of parameters 8 is smaller than n_iter=50. Running 8 iterations. For exhaustive searches, use GridSearchCV.\n",
      "  % (grid_size, self.n_iter, grid_size), UserWarning)\n",
      "C:\\ProgramData\\Anaconda3\\envs\\dandush\\lib\\site-packages\\sklearn\\model_selection\\_search.py:814: DeprecationWarning: The default of the `iid` parameter will change from True to False in version 0.22 and will be removed in 0.24. This will change numeric results when test-set sizes are unequal.\n",
      "  DeprecationWarning)\n"
     ]
    },
    {
     "name": "stdout",
     "output_type": "stream",
     "text": [
      "completed\n"
     ]
    }
   ],
   "source": [
    "def model_selection(classifier, name, grid, X_train, y_train, scoring):\n",
    "    N_ITER = 50\n",
    "    CV = 10\n",
    "    gridsearch_cv=RandomizedSearchCV(classifier, \n",
    "                               grid,\n",
    "                               cv=CV, n_iter=N_ITER,\n",
    "                               scoring = scoring, refit='AUC', random_state=42)\n",
    "    gridsearch_cv.fit(X_train, y_train)\n",
    "    \n",
    "    results_dict = {}\n",
    "    \n",
    "    results_dict['classifier_name'] = name    \n",
    "    results_dict['classifier'] = gridsearch_cv.best_estimator_\n",
    "    results_dict['best_params'] = gridsearch_cv.best_params_\n",
    "    results_dict['score'] = gridsearch_cv.best_score_\n",
    "    results_dict['results'] = gridsearch_cv.cv_results_ \n",
    "    return(results_dict)\n",
    "\n",
    "\n",
    "results = []\n",
    "for m in models:    \n",
    "    print(m['name'])\n",
    "    y_bool = y.replace({\"yes\":1.0, \"no\":0.0})\n",
    "    results.append(model_selection(m['classifier'], \n",
    "                                   m['name'],\n",
    "                                   m['grid'],\n",
    "                                   x, y_bool, {'AUC': 'roc_auc', 'f1': 'f1_weighted', 'precision':'precision_weighted', \n",
    "                                               'recall': 'recall_weighted', 'accuracy':'accuracy'}))      \n",
    "    print('completed')"
   ]
  },
  {
   "cell_type": "code",
   "execution_count": 45,
   "metadata": {
    "collapsed": true
   },
   "outputs": [
    {
     "name": "stdout",
     "output_type": "stream",
     "text": [
      "decision : 0.6119608606744608\n",
      "rf : 0.6685546573568417\n",
      "brf : 0.6626519055934273\n",
      "xgboost : 0.6573111145317634\n",
      "catboost : 0.6748500223073954\n",
      "adaboost : 0.6708767593466675\n"
     ]
    }
   ],
   "source": [
    "for res in results:\n",
    "    print(\"{} : {}\".format(res[\"classifier_name\"], res[\"score\"]))"
   ]
  },
  {
   "cell_type": "markdown",
   "metadata": {},
   "source": [
    "## PARAMETERS SELECTION BY 'mean_test_AUC'"
   ]
  },
  {
   "cell_type": "markdown",
   "metadata": {},
   "source": [
    "### DT"
   ]
  },
  {
   "cell_type": "code",
   "execution_count": 95,
   "metadata": {
    "collapsed": true
   },
   "outputs": [
    {
     "name": "stdout",
     "output_type": "stream",
     "text": [
      "mean_test_AUC    0.611961\n",
      "Name: 4, dtype: float64 \n",
      " mean_test_AUC    0.506204\n",
      "Name: 37, dtype: float64\n"
     ]
    }
   ],
   "source": [
    "decision_auc_scores = pd.DataFrame(results[0][\"results\"])[[\"mean_test_AUC\"]]\n",
    "dt_idmax = decision_auc_scores.loc[decision_auc_scores['mean_test_AUC'].idxmax()]\n",
    "dt_idmin = decision_auc_scores.loc[decision_auc_scores['mean_test_AUC'].idxmin()]\n",
    "print(dt_idmax,'\\n',dt_idmin)"
   ]
  },
  {
   "cell_type": "code",
   "execution_count": 80,
   "metadata": {
    "collapsed": true
   },
   "outputs": [
    {
     "data": {
      "text/plain": [
       "<matplotlib.axes._subplots.AxesSubplot at 0x1855e707b48>"
      ]
     },
     "execution_count": 80,
     "metadata": {},
     "output_type": "execute_result"
    },
    {
     "data": {
      "image/png": "[encoded data removed]",
      "text/plain": [
       "<Figure size 2160x720 with 1 Axes>"
      ]
     },
     "metadata": {
      "needs_background": "light"
     },
     "output_type": "display_data"
    }
   ],
   "source": [
    "plt.figure(figsize=(30,10))\n",
    "sns.scatterplot(x=decision_auc_scores.index, y=decision_auc_scores['mean_test_AUC'].values)"
   ]
  },
  {
   "cell_type": "code",
   "execution_count": 81,
   "metadata": {
    "collapsed": true
   },
   "outputs": [
    {
     "data": {
      "text/plain": [
       "Index(['mean_fit_time', 'std_fit_time', 'mean_score_time', 'std_score_time',\n",
       "       'param_pca__n_components', 'param_clf__min_samples_split',\n",
       "       'param_clf__min_samples_leaf', 'param_clf__max_features',\n",
       "       'param_clf__max_depth', 'params', 'split0_test_AUC', 'split1_test_AUC',\n",
       "       'split2_test_AUC', 'split3_test_AUC', 'split4_test_AUC',\n",
       "       'split5_test_AUC', 'split6_test_AUC', 'split7_test_AUC',\n",
       "       'split8_test_AUC', 'split9_test_AUC', 'mean_test_AUC', 'std_test_AUC',\n",
       "       'rank_test_AUC', 'split0_test_f1', 'split1_test_f1', 'split2_test_f1',\n",
       "       'split3_test_f1', 'split4_test_f1', 'split5_test_f1', 'split6_test_f1',\n",
       "       'split7_test_f1', 'split8_test_f1', 'split9_test_f1', 'mean_test_f1',\n",
       "       'std_test_f1', 'rank_test_f1', 'split0_test_precision',\n",
       "       'split1_test_precision', 'split2_test_precision',\n",
       "       'split3_test_precision', 'split4_test_precision',\n",
       "       'split5_test_precision', 'split6_test_precision',\n",
       "       'split7_test_precision', 'split8_test_precision',\n",
       "       'split9_test_precision', 'mean_test_precision', 'std_test_precision',\n",
       "       'rank_test_precision', 'split0_test_recall', 'split1_test_recall',\n",
       "       'split2_test_recall', 'split3_test_recall', 'split4_test_recall',\n",
       "       'split5_test_recall', 'split6_test_recall', 'split7_test_recall',\n",
       "       'split8_test_recall', 'split9_test_recall', 'mean_test_recall',\n",
       "       'std_test_recall', 'rank_test_recall', 'split0_test_accuracy',\n",
       "       'split1_test_accuracy', 'split2_test_accuracy', 'split3_test_accuracy',\n",
       "       'split4_test_accuracy', 'split5_test_accuracy', 'split6_test_accuracy',\n",
       "       'split7_test_accuracy', 'split8_test_accuracy', 'split9_test_accuracy',\n",
       "       'mean_test_accuracy', 'std_test_accuracy', 'rank_test_accuracy'],\n",
       "      dtype='object')"
      ]
     },
     "execution_count": 81,
     "metadata": {},
     "output_type": "execute_result"
    }
   ],
   "source": [
    " pd.DataFrame(results[0][\"results\"]).columns"
   ]
  },
  {
   "cell_type": "code",
   "execution_count": 100,
   "metadata": {
    "collapsed": true
   },
   "outputs": [
    {
     "data": {
      "text/html": [
       "<div>\n",
       "<style scoped>\n",
       "    .dataframe tbody tr th:only-of-type {\n",
       "        vertical-align: middle;\n",
       "    }\n",
       "\n",
       "    .dataframe tbody tr th {\n",
       "        vertical-align: top;\n",
       "    }\n",
       "\n",
       "    .dataframe thead th {\n",
       "        text-align: right;\n",
       "    }\n",
       "</style>\n",
       "<table border=\"1\" class=\"dataframe\">\n",
       "  <thead>\n",
       "    <tr style=\"text-align: right;\">\n",
       "      <th></th>\n",
       "      <th>param_pca__n_components</th>\n",
       "      <th>param_clf__min_samples_split</th>\n",
       "      <th>param_clf__min_samples_leaf</th>\n",
       "      <th>param_clf__max_features</th>\n",
       "      <th>param_clf__max_depth</th>\n",
       "      <th>mean_test_AUC</th>\n",
       "    </tr>\n",
       "  </thead>\n",
       "  <tbody>\n",
       "    <tr>\n",
       "      <td>4</td>\n",
       "      <td>20</td>\n",
       "      <td>2</td>\n",
       "      <td>4</td>\n",
       "      <td>sqrt</td>\n",
       "      <td>None</td>\n",
       "      <td>0.611961</td>\n",
       "    </tr>\n",
       "    <tr>\n",
       "      <td>37</td>\n",
       "      <td>20</td>\n",
       "      <td>5</td>\n",
       "      <td>1</td>\n",
       "      <td>sqrt</td>\n",
       "      <td>20</td>\n",
       "      <td>0.506204</td>\n",
       "    </tr>\n",
       "  </tbody>\n",
       "</table>\n",
       "</div>"
      ],
      "text/plain": [
       "   param_pca__n_components param_clf__min_samples_split  \\\n",
       "4                       20                            2   \n",
       "37                      20                            5   \n",
       "\n",
       "   param_clf__min_samples_leaf param_clf__max_features param_clf__max_depth  \\\n",
       "4                            4                    sqrt                 None   \n",
       "37                           1                    sqrt                   20   \n",
       "\n",
       "    mean_test_AUC  \n",
       "4        0.611961  \n",
       "37       0.506204  "
      ]
     },
     "execution_count": 100,
     "metadata": {},
     "output_type": "execute_result"
    }
   ],
   "source": [
    " pd.DataFrame(results[0][\"results\"]).loc[[dt_idmax.name,dt_idmin.name],['param_pca__n_components', 'param_clf__min_samples_split',\n",
    "                                                   'param_clf__min_samples_leaf','param_clf__max_features',\n",
    "                                                   'param_clf__max_depth','mean_test_AUC']]"
   ]
  },
  {
   "cell_type": "markdown",
   "metadata": {},
   "source": [
    "###  RF"
   ]
  },
  {
   "cell_type": "code",
   "execution_count": 101,
   "metadata": {
    "collapsed": true
   },
   "outputs": [
    {
     "name": "stdout",
     "output_type": "stream",
     "text": [
      "mean_test_AUC    0.668555\n",
      "Name: 23, dtype: float64 \n",
      " mean_test_AUC    0.624801\n",
      "Name: 8, dtype: float64\n"
     ]
    }
   ],
   "source": [
    "rf_auc_scores = pd.DataFrame(results[1][\"results\"])[[\"mean_test_AUC\"]]\n",
    "rf_idmax = rf_auc_scores.loc[rf_auc_scores['mean_test_AUC'].idxmax()]\n",
    "rf_idmin = rf_auc_scores.loc[rf_auc_scores['mean_test_AUC'].idxmin()]\n",
    "print(rf_idmax,'\\n',rf_idmin)"
   ]
  },
  {
   "cell_type": "code",
   "execution_count": 102,
   "metadata": {
    "collapsed": true
   },
   "outputs": [
    {
     "data": {
      "text/plain": [
       "<matplotlib.axes._subplots.AxesSubplot at 0x1855ec20e88>"
      ]
     },
     "execution_count": 102,
     "metadata": {},
     "output_type": "execute_result"
    },
    {
     "data": {
      "image/png": "[encoded data removed]",
      "text/plain": [
       "<Figure size 2160x720 with 1 Axes>"
      ]
     },
     "metadata": {
      "needs_background": "light"
     },
     "output_type": "display_data"
    }
   ],
   "source": [
    "plt.figure(figsize=(30,10))\n",
    "sns.scatterplot(x=rf_auc_scores.index, y=rf_auc_scores['mean_test_AUC'].values)"
   ]
  },
  {
   "cell_type": "code",
   "execution_count": 85,
   "metadata": {
    "collapsed": true
   },
   "outputs": [
    {
     "data": {
      "text/plain": [
       "Index(['mean_fit_time', 'std_fit_time', 'mean_score_time', 'std_score_time',\n",
       "       'param_pca__n_components', 'param_clf__n_estimators',\n",
       "       'param_clf__min_samples_split', 'param_clf__min_samples_leaf',\n",
       "       'param_clf__max_features', 'param_clf__max_depth',\n",
       "       'param_clf__bootstrap', 'params', 'split0_test_AUC', 'split1_test_AUC',\n",
       "       'split2_test_AUC', 'split3_test_AUC', 'split4_test_AUC',\n",
       "       'split5_test_AUC', 'split6_test_AUC', 'split7_test_AUC',\n",
       "       'split8_test_AUC', 'split9_test_AUC', 'mean_test_AUC', 'std_test_AUC',\n",
       "       'rank_test_AUC', 'split0_test_f1', 'split1_test_f1', 'split2_test_f1',\n",
       "       'split3_test_f1', 'split4_test_f1', 'split5_test_f1', 'split6_test_f1',\n",
       "       'split7_test_f1', 'split8_test_f1', 'split9_test_f1', 'mean_test_f1',\n",
       "       'std_test_f1', 'rank_test_f1', 'split0_test_precision',\n",
       "       'split1_test_precision', 'split2_test_precision',\n",
       "       'split3_test_precision', 'split4_test_precision',\n",
       "       'split5_test_precision', 'split6_test_precision',\n",
       "       'split7_test_precision', 'split8_test_precision',\n",
       "       'split9_test_precision', 'mean_test_precision', 'std_test_precision',\n",
       "       'rank_test_precision', 'split0_test_recall', 'split1_test_recall',\n",
       "       'split2_test_recall', 'split3_test_recall', 'split4_test_recall',\n",
       "       'split5_test_recall', 'split6_test_recall', 'split7_test_recall',\n",
       "       'split8_test_recall', 'split9_test_recall', 'mean_test_recall',\n",
       "       'std_test_recall', 'rank_test_recall', 'split0_test_accuracy',\n",
       "       'split1_test_accuracy', 'split2_test_accuracy', 'split3_test_accuracy',\n",
       "       'split4_test_accuracy', 'split5_test_accuracy', 'split6_test_accuracy',\n",
       "       'split7_test_accuracy', 'split8_test_accuracy', 'split9_test_accuracy',\n",
       "       'mean_test_accuracy', 'std_test_accuracy', 'rank_test_accuracy'],\n",
       "      dtype='object')"
      ]
     },
     "execution_count": 85,
     "metadata": {},
     "output_type": "execute_result"
    }
   ],
   "source": [
    " pd.DataFrame(results[1][\"results\"]).columns"
   ]
  },
  {
   "cell_type": "code",
   "execution_count": 103,
   "metadata": {
    "collapsed": true
   },
   "outputs": [
    {
     "data": {
      "text/html": [
       "<div>\n",
       "<style scoped>\n",
       "    .dataframe tbody tr th:only-of-type {\n",
       "        vertical-align: middle;\n",
       "    }\n",
       "\n",
       "    .dataframe tbody tr th {\n",
       "        vertical-align: top;\n",
       "    }\n",
       "\n",
       "    .dataframe thead th {\n",
       "        text-align: right;\n",
       "    }\n",
       "</style>\n",
       "<table border=\"1\" class=\"dataframe\">\n",
       "  <thead>\n",
       "    <tr style=\"text-align: right;\">\n",
       "      <th></th>\n",
       "      <th>param_pca__n_components</th>\n",
       "      <th>param_clf__n_estimators</th>\n",
       "      <th>param_clf__min_samples_split</th>\n",
       "      <th>param_clf__min_samples_leaf</th>\n",
       "      <th>param_clf__max_features</th>\n",
       "      <th>param_clf__max_depth</th>\n",
       "      <th>param_clf__bootstrap</th>\n",
       "      <th>mean_test_AUC</th>\n",
       "    </tr>\n",
       "  </thead>\n",
       "  <tbody>\n",
       "    <tr>\n",
       "      <td>23</td>\n",
       "      <td>20</td>\n",
       "      <td>600</td>\n",
       "      <td>2</td>\n",
       "      <td>4</td>\n",
       "      <td>sqrt</td>\n",
       "      <td>10</td>\n",
       "      <td>False</td>\n",
       "      <td>0.668555</td>\n",
       "    </tr>\n",
       "    <tr>\n",
       "      <td>8</td>\n",
       "      <td>15</td>\n",
       "      <td>400</td>\n",
       "      <td>10</td>\n",
       "      <td>2</td>\n",
       "      <td>sqrt</td>\n",
       "      <td>100</td>\n",
       "      <td>True</td>\n",
       "      <td>0.624801</td>\n",
       "    </tr>\n",
       "  </tbody>\n",
       "</table>\n",
       "</div>"
      ],
      "text/plain": [
       "   param_pca__n_components param_clf__n_estimators  \\\n",
       "23                      20                     600   \n",
       "8                       15                     400   \n",
       "\n",
       "   param_clf__min_samples_split param_clf__min_samples_leaf  \\\n",
       "23                            2                           4   \n",
       "8                            10                           2   \n",
       "\n",
       "   param_clf__max_features param_clf__max_depth param_clf__bootstrap  \\\n",
       "23                    sqrt                   10                False   \n",
       "8                     sqrt                  100                 True   \n",
       "\n",
       "    mean_test_AUC  \n",
       "23       0.668555  \n",
       "8        0.624801  "
      ]
     },
     "execution_count": 103,
     "metadata": {},
     "output_type": "execute_result"
    }
   ],
   "source": [
    " pd.DataFrame(results[1][\"results\"]).loc[[rf_idmax.name,rf_idmin.name],['param_pca__n_components', 'param_clf__n_estimators',\n",
    "       'param_clf__min_samples_split', 'param_clf__min_samples_leaf',\n",
    "       'param_clf__max_features', 'param_clf__max_depth','param_clf__bootstrap','mean_test_AUC']]"
   ]
  },
  {
   "cell_type": "markdown",
   "metadata": {},
   "source": [
    "### BRF "
   ]
  },
  {
   "cell_type": "code",
   "execution_count": 104,
   "metadata": {
    "collapsed": true
   },
   "outputs": [
    {
     "name": "stdout",
     "output_type": "stream",
     "text": [
      "mean_test_AUC    0.662652\n",
      "Name: 28, dtype: float64 \n",
      " mean_test_AUC    0.581803\n",
      "Name: 48, dtype: float64\n"
     ]
    }
   ],
   "source": [
    "brf_auc_scores = pd.DataFrame(results[2][\"results\"])[[\"mean_test_AUC\"]]\n",
    "brf_idmax = brf_auc_scores.loc[brf_auc_scores['mean_test_AUC'].idxmax()]\n",
    "brf_idmin = brf_auc_scores.loc[brf_auc_scores['mean_test_AUC'].idxmin()]\n",
    "print(brf_idmax,'\\n',brf_idmin)"
   ]
  },
  {
   "cell_type": "code",
   "execution_count": 105,
   "metadata": {
    "collapsed": true
   },
   "outputs": [
    {
     "data": {
      "text/plain": [
       "<matplotlib.axes._subplots.AxesSubplot at 0x1855ec58b88>"
      ]
     },
     "execution_count": 105,
     "metadata": {},
     "output_type": "execute_result"
    },
    {
     "data": {
      "image/png": "[encoded data removed]",
      "text/plain": [
       "<Figure size 2160x720 with 1 Axes>"
      ]
     },
     "metadata": {
      "needs_background": "light"
     },
     "output_type": "display_data"
    }
   ],
   "source": [
    "plt.figure(figsize=(30,10))\n",
    "sns.scatterplot(x=brf_auc_scores.index, y=brf_auc_scores['mean_test_AUC'].values)"
   ]
  },
  {
   "cell_type": "code",
   "execution_count": 106,
   "metadata": {
    "collapsed": true
   },
   "outputs": [
    {
     "data": {
      "text/plain": [
       "Index(['mean_fit_time', 'std_fit_time', 'mean_score_time', 'std_score_time',\n",
       "       'param_pca__n_components', 'param_clf__n_estimators',\n",
       "       'param_clf__min_samples_split', 'param_clf__min_samples_leaf',\n",
       "       'param_clf__max_features', 'param_clf__max_depth',\n",
       "       'param_clf__bootstrap', 'params', 'split0_test_AUC', 'split1_test_AUC',\n",
       "       'split2_test_AUC', 'split3_test_AUC', 'split4_test_AUC',\n",
       "       'split5_test_AUC', 'split6_test_AUC', 'split7_test_AUC',\n",
       "       'split8_test_AUC', 'split9_test_AUC', 'mean_test_AUC', 'std_test_AUC',\n",
       "       'rank_test_AUC', 'split0_test_f1', 'split1_test_f1', 'split2_test_f1',\n",
       "       'split3_test_f1', 'split4_test_f1', 'split5_test_f1', 'split6_test_f1',\n",
       "       'split7_test_f1', 'split8_test_f1', 'split9_test_f1', 'mean_test_f1',\n",
       "       'std_test_f1', 'rank_test_f1', 'split0_test_precision',\n",
       "       'split1_test_precision', 'split2_test_precision',\n",
       "       'split3_test_precision', 'split4_test_precision',\n",
       "       'split5_test_precision', 'split6_test_precision',\n",
       "       'split7_test_precision', 'split8_test_precision',\n",
       "       'split9_test_precision', 'mean_test_precision', 'std_test_precision',\n",
       "       'rank_test_precision', 'split0_test_recall', 'split1_test_recall',\n",
       "       'split2_test_recall', 'split3_test_recall', 'split4_test_recall',\n",
       "       'split5_test_recall', 'split6_test_recall', 'split7_test_recall',\n",
       "       'split8_test_recall', 'split9_test_recall', 'mean_test_recall',\n",
       "       'std_test_recall', 'rank_test_recall', 'split0_test_accuracy',\n",
       "       'split1_test_accuracy', 'split2_test_accuracy', 'split3_test_accuracy',\n",
       "       'split4_test_accuracy', 'split5_test_accuracy', 'split6_test_accuracy',\n",
       "       'split7_test_accuracy', 'split8_test_accuracy', 'split9_test_accuracy',\n",
       "       'mean_test_accuracy', 'std_test_accuracy', 'rank_test_accuracy'],\n",
       "      dtype='object')"
      ]
     },
     "execution_count": 106,
     "metadata": {},
     "output_type": "execute_result"
    }
   ],
   "source": [
    " pd.DataFrame(results[2][\"results\"]).columns"
   ]
  },
  {
   "cell_type": "code",
   "execution_count": 107,
   "metadata": {
    "collapsed": true
   },
   "outputs": [
    {
     "data": {
      "text/html": [
       "<div>\n",
       "<style scoped>\n",
       "    .dataframe tbody tr th:only-of-type {\n",
       "        vertical-align: middle;\n",
       "    }\n",
       "\n",
       "    .dataframe tbody tr th {\n",
       "        vertical-align: top;\n",
       "    }\n",
       "\n",
       "    .dataframe thead th {\n",
       "        text-align: right;\n",
       "    }\n",
       "</style>\n",
       "<table border=\"1\" class=\"dataframe\">\n",
       "  <thead>\n",
       "    <tr style=\"text-align: right;\">\n",
       "      <th></th>\n",
       "      <th>param_pca__n_components</th>\n",
       "      <th>param_clf__n_estimators</th>\n",
       "      <th>param_clf__min_samples_split</th>\n",
       "      <th>param_clf__min_samples_leaf</th>\n",
       "      <th>param_clf__max_features</th>\n",
       "      <th>param_clf__max_depth</th>\n",
       "      <th>param_clf__bootstrap</th>\n",
       "      <th>mean_test_AUC</th>\n",
       "    </tr>\n",
       "  </thead>\n",
       "  <tbody>\n",
       "    <tr>\n",
       "      <td>28</td>\n",
       "      <td>20</td>\n",
       "      <td>400</td>\n",
       "      <td>2</td>\n",
       "      <td>2</td>\n",
       "      <td>auto</td>\n",
       "      <td>30</td>\n",
       "      <td>True</td>\n",
       "      <td>0.662652</td>\n",
       "    </tr>\n",
       "    <tr>\n",
       "      <td>48</td>\n",
       "      <td>15</td>\n",
       "      <td>200</td>\n",
       "      <td>5</td>\n",
       "      <td>2</td>\n",
       "      <td>sqrt</td>\n",
       "      <td>60</td>\n",
       "      <td>True</td>\n",
       "      <td>0.581803</td>\n",
       "    </tr>\n",
       "  </tbody>\n",
       "</table>\n",
       "</div>"
      ],
      "text/plain": [
       "   param_pca__n_components param_clf__n_estimators  \\\n",
       "28                      20                     400   \n",
       "48                      15                     200   \n",
       "\n",
       "   param_clf__min_samples_split param_clf__min_samples_leaf  \\\n",
       "28                            2                           2   \n",
       "48                            5                           2   \n",
       "\n",
       "   param_clf__max_features param_clf__max_depth param_clf__bootstrap  \\\n",
       "28                    auto                   30                 True   \n",
       "48                    sqrt                   60                 True   \n",
       "\n",
       "    mean_test_AUC  \n",
       "28       0.662652  \n",
       "48       0.581803  "
      ]
     },
     "execution_count": 107,
     "metadata": {},
     "output_type": "execute_result"
    }
   ],
   "source": [
    " pd.DataFrame(results[2][\"results\"]).loc[[brf_idmax.name,brf_idmin.name],['param_pca__n_components', 'param_clf__n_estimators',\n",
    "       'param_clf__min_samples_split', 'param_clf__min_samples_leaf',\n",
    "       'param_clf__max_features', 'param_clf__max_depth','param_clf__bootstrap','mean_test_AUC']]"
   ]
  },
  {
   "cell_type": "markdown",
   "metadata": {},
   "source": [
    "### XGboost "
   ]
  },
  {
   "cell_type": "code",
   "execution_count": 108,
   "metadata": {
    "collapsed": true
   },
   "outputs": [
    {
     "name": "stdout",
     "output_type": "stream",
     "text": [
      "mean_test_AUC    0.657311\n",
      "Name: 34, dtype: float64 \n",
      " mean_test_AUC    0.573022\n",
      "Name: 21, dtype: float64\n"
     ]
    }
   ],
   "source": [
    "xgboost_auc_scores = pd.DataFrame(results[3][\"results\"])[[\"mean_test_AUC\"]]\n",
    "xgboost_idmax = xgboost_auc_scores.loc[xgboost_auc_scores['mean_test_AUC'].idxmax()]\n",
    "xgboost_idmin = xgboost_auc_scores.loc[xgboost_auc_scores['mean_test_AUC'].idxmin()]\n",
    "print(xgboost_idmax,'\\n',xgboost_idmin)"
   ]
  },
  {
   "cell_type": "code",
   "execution_count": 109,
   "metadata": {
    "collapsed": true
   },
   "outputs": [
    {
     "data": {
      "text/plain": [
       "<matplotlib.axes._subplots.AxesSubplot at 0x18560292688>"
      ]
     },
     "execution_count": 109,
     "metadata": {},
     "output_type": "execute_result"
    },
    {
     "data": {
      "image/png": "[encoded data removed]",
      "text/plain": [
       "<Figure size 2160x720 with 1 Axes>"
      ]
     },
     "metadata": {
      "needs_background": "light"
     },
     "output_type": "display_data"
    }
   ],
   "source": [
    "plt.figure(figsize=(30,10))\n",
    "sns.scatterplot(x=xgboost_auc_scores.index, y=xgboost_auc_scores['mean_test_AUC'].values)"
   ]
  },
  {
   "cell_type": "code",
   "execution_count": 110,
   "metadata": {},
   "outputs": [
    {
     "data": {
      "text/plain": [
       "Index(['mean_fit_time', 'std_fit_time', 'mean_score_time', 'std_score_time',\n",
       "       'param_pca__n_components', 'param_clf__subsample',\n",
       "       'param_clf__scale_pos_weight', 'param_clf__min_child_weight',\n",
       "       'param_clf__max_depth', 'param_clf__gamma',\n",
       "       'param_clf__colsample_bytree', 'params', 'split0_test_AUC',\n",
       "       'split1_test_AUC', 'split2_test_AUC', 'split3_test_AUC',\n",
       "       'split4_test_AUC', 'split5_test_AUC', 'split6_test_AUC',\n",
       "       'split7_test_AUC', 'split8_test_AUC', 'split9_test_AUC',\n",
       "       'mean_test_AUC', 'std_test_AUC', 'rank_test_AUC', 'split0_test_f1',\n",
       "       'split1_test_f1', 'split2_test_f1', 'split3_test_f1', 'split4_test_f1',\n",
       "       'split5_test_f1', 'split6_test_f1', 'split7_test_f1', 'split8_test_f1',\n",
       "       'split9_test_f1', 'mean_test_f1', 'std_test_f1', 'rank_test_f1',\n",
       "       'split0_test_precision', 'split1_test_precision',\n",
       "       'split2_test_precision', 'split3_test_precision',\n",
       "       'split4_test_precision', 'split5_test_precision',\n",
       "       'split6_test_precision', 'split7_test_precision',\n",
       "       'split8_test_precision', 'split9_test_precision', 'mean_test_precision',\n",
       "       'std_test_precision', 'rank_test_precision', 'split0_test_recall',\n",
       "       'split1_test_recall', 'split2_test_recall', 'split3_test_recall',\n",
       "       'split4_test_recall', 'split5_test_recall', 'split6_test_recall',\n",
       "       'split7_test_recall', 'split8_test_recall', 'split9_test_recall',\n",
       "       'mean_test_recall', 'std_test_recall', 'rank_test_recall',\n",
       "       'split0_test_accuracy', 'split1_test_accuracy', 'split2_test_accuracy',\n",
       "       'split3_test_accuracy', 'split4_test_accuracy', 'split5_test_accuracy',\n",
       "       'split6_test_accuracy', 'split7_test_accuracy', 'split8_test_accuracy',\n",
       "       'split9_test_accuracy', 'mean_test_accuracy', 'std_test_accuracy',\n",
       "       'rank_test_accuracy'],\n",
       "      dtype='object')"
      ]
     },
     "execution_count": 110,
     "metadata": {},
     "output_type": "execute_result"
    }
   ],
   "source": [
    " pd.DataFrame(results[3][\"results\"]).columns"
   ]
  },
  {
   "cell_type": "code",
   "execution_count": 112,
   "metadata": {
    "collapsed": true
   },
   "outputs": [
    {
     "data": {
      "text/html": [
       "<div>\n",
       "<style scoped>\n",
       "    .dataframe tbody tr th:only-of-type {\n",
       "        vertical-align: middle;\n",
       "    }\n",
       "\n",
       "    .dataframe tbody tr th {\n",
       "        vertical-align: top;\n",
       "    }\n",
       "\n",
       "    .dataframe thead th {\n",
       "        text-align: right;\n",
       "    }\n",
       "</style>\n",
       "<table border=\"1\" class=\"dataframe\">\n",
       "  <thead>\n",
       "    <tr style=\"text-align: right;\">\n",
       "      <th></th>\n",
       "      <th>param_pca__n_components</th>\n",
       "      <th>param_clf__subsample</th>\n",
       "      <th>param_clf__scale_pos_weight</th>\n",
       "      <th>param_clf__min_child_weight</th>\n",
       "      <th>param_clf__max_depth</th>\n",
       "      <th>mean_test_AUC</th>\n",
       "    </tr>\n",
       "  </thead>\n",
       "  <tbody>\n",
       "    <tr>\n",
       "      <td>34</td>\n",
       "      <td>20</td>\n",
       "      <td>0.8</td>\n",
       "      <td>0.3</td>\n",
       "      <td>10</td>\n",
       "      <td>5</td>\n",
       "      <td>0.657311</td>\n",
       "    </tr>\n",
       "    <tr>\n",
       "      <td>21</td>\n",
       "      <td>15</td>\n",
       "      <td>0.6</td>\n",
       "      <td>0.3</td>\n",
       "      <td>10</td>\n",
       "      <td>4</td>\n",
       "      <td>0.573022</td>\n",
       "    </tr>\n",
       "  </tbody>\n",
       "</table>\n",
       "</div>"
      ],
      "text/plain": [
       "   param_pca__n_components param_clf__subsample param_clf__scale_pos_weight  \\\n",
       "34                      20                  0.8                         0.3   \n",
       "21                      15                  0.6                         0.3   \n",
       "\n",
       "   param_clf__min_child_weight param_clf__max_depth  mean_test_AUC  \n",
       "34                          10                    5       0.657311  \n",
       "21                          10                    4       0.573022  "
      ]
     },
     "execution_count": 112,
     "metadata": {},
     "output_type": "execute_result"
    }
   ],
   "source": [
    " pd.DataFrame(results[3][\"results\"]).loc[[xgboost_idmax.name,xgboost_idmin.name],[ 'param_pca__n_components', 'param_clf__subsample',\n",
    "       'param_clf__scale_pos_weight', 'param_clf__min_child_weight',\n",
    "       'param_clf__max_depth','mean_test_AUC']]"
   ]
  },
  {
   "cell_type": "markdown",
   "metadata": {},
   "source": [
    "### CATboost "
   ]
  },
  {
   "cell_type": "code",
   "execution_count": 113,
   "metadata": {
    "scrolled": true
   },
   "outputs": [
    {
     "name": "stdout",
     "output_type": "stream",
     "text": [
      "mean_test_AUC    0.67485\n",
      "Name: 1, dtype: float64 \n",
      " mean_test_AUC    0.609379\n",
      "Name: 2, dtype: float64\n"
     ]
    }
   ],
   "source": [
    "catboost_auc_scores = pd.DataFrame(results[4][\"results\"])[[\"mean_test_AUC\"]]\n",
    "catboost_idmax = catboost_auc_scores.loc[catboost_auc_scores['mean_test_AUC'].idxmax()]\n",
    "catboost_idmin = catboost_auc_scores.loc[catboost_auc_scores['mean_test_AUC'].idxmin()]\n",
    "print(catboost_idmax,'\\n',catboost_idmin)"
   ]
  },
  {
   "cell_type": "code",
   "execution_count": 114,
   "metadata": {
    "collapsed": true
   },
   "outputs": [
    {
     "data": {
      "text/plain": [
       "<matplotlib.axes._subplots.AxesSubplot at 0x1855f110d48>"
      ]
     },
     "execution_count": 114,
     "metadata": {},
     "output_type": "execute_result"
    },
    {
     "data": {
      "image/png": "[encoded data removed]",
      "text/plain": [
       "<Figure size 2160x720 with 1 Axes>"
      ]
     },
     "metadata": {
      "needs_background": "light"
     },
     "output_type": "display_data"
    }
   ],
   "source": [
    "plt.figure(figsize=(30,10))\n",
    "sns.scatterplot(x=catboost_auc_scores.index, y=catboost_auc_scores['mean_test_AUC'].values)"
   ]
  },
  {
   "cell_type": "code",
   "execution_count": 115,
   "metadata": {
    "collapsed": true
   },
   "outputs": [
    {
     "data": {
      "text/plain": [
       "Index(['mean_fit_time', 'std_fit_time', 'mean_score_time', 'std_score_time',\n",
       "       'param_pca__n_components', 'param_clf__scale_pos_weight',\n",
       "       'param_clf__learning_rate', 'param_clf__l2_leaf_reg',\n",
       "       'param_clf__iterations', 'param_clf__depth', 'params',\n",
       "       'split0_test_AUC', 'split1_test_AUC', 'split2_test_AUC',\n",
       "       'split3_test_AUC', 'split4_test_AUC', 'split5_test_AUC',\n",
       "       'split6_test_AUC', 'split7_test_AUC', 'split8_test_AUC',\n",
       "       'split9_test_AUC', 'mean_test_AUC', 'std_test_AUC', 'rank_test_AUC',\n",
       "       'split0_test_f1', 'split1_test_f1', 'split2_test_f1', 'split3_test_f1',\n",
       "       'split4_test_f1', 'split5_test_f1', 'split6_test_f1', 'split7_test_f1',\n",
       "       'split8_test_f1', 'split9_test_f1', 'mean_test_f1', 'std_test_f1',\n",
       "       'rank_test_f1', 'split0_test_precision', 'split1_test_precision',\n",
       "       'split2_test_precision', 'split3_test_precision',\n",
       "       'split4_test_precision', 'split5_test_precision',\n",
       "       'split6_test_precision', 'split7_test_precision',\n",
       "       'split8_test_precision', 'split9_test_precision', 'mean_test_precision',\n",
       "       'std_test_precision', 'rank_test_precision', 'split0_test_recall',\n",
       "       'split1_test_recall', 'split2_test_recall', 'split3_test_recall',\n",
       "       'split4_test_recall', 'split5_test_recall', 'split6_test_recall',\n",
       "       'split7_test_recall', 'split8_test_recall', 'split9_test_recall',\n",
       "       'mean_test_recall', 'std_test_recall', 'rank_test_recall',\n",
       "       'split0_test_accuracy', 'split1_test_accuracy', 'split2_test_accuracy',\n",
       "       'split3_test_accuracy', 'split4_test_accuracy', 'split5_test_accuracy',\n",
       "       'split6_test_accuracy', 'split7_test_accuracy', 'split8_test_accuracy',\n",
       "       'split9_test_accuracy', 'mean_test_accuracy', 'std_test_accuracy',\n",
       "       'rank_test_accuracy'],\n",
       "      dtype='object')"
      ]
     },
     "execution_count": 115,
     "metadata": {},
     "output_type": "execute_result"
    }
   ],
   "source": [
    " pd.DataFrame(results[4][\"results\"]).columns"
   ]
  },
  {
   "cell_type": "code",
   "execution_count": 116,
   "metadata": {
    "collapsed": true
   },
   "outputs": [
    {
     "data": {
      "text/html": [
       "<div>\n",
       "<style scoped>\n",
       "    .dataframe tbody tr th:only-of-type {\n",
       "        vertical-align: middle;\n",
       "    }\n",
       "\n",
       "    .dataframe tbody tr th {\n",
       "        vertical-align: top;\n",
       "    }\n",
       "\n",
       "    .dataframe thead th {\n",
       "        text-align: right;\n",
       "    }\n",
       "</style>\n",
       "<table border=\"1\" class=\"dataframe\">\n",
       "  <thead>\n",
       "    <tr style=\"text-align: right;\">\n",
       "      <th></th>\n",
       "      <th>param_pca__n_components</th>\n",
       "      <th>param_clf__scale_pos_weight</th>\n",
       "      <th>param_clf__learning_rate</th>\n",
       "      <th>param_clf__l2_leaf_reg</th>\n",
       "      <th>param_clf__iterations</th>\n",
       "      <th>param_clf__depth</th>\n",
       "      <th>mean_test_AUC</th>\n",
       "    </tr>\n",
       "  </thead>\n",
       "  <tbody>\n",
       "    <tr>\n",
       "      <td>1</td>\n",
       "      <td>20</td>\n",
       "      <td>0.3</td>\n",
       "      <td>0.01</td>\n",
       "      <td>5</td>\n",
       "      <td>250</td>\n",
       "      <td>7</td>\n",
       "      <td>0.674850</td>\n",
       "    </tr>\n",
       "    <tr>\n",
       "      <td>2</td>\n",
       "      <td>15</td>\n",
       "      <td>0.3</td>\n",
       "      <td>0.01</td>\n",
       "      <td>10</td>\n",
       "      <td>250</td>\n",
       "      <td>7</td>\n",
       "      <td>0.609379</td>\n",
       "    </tr>\n",
       "  </tbody>\n",
       "</table>\n",
       "</div>"
      ],
      "text/plain": [
       "  param_pca__n_components param_clf__scale_pos_weight  \\\n",
       "1                      20                         0.3   \n",
       "2                      15                         0.3   \n",
       "\n",
       "  param_clf__learning_rate param_clf__l2_leaf_reg param_clf__iterations  \\\n",
       "1                     0.01                      5                   250   \n",
       "2                     0.01                     10                   250   \n",
       "\n",
       "  param_clf__depth  mean_test_AUC  \n",
       "1                7       0.674850  \n",
       "2                7       0.609379  "
      ]
     },
     "execution_count": 116,
     "metadata": {},
     "output_type": "execute_result"
    }
   ],
   "source": [
    " pd.DataFrame(results[4][\"results\"]).loc[[catboost_idmax.name,catboost_idmin.name],['param_pca__n_components', 'param_clf__scale_pos_weight',\n",
    "       'param_clf__learning_rate', 'param_clf__l2_leaf_reg',\n",
    "       'param_clf__iterations', 'param_clf__depth','mean_test_AUC']]"
   ]
  },
  {
   "cell_type": "markdown",
   "metadata": {},
   "source": [
    "### ADAboost "
   ]
  },
  {
   "cell_type": "code",
   "execution_count": 117,
   "metadata": {
    "collapsed": true
   },
   "outputs": [
    {
     "name": "stdout",
     "output_type": "stream",
     "text": [
      "mean_test_AUC    0.670877\n",
      "Name: 15, dtype: float64 \n",
      " mean_test_AUC    0.561\n",
      "Name: 46, dtype: float64\n"
     ]
    }
   ],
   "source": [
    "adaboost_auc_scores = pd.DataFrame(results[5][\"results\"])[[\"mean_test_AUC\"]]\n",
    "adatboost_idmax = adaboost_auc_scores.loc[adaboost_auc_scores['mean_test_AUC'].idxmax()]\n",
    "adatboost_idmin = adaboost_auc_scores.loc[adaboost_auc_scores['mean_test_AUC'].idxmin()]\n",
    "print(adatboost_idmax,'\\n',adatboost_idmin)"
   ]
  },
  {
   "cell_type": "code",
   "execution_count": 118,
   "metadata": {
    "collapsed": true
   },
   "outputs": [
    {
     "data": {
      "text/plain": [
       "<matplotlib.axes._subplots.AxesSubplot at 0x1855f535248>"
      ]
     },
     "execution_count": 118,
     "metadata": {},
     "output_type": "execute_result"
    },
    {
     "data": {
      "image/png": "[encoded data removed]",
      "text/plain": [
       "<Figure size 2160x720 with 1 Axes>"
      ]
     },
     "metadata": {
      "needs_background": "light"
     },
     "output_type": "display_data"
    }
   ],
   "source": [
    "plt.figure(figsize=(30,10))\n",
    "sns.scatterplot(x=adaboost_auc_scores.index, y=adaboost_auc_scores['mean_test_AUC'].values)"
   ]
  },
  {
   "cell_type": "code",
   "execution_count": 119,
   "metadata": {
    "collapsed": true
   },
   "outputs": [
    {
     "data": {
      "text/plain": [
       "Index(['mean_fit_time', 'std_fit_time', 'mean_score_time', 'std_score_time',\n",
       "       'param_pca__n_components', 'param_clf__n_estimators',\n",
       "       'param_clf__learning_rate', 'param_clf__algorithm', 'params',\n",
       "       'split0_test_AUC', 'split1_test_AUC', 'split2_test_AUC',\n",
       "       'split3_test_AUC', 'split4_test_AUC', 'split5_test_AUC',\n",
       "       'split6_test_AUC', 'split7_test_AUC', 'split8_test_AUC',\n",
       "       'split9_test_AUC', 'mean_test_AUC', 'std_test_AUC', 'rank_test_AUC',\n",
       "       'split0_test_f1', 'split1_test_f1', 'split2_test_f1', 'split3_test_f1',\n",
       "       'split4_test_f1', 'split5_test_f1', 'split6_test_f1', 'split7_test_f1',\n",
       "       'split8_test_f1', 'split9_test_f1', 'mean_test_f1', 'std_test_f1',\n",
       "       'rank_test_f1', 'split0_test_precision', 'split1_test_precision',\n",
       "       'split2_test_precision', 'split3_test_precision',\n",
       "       'split4_test_precision', 'split5_test_precision',\n",
       "       'split6_test_precision', 'split7_test_precision',\n",
       "       'split8_test_precision', 'split9_test_precision', 'mean_test_precision',\n",
       "       'std_test_precision', 'rank_test_precision', 'split0_test_recall',\n",
       "       'split1_test_recall', 'split2_test_recall', 'split3_test_recall',\n",
       "       'split4_test_recall', 'split5_test_recall', 'split6_test_recall',\n",
       "       'split7_test_recall', 'split8_test_recall', 'split9_test_recall',\n",
       "       'mean_test_recall', 'std_test_recall', 'rank_test_recall',\n",
       "       'split0_test_accuracy', 'split1_test_accuracy', 'split2_test_accuracy',\n",
       "       'split3_test_accuracy', 'split4_test_accuracy', 'split5_test_accuracy',\n",
       "       'split6_test_accuracy', 'split7_test_accuracy', 'split8_test_accuracy',\n",
       "       'split9_test_accuracy', 'mean_test_accuracy', 'std_test_accuracy',\n",
       "       'rank_test_accuracy'],\n",
       "      dtype='object')"
      ]
     },
     "execution_count": 119,
     "metadata": {},
     "output_type": "execute_result"
    }
   ],
   "source": [
    " pd.DataFrame(results[5][\"results\"]).columns"
   ]
  },
  {
   "cell_type": "code",
   "execution_count": 120,
   "metadata": {
    "collapsed": true
   },
   "outputs": [
    {
     "data": {
      "text/html": [
       "<div>\n",
       "<style scoped>\n",
       "    .dataframe tbody tr th:only-of-type {\n",
       "        vertical-align: middle;\n",
       "    }\n",
       "\n",
       "    .dataframe tbody tr th {\n",
       "        vertical-align: top;\n",
       "    }\n",
       "\n",
       "    .dataframe thead th {\n",
       "        text-align: right;\n",
       "    }\n",
       "</style>\n",
       "<table border=\"1\" class=\"dataframe\">\n",
       "  <thead>\n",
       "    <tr style=\"text-align: right;\">\n",
       "      <th></th>\n",
       "      <th>param_pca__n_components</th>\n",
       "      <th>param_clf__n_estimators</th>\n",
       "      <th>param_clf__learning_rate</th>\n",
       "      <th>param_clf__algorithm</th>\n",
       "      <th>mean_test_AUC</th>\n",
       "    </tr>\n",
       "  </thead>\n",
       "  <tbody>\n",
       "    <tr>\n",
       "      <td>15</td>\n",
       "      <td>20</td>\n",
       "      <td>500</td>\n",
       "      <td>0.5</td>\n",
       "      <td>SAMME</td>\n",
       "      <td>0.670877</td>\n",
       "    </tr>\n",
       "    <tr>\n",
       "      <td>46</td>\n",
       "      <td>15</td>\n",
       "      <td>1000</td>\n",
       "      <td>1</td>\n",
       "      <td>SAMME.R</td>\n",
       "      <td>0.561000</td>\n",
       "    </tr>\n",
       "  </tbody>\n",
       "</table>\n",
       "</div>"
      ],
      "text/plain": [
       "   param_pca__n_components param_clf__n_estimators param_clf__learning_rate  \\\n",
       "15                      20                     500                      0.5   \n",
       "46                      15                    1000                        1   \n",
       "\n",
       "   param_clf__algorithm  mean_test_AUC  \n",
       "15                SAMME       0.670877  \n",
       "46              SAMME.R       0.561000  "
      ]
     },
     "execution_count": 120,
     "metadata": {},
     "output_type": "execute_result"
    }
   ],
   "source": [
    " pd.DataFrame(results[5][\"results\"]).loc[[adatboost_idmax.name,adatboost_idmin.name],[ 'param_pca__n_components', 'param_clf__n_estimators',\n",
    "       'param_clf__learning_rate', 'param_clf__algorithm','mean_test_AUC']]"
   ]
  },
  {
   "cell_type": "markdown",
   "metadata": {},
   "source": [
    "# RUNNING MODELS WITH SELECTED PARAMETERS"
   ]
  },
  {
   "cell_type": "code",
   "execution_count": 46,
   "metadata": {
    "scrolled": true
   },
   "outputs": [],
   "source": [
    "def run_kfold(model,model_name,x,y):\n",
    "    print(model_name)\n",
    "    best_clf = model\n",
    "    precision_list = []\n",
    "    recall_list = []\n",
    "    f1_list = []\n",
    "    auc_list = []\n",
    "    accuaracy_list = []\n",
    "    KFold(n_splits=10,random_state=42,shuffle=False)\n",
    "    kf = KFold(n_splits=10)\n",
    "    i = 0\n",
    "    for train_index, test_index in kf.split(x):\n",
    "        X_train_fold, X_test_fold = x.iloc[train_index], x.iloc[test_index]\n",
    "        y_train_fold, y_test_fold = y.iloc[train_index], y.iloc[test_index]\n",
    "        best_clf.fit(X_train_fold, y_train_fold)\n",
    "        pred = best_clf.predict(X_test_fold)\n",
    "        pred_prob = best_clf.predict_proba(X_test_fold)\n",
    "        print(\"fold {}\".format(i))\n",
    "        i += 1\n",
    "        print(classification_report(y_test_fold, pred))\n",
    "        precision_list.append(precision_score(y_test_fold, pred,average=\"weighted\"))\n",
    "        recall_list.append(recall_score(y_test_fold, pred,average=\"weighted\"))\n",
    "        f1_list.append(f1_score(y_test_fold, pred ,average=\"weighted\"))\n",
    "        accuaracy_list.append(accuracy_score(y_test_fold, pred))\n",
    "        pred_zip = [item[1] for item in pred_prob]\n",
    "        auc_list.append(roc_auc_score(y_test_fold, pred_zip, average=\"weighted\"))\n",
    "    return precision_list,recall_list,f1_list,accuaracy_list,auc_list\n",
    "    "
   ]
  },
  {
   "cell_type": "code",
   "execution_count": 47,
   "metadata": {
    "collapsed": true
   },
   "outputs": [
    {
     "name": "stdout",
     "output_type": "stream",
     "text": [
      "decision\n",
      "fold 0\n",
      "              precision    recall  f1-score   support\n",
      "\n",
      "         0.0       0.33      0.50      0.40        18\n",
      "         1.0       0.80      0.67      0.73        55\n",
      "\n",
      "    accuracy                           0.63        73\n",
      "   macro avg       0.57      0.59      0.57        73\n",
      "weighted avg       0.69      0.63      0.65        73\n",
      "\n",
      "fold 1\n",
      "              precision    recall  f1-score   support\n",
      "\n",
      "         0.0       0.38      0.50      0.43        26\n",
      "         1.0       0.67      0.55      0.60        47\n",
      "\n",
      "    accuracy                           0.53        73\n",
      "   macro avg       0.52      0.53      0.52        73\n",
      "weighted avg       0.57      0.53      0.54        73\n",
      "\n",
      "fold 2\n",
      "              precision    recall  f1-score   support\n",
      "\n",
      "         0.0       0.25      0.32      0.28        19\n",
      "         1.0       0.73      0.67      0.70        54\n",
      "\n",
      "    accuracy                           0.58        73\n",
      "   macro avg       0.49      0.49      0.49        73\n",
      "weighted avg       0.61      0.58      0.59        73\n",
      "\n",
      "fold 3\n",
      "              precision    recall  f1-score   support\n",
      "\n",
      "         0.0       0.35      0.55      0.43        20\n",
      "         1.0       0.79      0.62      0.69        53\n",
      "\n",
      "    accuracy                           0.60        73\n",
      "   macro avg       0.57      0.59      0.56        73\n",
      "weighted avg       0.67      0.60      0.62        73\n",
      "\n",
      "fold 4\n",
      "              precision    recall  f1-score   support\n",
      "\n",
      "         0.0       0.39      0.58      0.47        24\n",
      "         1.0       0.73      0.55      0.63        49\n",
      "\n",
      "    accuracy                           0.56        73\n",
      "   macro avg       0.56      0.57      0.55        73\n",
      "weighted avg       0.62      0.56      0.57        73\n",
      "\n",
      "fold 5\n",
      "              precision    recall  f1-score   support\n",
      "\n",
      "         0.0       0.37      0.43      0.40        23\n",
      "         1.0       0.72      0.66      0.69        50\n",
      "\n",
      "    accuracy                           0.59        73\n",
      "   macro avg       0.54      0.55      0.54        73\n",
      "weighted avg       0.61      0.59      0.60        73\n",
      "\n",
      "fold 6\n",
      "              precision    recall  f1-score   support\n",
      "\n",
      "         0.0       0.29      0.59      0.39        17\n",
      "         1.0       0.82      0.57      0.67        56\n",
      "\n",
      "    accuracy                           0.58        73\n",
      "   macro avg       0.56      0.58      0.53        73\n",
      "weighted avg       0.70      0.58      0.61        73\n",
      "\n",
      "fold 7\n",
      "              precision    recall  f1-score   support\n",
      "\n",
      "         0.0       0.37      0.58      0.45        19\n",
      "         1.0       0.81      0.65      0.72        54\n",
      "\n",
      "    accuracy                           0.63        73\n",
      "   macro avg       0.59      0.61      0.59        73\n",
      "weighted avg       0.70      0.63      0.65        73\n",
      "\n",
      "fold 8\n",
      "              precision    recall  f1-score   support\n",
      "\n",
      "         0.0       0.18      0.50      0.27        12\n",
      "         1.0       0.85      0.56      0.67        61\n",
      "\n",
      "    accuracy                           0.55        73\n",
      "   macro avg       0.52      0.53      0.47        73\n",
      "weighted avg       0.74      0.55      0.61        73\n",
      "\n",
      "fold 9\n",
      "              precision    recall  f1-score   support\n",
      "\n",
      "         0.0       0.24      0.41      0.30        17\n",
      "         1.0       0.77      0.60      0.67        55\n",
      "\n",
      "    accuracy                           0.56        72\n",
      "   macro avg       0.50      0.51      0.49        72\n",
      "weighted avg       0.64      0.56      0.59        72\n",
      "\n"
     ]
    }
   ],
   "source": [
    "precision_list_decision,recall_list_decision,f1_list_decision,accuaracy_list_decision,auc_list_decision =  run_kfold(results[0]['classifier'],results[0]['classifier_name'], x, y_bool)"
   ]
  },
  {
   "cell_type": "code",
   "execution_count": 122,
   "metadata": {
    "collapsed": true
   },
   "outputs": [
    {
     "name": "stdout",
     "output_type": "stream",
     "text": [
      "[0.6882072662298988, 0.5654042438893365, 0.6085406765445904, 0.6676661826904866, 0.6176724669875355, 0.6080559415878058, 0.6979276431331226, 0.6975363703939684, 0.7401618929016189, 0.6432326472422704] \n",
      " [0.6301369863013698, 0.5342465753424658, 0.5753424657534246, 0.6027397260273972, 0.5616438356164384, 0.589041095890411, 0.5753424657534246, 0.6301369863013698, 0.547945205479452, 0.5555555555555556] \n",
      " [0.6506442425064424, 0.5436338536688966, 0.5897246355743745, 0.6225822412598782, 0.5748964638419879, 0.5969178082191782, 0.6081230473443883, 0.6506806083540605, 0.6064288620642887, 0.5863156856945676] \n",
      " [0.6301369863013698, 0.5342465753424658, 0.5753424657534246, 0.6027397260273972, 0.5616438356164384, 0.589041095890411, 0.5753424657534246, 0.6301369863013698, 0.547945205479452, 0.5555555555555556] \n",
      " [0.6131313131313132, 0.5380523731587561, 0.4605263157894737, 0.6099056603773585, 0.5680272108843537, 0.5556521739130434, 0.6081932773109244, 0.601364522417154, 0.592896174863388, 0.5577540106951872]\n"
     ]
    }
   ],
   "source": [
    "print(precision_list_decision,'\\n',recall_list_decision,'\\n',f1_list_decision,'\\n',accuaracy_list_decision,'\\n',auc_list_decision)"
   ]
  },
  {
   "cell_type": "code",
   "execution_count": 48,
   "metadata": {
    "collapsed": true
   },
   "outputs": [
    {
     "name": "stdout",
     "output_type": "stream",
     "text": [
      "rf\n",
      "fold 0\n",
      "              precision    recall  f1-score   support\n",
      "\n",
      "         0.0       0.38      0.33      0.35        18\n",
      "         1.0       0.79      0.82      0.80        55\n",
      "\n",
      "    accuracy                           0.70        73\n",
      "   macro avg       0.58      0.58      0.58        73\n",
      "weighted avg       0.69      0.70      0.69        73\n",
      "\n",
      "fold 1\n",
      "              precision    recall  f1-score   support\n",
      "\n",
      "         0.0       0.45      0.50      0.47        26\n",
      "         1.0       0.70      0.66      0.68        47\n",
      "\n",
      "    accuracy                           0.60        73\n",
      "   macro avg       0.58      0.58      0.58        73\n",
      "weighted avg       0.61      0.60      0.61        73\n",
      "\n",
      "fold 2\n",
      "              precision    recall  f1-score   support\n",
      "\n",
      "         0.0       0.56      0.26      0.36        19\n",
      "         1.0       0.78      0.93      0.85        54\n",
      "\n",
      "    accuracy                           0.75        73\n",
      "   macro avg       0.67      0.59      0.60        73\n",
      "weighted avg       0.72      0.75      0.72        73\n",
      "\n",
      "fold 3\n",
      "              precision    recall  f1-score   support\n",
      "\n",
      "         0.0       0.47      0.45      0.46        20\n",
      "         1.0       0.80      0.81      0.80        53\n",
      "\n",
      "    accuracy                           0.71        73\n",
      "   macro avg       0.63      0.63      0.63        73\n",
      "weighted avg       0.71      0.71      0.71        73\n",
      "\n",
      "fold 4\n",
      "              precision    recall  f1-score   support\n",
      "\n",
      "         0.0       0.55      0.46      0.50        24\n",
      "         1.0       0.75      0.82      0.78        49\n",
      "\n",
      "    accuracy                           0.70        73\n",
      "   macro avg       0.65      0.64      0.64        73\n",
      "weighted avg       0.69      0.70      0.69        73\n",
      "\n",
      "fold 5\n",
      "              precision    recall  f1-score   support\n",
      "\n",
      "         0.0       0.58      0.48      0.52        23\n",
      "         1.0       0.78      0.84      0.81        50\n",
      "\n",
      "    accuracy                           0.73        73\n",
      "   macro avg       0.68      0.66      0.67        73\n",
      "weighted avg       0.72      0.73      0.72        73\n",
      "\n",
      "fold 6\n",
      "              precision    recall  f1-score   support\n",
      "\n",
      "         0.0       0.48      0.59      0.53        17\n",
      "         1.0       0.87      0.80      0.83        56\n",
      "\n",
      "    accuracy                           0.75        73\n",
      "   macro avg       0.67      0.70      0.68        73\n",
      "weighted avg       0.77      0.75      0.76        73\n",
      "\n",
      "fold 7\n",
      "              precision    recall  f1-score   support\n",
      "\n",
      "         0.0       0.22      0.21      0.22        19\n",
      "         1.0       0.73      0.74      0.73        54\n",
      "\n",
      "    accuracy                           0.60        73\n",
      "   macro avg       0.47      0.48      0.48        73\n",
      "weighted avg       0.60      0.60      0.60        73\n",
      "\n",
      "fold 8\n",
      "              precision    recall  f1-score   support\n",
      "\n",
      "         0.0       0.33      0.42      0.37        12\n",
      "         1.0       0.88      0.84      0.86        61\n",
      "\n",
      "    accuracy                           0.77        73\n",
      "   macro avg       0.61      0.63      0.61        73\n",
      "weighted avg       0.79      0.77      0.78        73\n",
      "\n",
      "fold 9\n",
      "              precision    recall  f1-score   support\n",
      "\n",
      "         0.0       0.45      0.53      0.49        17\n",
      "         1.0       0.85      0.80      0.82        55\n",
      "\n",
      "    accuracy                           0.74        72\n",
      "   macro avg       0.65      0.66      0.65        72\n",
      "weighted avg       0.75      0.74      0.74        72\n",
      "\n"
     ]
    }
   ],
   "source": [
    "precision_list_rf,recall_list_rf,f1_list_rf,accuaracy_list_rf,auc_list_rf =  run_kfold(results[1]['classifier'],results[1]['classifier_name'], x, y_bool)"
   ]
  },
  {
   "cell_type": "code",
   "execution_count": 123,
   "metadata": {
    "collapsed": true
   },
   "outputs": [
    {
     "name": "stdout",
     "output_type": "stream",
     "text": [
      "[0.6872746935832732, 0.6132713531154722, 0.7225076103500762, 0.707909423482603, 0.6874127681571466, 0.7151325803092207, 0.7747503637914598, 0.5958212259582123, 0.7895606991025035, 0.7526175213675214] \n",
      " [0.6986301369863014, 0.6027397260273972, 0.7534246575342466, 0.7123287671232876, 0.6986301369863014, 0.726027397260274, 0.7534246575342466, 0.6027397260273972, 0.7671232876712328, 0.7361111111111112] \n",
      " [0.6924571198342351, 0.6070258508614673, 0.7198414541112474, 0.709984932491654, 0.6908407198495837, 0.7182497867429375, 0.7618360970920453, 0.5991936387814232, 0.777125462056969, 0.7431099323622689] \n",
      " [0.6986301369863014, 0.6027397260273972, 0.7534246575342466, 0.7123287671232876, 0.6986301369863014, 0.726027397260274, 0.7534246575342466, 0.6027397260273972, 0.7671232876712328, 0.7361111111111112] \n",
      " [0.6272727272727273, 0.574468085106383, 0.5584795321637428, 0.659433962264151, 0.6683673469387754, 0.6852173913043478, 0.7741596638655462, 0.5097465886939572, 0.6489071038251366, 0.7112299465240641]\n"
     ]
    }
   ],
   "source": [
    "print(precision_list_rf,'\\n',recall_list_rf,'\\n',f1_list_rf,'\\n',accuaracy_list_rf,'\\n',auc_list_rf)"
   ]
  },
  {
   "cell_type": "code",
   "execution_count": 49,
   "metadata": {
    "collapsed": true
   },
   "outputs": [
    {
     "name": "stdout",
     "output_type": "stream",
     "text": [
      "brf\n",
      "fold 0\n",
      "              precision    recall  f1-score   support\n",
      "\n",
      "         0.0       0.32      0.67      0.43        18\n",
      "         1.0       0.83      0.53      0.64        55\n",
      "\n",
      "    accuracy                           0.56        73\n",
      "   macro avg       0.57      0.60      0.54        73\n",
      "weighted avg       0.70      0.56      0.59        73\n",
      "\n",
      "fold 1\n",
      "              precision    recall  f1-score   support\n",
      "\n",
      "         0.0       0.44      0.65      0.52        26\n",
      "         1.0       0.74      0.53      0.62        47\n",
      "\n",
      "    accuracy                           0.58        73\n",
      "   macro avg       0.59      0.59      0.57        73\n",
      "weighted avg       0.63      0.58      0.58        73\n",
      "\n",
      "fold 2\n",
      "              precision    recall  f1-score   support\n",
      "\n",
      "         0.0       0.39      0.63      0.48        19\n",
      "         1.0       0.83      0.65      0.73        54\n",
      "\n",
      "    accuracy                           0.64        73\n",
      "   macro avg       0.61      0.64      0.60        73\n",
      "weighted avg       0.72      0.64      0.66        73\n",
      "\n",
      "fold 3\n",
      "              precision    recall  f1-score   support\n",
      "\n",
      "         0.0       0.42      0.50      0.45        20\n",
      "         1.0       0.80      0.74      0.76        53\n",
      "\n",
      "    accuracy                           0.67        73\n",
      "   macro avg       0.61      0.62      0.61        73\n",
      "weighted avg       0.69      0.67      0.68        73\n",
      "\n",
      "fold 4\n",
      "              precision    recall  f1-score   support\n",
      "\n",
      "         0.0       0.50      0.62      0.56        24\n",
      "         1.0       0.79      0.69      0.74        49\n",
      "\n",
      "    accuracy                           0.67        73\n",
      "   macro avg       0.65      0.66      0.65        73\n",
      "weighted avg       0.70      0.67      0.68        73\n",
      "\n",
      "fold 5\n",
      "              precision    recall  f1-score   support\n",
      "\n",
      "         0.0       0.43      0.57      0.49        23\n",
      "         1.0       0.77      0.66      0.71        50\n",
      "\n",
      "    accuracy                           0.63        73\n",
      "   macro avg       0.60      0.61      0.60        73\n",
      "weighted avg       0.66      0.63      0.64        73\n",
      "\n",
      "fold 6\n",
      "              precision    recall  f1-score   support\n",
      "\n",
      "         0.0       0.39      0.76      0.52        17\n",
      "         1.0       0.90      0.64      0.75        56\n",
      "\n",
      "    accuracy                           0.67        73\n",
      "   macro avg       0.65      0.70      0.64        73\n",
      "weighted avg       0.78      0.67      0.70        73\n",
      "\n",
      "fold 7\n",
      "              precision    recall  f1-score   support\n",
      "\n",
      "         0.0       0.34      0.53      0.42        19\n",
      "         1.0       0.80      0.65      0.71        54\n",
      "\n",
      "    accuracy                           0.62        73\n",
      "   macro avg       0.57      0.59      0.57        73\n",
      "weighted avg       0.68      0.62      0.64        73\n",
      "\n",
      "fold 8\n",
      "              precision    recall  f1-score   support\n",
      "\n",
      "         0.0       0.24      0.67      0.36        12\n",
      "         1.0       0.90      0.59      0.71        61\n",
      "\n",
      "    accuracy                           0.60        73\n",
      "   macro avg       0.57      0.63      0.53        73\n",
      "weighted avg       0.79      0.60      0.65        73\n",
      "\n",
      "fold 9\n",
      "              precision    recall  f1-score   support\n",
      "\n",
      "         0.0       0.31      0.65      0.42        17\n",
      "         1.0       0.84      0.56      0.67        55\n",
      "\n",
      "    accuracy                           0.58        72\n",
      "   macro avg       0.58      0.61      0.55        72\n",
      "weighted avg       0.71      0.58      0.61        72\n",
      "\n"
     ]
    }
   ],
   "source": [
    "precision_list_brf,recall_list_brf,f1_list_brf,accuaracy_list_brf,auc_list_brf =  run_kfold(results[2]['classifier'],results[2]['classifier_name'], x, y_bool)"
   ]
  },
  {
   "cell_type": "code",
   "execution_count": 125,
   "metadata": {
    "collapsed": true
   },
   "outputs": [
    {
     "name": "stdout",
     "output_type": "stream",
     "text": [
      "[0.7021320424348543, 0.6286596830513028, 0.717189571365444, 0.6920137918180972, 0.6951258362535839, 0.6621747902729107, 0.7821502698215027, 0.6781680766092669, 0.7919053549190535, 0.7142213642213642] [0.5616438356164384, 0.5753424657534246, 0.6438356164383562, 0.6712328767123288, 0.6712328767123288, 0.6301369863013698, 0.6712328767123288, 0.6164383561643836, 0.6027397260273972, 0.5833333333333334] [0.5912154816264406, 0.5837307627261966, 0.6643150684931507, 0.6797304226796572, 0.6787770498312488, 0.640642326515979, 0.6964383561643835, 0.6368232224396607, 0.6541344545413444, 0.6146878483835005] [0.5616438356164384, 0.5753424657534246, 0.6438356164383562, 0.6712328767123288, 0.6712328767123288, 0.6301369863013698, 0.6712328767123288, 0.6164383561643836, 0.6027397260273972, 0.5833333333333334] [0.6282828282828282, 0.5613747954173487, 0.7085769980506823, 0.6754716981132075, 0.71343537414966, 0.6608695652173913, 0.8130252100840336, 0.5516569200779727, 0.6311475409836066, 0.7016042780748664]\n"
     ]
    }
   ],
   "source": [
    "print(precision_list_brf,recall_list_brf,f1_list_brf,accuaracy_list_brf,auc_list_brf)"
   ]
  },
  {
   "cell_type": "code",
   "execution_count": 50,
   "metadata": {
    "collapsed": true
   },
   "outputs": [
    {
     "name": "stdout",
     "output_type": "stream",
     "text": [
      "xgboost\n",
      "fold 0\n",
      "              precision    recall  f1-score   support\n",
      "\n",
      "         0.0       0.27      0.67      0.38        18\n",
      "         1.0       0.79      0.40      0.53        55\n",
      "\n",
      "    accuracy                           0.47        73\n",
      "   macro avg       0.53      0.53      0.46        73\n",
      "weighted avg       0.66      0.47      0.49        73\n",
      "\n",
      "fold 1\n",
      "              precision    recall  f1-score   support\n",
      "\n",
      "         0.0       0.39      0.58      0.47        26\n",
      "         1.0       0.69      0.51      0.59        47\n",
      "\n",
      "    accuracy                           0.53        73\n",
      "   macro avg       0.54      0.54      0.53        73\n",
      "weighted avg       0.58      0.53      0.54        73\n",
      "\n",
      "fold 2\n",
      "              precision    recall  f1-score   support\n",
      "\n",
      "         0.0       0.37      0.74      0.49        19\n",
      "         1.0       0.86      0.56      0.67        54\n",
      "\n",
      "    accuracy                           0.60        73\n",
      "   macro avg       0.61      0.65      0.58        73\n",
      "weighted avg       0.73      0.60      0.63        73\n",
      "\n",
      "fold 3\n",
      "              precision    recall  f1-score   support\n",
      "\n",
      "         0.0       0.38      0.45      0.41        20\n",
      "         1.0       0.78      0.72      0.75        53\n",
      "\n",
      "    accuracy                           0.64        73\n",
      "   macro avg       0.58      0.58      0.58        73\n",
      "weighted avg       0.67      0.64      0.65        73\n",
      "\n",
      "fold 4\n",
      "              precision    recall  f1-score   support\n",
      "\n",
      "         0.0       0.52      0.67      0.58        24\n",
      "         1.0       0.81      0.69      0.75        49\n",
      "\n",
      "    accuracy                           0.68        73\n",
      "   macro avg       0.66      0.68      0.66        73\n",
      "weighted avg       0.71      0.68      0.69        73\n",
      "\n",
      "fold 5\n",
      "              precision    recall  f1-score   support\n",
      "\n",
      "         0.0       0.42      0.57      0.48        23\n",
      "         1.0       0.76      0.64      0.70        50\n",
      "\n",
      "    accuracy                           0.62        73\n",
      "   macro avg       0.59      0.60      0.59        73\n",
      "weighted avg       0.65      0.62      0.63        73\n",
      "\n",
      "fold 6\n",
      "              precision    recall  f1-score   support\n",
      "\n",
      "         0.0       0.33      0.82      0.47        17\n",
      "         1.0       0.90      0.50      0.64        56\n",
      "\n",
      "    accuracy                           0.58        73\n",
      "   macro avg       0.62      0.66      0.56        73\n",
      "weighted avg       0.77      0.58      0.60        73\n",
      "\n",
      "fold 7\n",
      "              precision    recall  f1-score   support\n",
      "\n",
      "         0.0       0.28      0.53      0.36        19\n",
      "         1.0       0.76      0.52      0.62        54\n",
      "\n",
      "    accuracy                           0.52        73\n",
      "   macro avg       0.52      0.52      0.49        73\n",
      "weighted avg       0.63      0.52      0.55        73\n",
      "\n",
      "fold 8\n",
      "              precision    recall  f1-score   support\n",
      "\n",
      "         0.0       0.21      0.75      0.33        12\n",
      "         1.0       0.90      0.46      0.61        61\n",
      "\n",
      "    accuracy                           0.51        73\n",
      "   macro avg       0.56      0.60      0.47        73\n",
      "weighted avg       0.79      0.51      0.56        73\n",
      "\n",
      "fold 9\n",
      "              precision    recall  f1-score   support\n",
      "\n",
      "         0.0       0.31      0.71      0.43        17\n",
      "         1.0       0.85      0.51      0.64        55\n",
      "\n",
      "    accuracy                           0.56        72\n",
      "   macro avg       0.58      0.61      0.53        72\n",
      "weighted avg       0.72      0.56      0.59        72\n",
      "\n"
     ]
    }
   ],
   "source": [
    "precision_list_xgboost,recall_list_xgboost,f1_list_xgboost,accuaracy_list_xgboost,auc_list_xgboost =  run_kfold(results[3]['classifier'],results[3]['classifier_name'], x, y_bool)"
   ]
  },
  {
   "cell_type": "code",
   "execution_count": 127,
   "metadata": {
    "collapsed": true
   },
   "outputs": [
    {
     "name": "stdout",
     "output_type": "stream",
     "text": [
      "[0.6577299412915851, 0.5820784838809352, 0.7299412915851272, 0.6657813810455688, 0.7130652526145234, 0.6539780737748038, 0.7705111209309176, 0.6320909951046938, 0.7899753803421501, 0.7207977207977209] [0.4657534246575342, 0.5342465753424657, 0.6027397260273972, 0.6438356164383562, 0.684931506849315, 0.6164383561643836, 0.5753424657534246, 0.5205479452054794, 0.5068493150684932, 0.5555555555555556] [0.49333930634475287, 0.5438314400267291, 0.6265455851418603, 0.6530412912362953, 0.6928633010824792, 0.6281737365715925, 0.6042982687899142, 0.5498610978063033, 0.5634306134603931, 0.5873015873015873] [0.4657534246575342, 0.5342465753424658, 0.6027397260273972, 0.6438356164383562, 0.684931506849315, 0.6164383561643836, 0.5753424657534246, 0.5205479452054794, 0.5068493150684932, 0.5555555555555556] [0.5969696969696969, 0.5703764320785597, 0.7348927875243665, 0.6160377358490565, 0.7304421768707483, 0.6695652173913045, 0.7741596638655462, 0.5594541910331384, 0.6475409836065574, 0.7080213903743315]\n"
     ]
    }
   ],
   "source": [
    "print(precision_list_xgboost,recall_list_xgboost,f1_list_xgboost,accuaracy_list_xgboost,auc_list_xgboost)"
   ]
  },
  {
   "cell_type": "code",
   "execution_count": 51,
   "metadata": {
    "collapsed": true
   },
   "outputs": [
    {
     "name": "stdout",
     "output_type": "stream",
     "text": [
      "catboost\n",
      "fold 0\n",
      "              precision    recall  f1-score   support\n",
      "\n",
      "         0.0       0.30      0.56      0.39        18\n",
      "         1.0       0.80      0.58      0.67        55\n",
      "\n",
      "    accuracy                           0.58        73\n",
      "   macro avg       0.55      0.57      0.53        73\n",
      "weighted avg       0.68      0.58      0.60        73\n",
      "\n",
      "fold 1\n",
      "              precision    recall  f1-score   support\n",
      "\n",
      "         0.0       0.38      0.42      0.40        26\n",
      "         1.0       0.66      0.62      0.64        47\n",
      "\n",
      "    accuracy                           0.55        73\n",
      "   macro avg       0.52      0.52      0.52        73\n",
      "weighted avg       0.56      0.55      0.55        73\n",
      "\n",
      "fold 2\n",
      "              precision    recall  f1-score   support\n",
      "\n",
      "         0.0       0.33      0.37      0.35        19\n",
      "         1.0       0.77      0.74      0.75        54\n",
      "\n",
      "    accuracy                           0.64        73\n",
      "   macro avg       0.55      0.55      0.55        73\n",
      "weighted avg       0.66      0.64      0.65        73\n",
      "\n",
      "fold 3\n",
      "              precision    recall  f1-score   support\n",
      "\n",
      "         0.0       0.56      0.50      0.53        20\n",
      "         1.0       0.82      0.85      0.83        53\n",
      "\n",
      "    accuracy                           0.75        73\n",
      "   macro avg       0.69      0.67      0.68        73\n",
      "weighted avg       0.75      0.75      0.75        73\n",
      "\n",
      "fold 4\n",
      "              precision    recall  f1-score   support\n",
      "\n",
      "         0.0       0.61      0.58      0.60        24\n",
      "         1.0       0.80      0.82      0.81        49\n",
      "\n",
      "    accuracy                           0.74        73\n",
      "   macro avg       0.70      0.70      0.70        73\n",
      "weighted avg       0.74      0.74      0.74        73\n",
      "\n",
      "fold 5\n",
      "              precision    recall  f1-score   support\n",
      "\n",
      "         0.0       0.48      0.52      0.50        23\n",
      "         1.0       0.77      0.74      0.76        50\n",
      "\n",
      "    accuracy                           0.67        73\n",
      "   macro avg       0.63      0.63      0.63        73\n",
      "weighted avg       0.68      0.67      0.67        73\n",
      "\n",
      "fold 6\n",
      "              precision    recall  f1-score   support\n",
      "\n",
      "         0.0       0.44      0.71      0.55        17\n",
      "         1.0       0.89      0.73      0.80        56\n",
      "\n",
      "    accuracy                           0.73        73\n",
      "   macro avg       0.67      0.72      0.67        73\n",
      "weighted avg       0.79      0.73      0.74        73\n",
      "\n",
      "fold 7\n",
      "              precision    recall  f1-score   support\n",
      "\n",
      "         0.0       0.29      0.37      0.33        19\n",
      "         1.0       0.76      0.69      0.72        54\n",
      "\n",
      "    accuracy                           0.60        73\n",
      "   macro avg       0.52      0.53      0.52        73\n",
      "weighted avg       0.63      0.60      0.62        73\n",
      "\n",
      "fold 8\n",
      "              precision    recall  f1-score   support\n",
      "\n",
      "         0.0       0.32      0.67      0.43        12\n",
      "         1.0       0.92      0.72      0.81        61\n",
      "\n",
      "    accuracy                           0.71        73\n",
      "   macro avg       0.62      0.69      0.62        73\n",
      "weighted avg       0.82      0.71      0.75        73\n",
      "\n",
      "fold 9\n",
      "              precision    recall  f1-score   support\n",
      "\n",
      "         0.0       0.35      0.65      0.46        17\n",
      "         1.0       0.85      0.64      0.73        55\n",
      "\n",
      "    accuracy                           0.64        72\n",
      "   macro avg       0.60      0.64      0.59        72\n",
      "weighted avg       0.74      0.64      0.67        72\n",
      "\n"
     ]
    }
   ],
   "source": [
    "precision_list_catboost,recall_list_catboost,f1_list_catboost,accuaracy_list_catboost,auc_list_catboost =  run_kfold(results[4]['classifier'],results[4]['classifier_name'], x, y_bool)"
   ]
  },
  {
   "cell_type": "code",
   "execution_count": 128,
   "metadata": {
    "collapsed": true
   },
   "outputs": [
    {
     "name": "stdout",
     "output_type": "stream",
     "text": [
      "[0.6774595267745952, 0.5594430368875337, 0.6557780119423956, 0.7462294174622942, 0.7371054198927934, 0.6792009132420092, 0.7872410826550195, 0.6344818749417575, 0.8185844748858446, 0.7358816330098785] [0.5753424657534246, 0.547945205479452, 0.6438356164383562, 0.7534246575342466, 0.7397260273972602, 0.6712328767123288, 0.726027397260274, 0.6027397260273972, 0.7123287671232876, 0.6388888888888888] [0.6042665083336868, 0.5528225199458077, 0.6493796846730421, 0.7492189377553473, 0.73827167036144, 0.6747274252166621, 0.7437306180255413, 0.6161940139244146, 0.7457108987836648, 0.6652199074074073] [0.5753424657534246, 0.547945205479452, 0.6438356164383562, 0.7534246575342466, 0.7397260273972602, 0.6712328767123288, 0.726027397260274, 0.6027397260273972, 0.7123287671232876, 0.6388888888888888] [0.6, 0.5785597381342062, 0.652046783625731, 0.7216981132075472, 0.7431972789115646, 0.6478260869565218, 0.8130252100840336, 0.5682261208576997, 0.6393442622950819, 0.7026737967914438]\n"
     ]
    }
   ],
   "source": [
    "print(precision_list_catboost,recall_list_catboost,f1_list_catboost,accuaracy_list_catboost,auc_list_catboost)"
   ]
  },
  {
   "cell_type": "code",
   "execution_count": 52,
   "metadata": {
    "collapsed": true
   },
   "outputs": [
    {
     "name": "stdout",
     "output_type": "stream",
     "text": [
      "adaboost\n",
      "fold 0\n",
      "              precision    recall  f1-score   support\n",
      "\n",
      "         0.0       0.26      0.44      0.33        18\n",
      "         1.0       0.76      0.58      0.66        55\n",
      "\n",
      "    accuracy                           0.55        73\n",
      "   macro avg       0.51      0.51      0.49        73\n",
      "weighted avg       0.64      0.55      0.58        73\n",
      "\n",
      "fold 1\n",
      "              precision    recall  f1-score   support\n",
      "\n",
      "         0.0       0.37      0.50      0.43        26\n",
      "         1.0       0.66      0.53      0.59        47\n",
      "\n",
      "    accuracy                           0.52        73\n",
      "   macro avg       0.51      0.52      0.51        73\n",
      "weighted avg       0.56      0.52      0.53        73\n",
      "\n",
      "fold 2\n",
      "              precision    recall  f1-score   support\n",
      "\n",
      "         0.0       0.43      0.53      0.48        19\n",
      "         1.0       0.82      0.76      0.79        54\n",
      "\n",
      "    accuracy                           0.70        73\n",
      "   macro avg       0.63      0.64      0.63        73\n",
      "weighted avg       0.72      0.70      0.71        73\n",
      "\n",
      "fold 3\n",
      "              precision    recall  f1-score   support\n",
      "\n",
      "         0.0       0.42      0.40      0.41        20\n",
      "         1.0       0.78      0.79      0.79        53\n",
      "\n",
      "    accuracy                           0.68        73\n",
      "   macro avg       0.60      0.60      0.60        73\n",
      "weighted avg       0.68      0.68      0.68        73\n",
      "\n",
      "fold 4\n",
      "              precision    recall  f1-score   support\n",
      "\n",
      "         0.0       0.50      0.71      0.59        24\n",
      "         1.0       0.82      0.65      0.73        49\n",
      "\n",
      "    accuracy                           0.67        73\n",
      "   macro avg       0.66      0.68      0.66        73\n",
      "weighted avg       0.72      0.67      0.68        73\n",
      "\n",
      "fold 5\n",
      "              precision    recall  f1-score   support\n",
      "\n",
      "         0.0       0.44      0.78      0.56        23\n",
      "         1.0       0.84      0.54      0.66        50\n",
      "\n",
      "    accuracy                           0.62        73\n",
      "   macro avg       0.64      0.66      0.61        73\n",
      "weighted avg       0.72      0.62      0.63        73\n",
      "\n",
      "fold 6\n",
      "              precision    recall  f1-score   support\n",
      "\n",
      "         0.0       0.42      0.76      0.54        17\n",
      "         1.0       0.90      0.68      0.78        56\n",
      "\n",
      "    accuracy                           0.70        73\n",
      "   macro avg       0.66      0.72      0.66        73\n",
      "weighted avg       0.79      0.70      0.72        73\n",
      "\n",
      "fold 7\n",
      "              precision    recall  f1-score   support\n",
      "\n",
      "         0.0       0.27      0.47      0.35        19\n",
      "         1.0       0.75      0.56      0.64        54\n",
      "\n",
      "    accuracy                           0.53        73\n",
      "   macro avg       0.51      0.51      0.49        73\n",
      "weighted avg       0.63      0.53      0.56        73\n",
      "\n",
      "fold 8\n",
      "              precision    recall  f1-score   support\n",
      "\n",
      "         0.0       0.19      0.42      0.26        12\n",
      "         1.0       0.85      0.64      0.73        61\n",
      "\n",
      "    accuracy                           0.60        73\n",
      "   macro avg       0.52      0.53      0.49        73\n",
      "weighted avg       0.74      0.60      0.65        73\n",
      "\n",
      "fold 9\n",
      "              precision    recall  f1-score   support\n",
      "\n",
      "         0.0       0.36      0.71      0.48        17\n",
      "         1.0       0.87      0.62      0.72        55\n",
      "\n",
      "    accuracy                           0.64        72\n",
      "   macro avg       0.62      0.66      0.60        72\n",
      "weighted avg       0.75      0.64      0.67        72\n",
      "\n"
     ]
    }
   ],
   "source": [
    "precision_list_adaboost,recall_list_adaboost,f1_list_adaboost,accuaracy_list_adaboost,auc_list_adaboost =  run_kfold(results[5]['classifier'],results[5]['classifier_name'], x, y_bool)"
   ]
  },
  {
   "cell_type": "code",
   "execution_count": 129,
   "metadata": {
    "collapsed": true
   },
   "outputs": [
    {
     "name": "stdout",
     "output_type": "stream",
     "text": [
      "[0.637670180754582, 0.555865691626326, 0.7197379392495532, 0.6800448610109748, 0.7151387425360028, 0.7162337119946541, 0.7917219030785093, 0.6257783312577833, 0.7388988154324664, 0.7518130018130018] [0.547945205479452, 0.5205479452054794, 0.6986301369863014, 0.684931506849315, 0.6712328767123288, 0.6164383561643836, 0.6986301369863014, 0.5342465753424658, 0.6027397260273972, 0.6388888888888888] [0.5776193262222273, 0.530534603241701, 0.7071855085553714, 0.6823644498718112, 0.6808949199123974, 0.6282784831272971, 0.7210534898891063, 0.5622603860726857, 0.6512905862540993, 0.665933806146572] [0.547945205479452, 0.5205479452054794, 0.6986301369863014, 0.684931506849315, 0.6712328767123288, 0.6164383561643836, 0.6986301369863014, 0.5342465753424658, 0.6027397260273972, 0.6388888888888888] [0.609090909090909, 0.5323240589198035, 0.655458089668616, 0.6424528301886793, 0.7019557823129252, 0.7104347826086956, 0.8256302521008403, 0.4639376218323587, 0.575136612021858, 0.7508021390374331]\n"
     ]
    }
   ],
   "source": [
    "print(precision_list_adaboost,recall_list_adaboost,f1_list_adaboost,accuaracy_list_adaboost,auc_list_adaboost)"
   ]
  },
  {
   "cell_type": "markdown",
   "metadata": {},
   "source": [
    "# RESULTS"
   ]
  },
  {
   "cell_type": "markdown",
   "metadata": {},
   "source": [
    "## Precision"
   ]
  },
  {
   "cell_type": "markdown",
   "metadata": {},
   "source": [
    "#### Precision NO"
   ]
  },
  {
   "cell_type": "code",
   "execution_count": 136,
   "metadata": {
    "collapsed": true
   },
   "outputs": [
    {
     "data": {
      "text/plain": [
       "{'Decision Tree': 0.315,\n",
       " 'Randon Forest': 0.447,\n",
       " 'Balanced Random Forest': 0.378,\n",
       " 'XGBOOST': 0.348,\n",
       " 'CatBOOST': 0.406,\n",
       " 'AdaBOOST': 0.366}"
      ]
     },
     "execution_count": 136,
     "metadata": {},
     "output_type": "execute_result"
    }
   ],
   "source": [
    "precision_no_model = {\"Decision Tree\":0.315,\n",
    "                      \"Randon Forest\":0.447,\n",
    "                      \"Balanced Random Forest\":0.378,\n",
    "                      \"XGBOOST\":0.348,\n",
    "                      \"CatBOOST\":0.406,\n",
    "                      \"AdaBOOST\":0.366\n",
    "                     }\n",
    "precision_no_model"
   ]
  },
  {
   "cell_type": "code",
   "execution_count": 158,
   "metadata": {
    "collapsed": true
   },
   "outputs": [
    {
     "data": {
      "text/plain": [
       "Text(0, 0.5, 'Precision Values')"
      ]
     },
     "execution_count": 158,
     "metadata": {},
     "output_type": "execute_result"
    },
    {
     "data": {
      "image/png": "[encoded data removed]",
      "text/plain": [
       "<Figure size 432x288 with 1 Axes>"
      ]
     },
     "metadata": {
      "needs_background": "light"
     },
     "output_type": "display_data"
    }
   ],
   "source": [
    "plt.bar(range(len(precision_no_model)), list(precision_no_model.values()), align='center')\n",
    "plt.xticks(range(len(precision_no_model)), list(precision_no_model.keys()), rotation=90)\n",
    "plt.title('Precision for NEGATIVE')\n",
    "plt.xlabel('Models')\n",
    "plt.ylabel('Precision Values')"
   ]
  },
  {
   "cell_type": "markdown",
   "metadata": {},
   "source": [
    "#### Precision YES "
   ]
  },
  {
   "cell_type": "code",
   "execution_count": 138,
   "metadata": {
    "collapsed": true
   },
   "outputs": [
    {
     "data": {
      "text/plain": [
       "{'Decision Tree': 0.769,\n",
       " 'Randon Forest': 0.793,\n",
       " 'Balanced Random Forest': 0.82,\n",
       " 'XGBOOST': 0.81,\n",
       " 'CatBOOST': 0.804,\n",
       " 'AdaBOOST': 0.805}"
      ]
     },
     "execution_count": 138,
     "metadata": {},
     "output_type": "execute_result"
    }
   ],
   "source": [
    "precision_yes_model = {\"Decision Tree\":0.769,\n",
    "                      \"Randon Forest\":0.793,\n",
    "                      \"Balanced Random Forest\":0.82,\n",
    "                      \"XGBOOST\":0.81,\n",
    "                      \"CatBOOST\":0.804,\n",
    "                      \"AdaBOOST\":0.805\n",
    "                     }\n",
    "precision_yes_model"
   ]
  },
  {
   "cell_type": "code",
   "execution_count": 159,
   "metadata": {
    "collapsed": true
   },
   "outputs": [
    {
     "data": {
      "text/plain": [
       "Text(0, 0.5, 'Precision Values')"
      ]
     },
     "execution_count": 159,
     "metadata": {},
     "output_type": "execute_result"
    },
    {
     "data": {
      "image/png": "[encoded data removed]",
      "text/plain": [
       "<Figure size 432x288 with 1 Axes>"
      ]
     },
     "metadata": {
      "needs_background": "light"
     },
     "output_type": "display_data"
    }
   ],
   "source": [
    "plt.bar(range(len(precision_yes_model)), list(precision_yes_model.values()), align='center')\n",
    "plt.xticks(range(len(precision_yes_model)), list(precision_yes_model.keys()), rotation=90)\n",
    "plt.title('Precision for POSITIVE')\n",
    "plt.xlabel('Models')\n",
    "plt.ylabel('Precision Values')"
   ]
  },
  {
   "cell_type": "markdown",
   "metadata": {},
   "source": [
    "#### TOTAL Precision"
   ]
  },
  {
   "cell_type": "code",
   "execution_count": 140,
   "metadata": {
    "collapsed": true
   },
   "outputs": [
    {
     "data": {
      "text/plain": [
       "{'Decision Tree': 0.653,\n",
       " 'Randon Forest': 0.705,\n",
       " 'Balanced Random Forest': 0.706,\n",
       " 'XGBOOST': 0.692,\n",
       " 'CatBOOST': 0.703,\n",
       " 'AdaBOOST': 0.693}"
      ]
     },
     "execution_count": 140,
     "metadata": {},
     "output_type": "execute_result"
    }
   ],
   "source": [
    "precision_model = {\"Decision Tree\":0.653,\n",
    "                   \"Randon Forest\":0.705,\n",
    "                   \"Balanced Random Forest\":0.706,\n",
    "                   \"XGBOOST\":0.692,\n",
    "                   \"CatBOOST\":0.703,\n",
    "                   \"AdaBOOST\":0.693\n",
    "                  }\n",
    "precision_model"
   ]
  },
  {
   "cell_type": "code",
   "execution_count": 141,
   "metadata": {
    "collapsed": true
   },
   "outputs": [
    {
     "data": {
      "text/plain": [
       "Text(0, 0.5, 'Precision Values')"
      ]
     },
     "execution_count": 141,
     "metadata": {},
     "output_type": "execute_result"
    },
    {
     "data": {
      "image/png": "[encoded data removed]",
      "text/plain": [
       "<Figure size 432x288 with 1 Axes>"
      ]
     },
     "metadata": {
      "needs_background": "light"
     },
     "output_type": "display_data"
    }
   ],
   "source": [
    "plt.bar(range(len(precision_model)), list(precision_model.values()), align='center')\n",
    "plt.xticks(range(len(precision_model)), list(precision_model.keys()), rotation=90)\n",
    "plt.title('Precision')\n",
    "plt.xlabel('Models')\n",
    "plt.ylabel('Precision Values')"
   ]
  },
  {
   "cell_type": "markdown",
   "metadata": {},
   "source": [
    "## Recall"
   ]
  },
  {
   "cell_type": "markdown",
   "metadata": {},
   "source": [
    "#### Recall NO "
   ]
  },
  {
   "cell_type": "code",
   "execution_count": 142,
   "metadata": {
    "collapsed": true
   },
   "outputs": [
    {
     "data": {
      "text/plain": [
       "{'Decision Tree': 0.496,\n",
       " 'Randon Forest': 0.423,\n",
       " 'Balanced Random Forest': 0.625,\n",
       " 'XGBOOST': 0.649,\n",
       " 'CatBOOST': 0.535,\n",
       " 'AdaBOOST': 0.572}"
      ]
     },
     "execution_count": 142,
     "metadata": {},
     "output_type": "execute_result"
    }
   ],
   "source": [
    "recall_no_model = {\"Decision Tree\":0.496,\n",
    "                   \"Randon Forest\":0.423,\n",
    "                   \"Balanced Random Forest\":0.625,\n",
    "                   \"XGBOOST\":0.649,\n",
    "                   \"CatBOOST\":0.535,\n",
    "                   \"AdaBOOST\":0.572\n",
    "                  }\n",
    "recall_no_model"
   ]
  },
  {
   "cell_type": "code",
   "execution_count": 160,
   "metadata": {
    "collapsed": true
   },
   "outputs": [
    {
     "data": {
      "text/plain": [
       "Text(0, 0.5, 'Recall Values')"
      ]
     },
     "execution_count": 160,
     "metadata": {},
     "output_type": "execute_result"
    },
    {
     "data": {
      "image/png": "[encoded data removed]",
      "text/plain": [
       "<Figure size 432x288 with 1 Axes>"
      ]
     },
     "metadata": {
      "needs_background": "light"
     },
     "output_type": "display_data"
    }
   ],
   "source": [
    "plt.bar(range(len(recall_no_model)), list(recall_no_model.values()), align='center')\n",
    "plt.xticks(range(len(recall_no_model)), list(recall_no_model.keys()), rotation=90)\n",
    "plt.title('Recall for NEGATIVE')\n",
    "plt.xlabel('Models')\n",
    "plt.ylabel('Recall Values')"
   ]
  },
  {
   "cell_type": "markdown",
   "metadata": {},
   "source": [
    "#### Recall YES "
   ]
  },
  {
   "cell_type": "code",
   "execution_count": 144,
   "metadata": {
    "collapsed": true
   },
   "outputs": [
    {
     "data": {
      "text/plain": [
       "{'Decision Tree': 0.61,\n",
       " 'Randon Forest': 0.806,\n",
       " 'Balanced Random Forest': 0.624,\n",
       " 'XGBOOST': 0.551,\n",
       " 'CatBOOST': 0.713,\n",
       " 'AdaBOOST': 0.635}"
      ]
     },
     "execution_count": 144,
     "metadata": {},
     "output_type": "execute_result"
    }
   ],
   "source": [
    "recall_yes_model = {\"Decision Tree\":0.61,\n",
    "                   \"Randon Forest\":0.806,\n",
    "                   \"Balanced Random Forest\":0.624,\n",
    "                   \"XGBOOST\":0.551,\n",
    "                   \"CatBOOST\":0.713,\n",
    "                   \"AdaBOOST\":0.635\n",
    "                  }\n",
    "recall_yes_model"
   ]
  },
  {
   "cell_type": "code",
   "execution_count": 161,
   "metadata": {
    "collapsed": true
   },
   "outputs": [
    {
     "data": {
      "text/plain": [
       "Text(0, 0.5, 'Recall Values')"
      ]
     },
     "execution_count": 161,
     "metadata": {},
     "output_type": "execute_result"
    },
    {
     "data": {
      "image/png": "[encoded data removed]",
      "text/plain": [
       "<Figure size 432x288 with 1 Axes>"
      ]
     },
     "metadata": {
      "needs_background": "light"
     },
     "output_type": "display_data"
    }
   ],
   "source": [
    "plt.bar(range(len(recall_yes_model)), list(recall_yes_model.values()), align='center')\n",
    "plt.xticks(range(len(recall_yes_model)), list(recall_yes_model.keys()), rotation=90)\n",
    "plt.title('Recall for POSITIVE')\n",
    "plt.xlabel('Models')\n",
    "plt.ylabel('Recall Values')"
   ]
  },
  {
   "cell_type": "markdown",
   "metadata": {},
   "source": [
    "#### TOTAL Recall "
   ]
  },
  {
   "cell_type": "code",
   "execution_count": 146,
   "metadata": {
    "collapsed": true
   },
   "outputs": [
    {
     "data": {
      "text/plain": [
       "{'Decision Tree': 0.58,\n",
       " 'Randon Forest': 0.705,\n",
       " 'Balanced Random Forest': 0.623,\n",
       " 'XGBOOST': 0.571,\n",
       " 'CatBOOST': 0.661,\n",
       " 'AdaBOOST': 0.621}"
      ]
     },
     "execution_count": 146,
     "metadata": {},
     "output_type": "execute_result"
    }
   ],
   "source": [
    "recall_model = {\"Decision Tree\":0.580,\n",
    "                   \"Randon Forest\":0.705,\n",
    "                   \"Balanced Random Forest\":0.623,\n",
    "                   \"XGBOOST\":0.571,\n",
    "                   \"CatBOOST\":0.661,\n",
    "                   \"AdaBOOST\":0.621\n",
    "                  }\n",
    "recall_model"
   ]
  },
  {
   "cell_type": "code",
   "execution_count": 147,
   "metadata": {
    "collapsed": true
   },
   "outputs": [
    {
     "data": {
      "text/plain": [
       "Text(0, 0.5, 'Recall Values')"
      ]
     },
     "execution_count": 147,
     "metadata": {},
     "output_type": "execute_result"
    },
    {
     "data": {
      "image/png": "[encoded data removed]",
      "text/plain": [
       "<Figure size 432x288 with 1 Axes>"
      ]
     },
     "metadata": {
      "needs_background": "light"
     },
     "output_type": "display_data"
    }
   ],
   "source": [
    "plt.bar(range(len(recall_model)), list(recall_model.values()), align='center')\n",
    "plt.xticks(range(len(recall_model)), list(recall_model.keys()), rotation=90)\n",
    "plt.title('Recall')\n",
    "plt.xlabel('Models')\n",
    "plt.ylabel('Recall Values')"
   ]
  },
  {
   "cell_type": "markdown",
   "metadata": {},
   "source": [
    "## F1 Score"
   ]
  },
  {
   "cell_type": "markdown",
   "metadata": {},
   "source": [
    "#### F1 Score NO "
   ]
  },
  {
   "cell_type": "code",
   "execution_count": 148,
   "metadata": {
    "collapsed": true
   },
   "outputs": [
    {
     "data": {
      "text/plain": [
       "{'Decision Tree': 0.382,\n",
       " 'Randon Forest': 0.427,\n",
       " 'Balanced Random Forest': 0.465,\n",
       " 'XGBOOST': 0.44,\n",
       " 'CatBOOST': 0.454,\n",
       " 'AdaBOOST': 0.443}"
      ]
     },
     "execution_count": 148,
     "metadata": {},
     "output_type": "execute_result"
    }
   ],
   "source": [
    "f1_no_model = {\"Decision Tree\":0.382,\n",
    "                   \"Randon Forest\":0.427,\n",
    "                   \"Balanced Random Forest\":0.465,\n",
    "                   \"XGBOOST\":0.44,\n",
    "                   \"CatBOOST\":0.454,\n",
    "                   \"AdaBOOST\":0.443\n",
    "                  }\n",
    "f1_no_model"
   ]
  },
  {
   "cell_type": "code",
   "execution_count": 162,
   "metadata": {
    "collapsed": true
   },
   "outputs": [
    {
     "data": {
      "text/plain": [
       "Text(0, 0.5, 'F1 Score Values')"
      ]
     },
     "execution_count": 162,
     "metadata": {},
     "output_type": "execute_result"
    },
    {
     "data": {
      "image/png": "[encoded data removed]",
      "text/plain": [
       "<Figure size 432x288 with 1 Axes>"
      ]
     },
     "metadata": {
      "needs_background": "light"
     },
     "output_type": "display_data"
    }
   ],
   "source": [
    "plt.bar(range(len(f1_no_model)), list(f1_no_model.values()), align='center')\n",
    "plt.xticks(range(len(f1_no_model)), list(f1_no_model.keys()), rotation=90)\n",
    "plt.title('F1 Score for NEGATIVE')\n",
    "plt.xlabel('Models')\n",
    "plt.ylabel('F1 Score Values')"
   ]
  },
  {
   "cell_type": "markdown",
   "metadata": {},
   "source": [
    "#### F1 Score YES"
   ]
  },
  {
   "cell_type": "code",
   "execution_count": 150,
   "metadata": {
    "collapsed": true
   },
   "outputs": [
    {
     "data": {
      "text/plain": [
       "{'Decision Tree': 0.677,\n",
       " 'Randon Forest': 0.796,\n",
       " 'Balanced Random Forest': 0.704,\n",
       " 'XGBOOST': 0.65,\n",
       " 'CatBOOST': 0.752,\n",
       " 'AdaBOOST': 0.709}"
      ]
     },
     "execution_count": 150,
     "metadata": {},
     "output_type": "execute_result"
    }
   ],
   "source": [
    "f1_yes_model = {\"Decision Tree\":0.677,\n",
    "                   \"Randon Forest\":0.796,\n",
    "                   \"Balanced Random Forest\":0.704,\n",
    "                   \"XGBOOST\":0.65,\n",
    "                   \"CatBOOST\":0.752,\n",
    "                   \"AdaBOOST\":0.709\n",
    "                  }\n",
    "f1_yes_model"
   ]
  },
  {
   "cell_type": "code",
   "execution_count": 163,
   "metadata": {
    "collapsed": true
   },
   "outputs": [
    {
     "data": {
      "text/plain": [
       "Text(0, 0.5, 'F1 Score Values')"
      ]
     },
     "execution_count": 163,
     "metadata": {},
     "output_type": "execute_result"
    },
    {
     "data": {
      "image/png": "[encoded data removed]",
      "text/plain": [
       "<Figure size 432x288 with 1 Axes>"
      ]
     },
     "metadata": {
      "needs_background": "light"
     },
     "output_type": "display_data"
    }
   ],
   "source": [
    "plt.bar(range(len(f1_yes_model)), list(f1_yes_model.values()), align='center')\n",
    "plt.xticks(range(len(f1_yes_model)), list(f1_yes_model.keys()), rotation=90)\n",
    "plt.title('F1 Score for POSITIVE')\n",
    "plt.xlabel('Models')\n",
    "plt.ylabel('F1 Score Values')"
   ]
  },
  {
   "cell_type": "markdown",
   "metadata": {},
   "source": [
    "#### TOTAL F1 Score "
   ]
  },
  {
   "cell_type": "code",
   "execution_count": 152,
   "metadata": {
    "collapsed": true
   },
   "outputs": [
    {
     "data": {
      "text/plain": [
       "{'Decision Tree': 0.603,\n",
       " 'Randon Forest': 0.702,\n",
       " 'Balanced Random Forest': 0.644,\n",
       " 'XGBOOST': 0.594,\n",
       " 'CatBOOST': 0.674,\n",
       " 'AdaBOOST': 0.641}"
      ]
     },
     "execution_count": 152,
     "metadata": {},
     "output_type": "execute_result"
    }
   ],
   "source": [
    "f1_model = {\"Decision Tree\":0.603,\n",
    "                   \"Randon Forest\":0.702,\n",
    "                   \"Balanced Random Forest\":0.644,\n",
    "                   \"XGBOOST\":0.594,\n",
    "                   \"CatBOOST\":0.674,\n",
    "                   \"AdaBOOST\":0.641\n",
    "                  }\n",
    "f1_model"
   ]
  },
  {
   "cell_type": "code",
   "execution_count": 153,
   "metadata": {
    "collapsed": true
   },
   "outputs": [
    {
     "data": {
      "text/plain": [
       "Text(0, 0.5, 'F1 Score Values')"
      ]
     },
     "execution_count": 153,
     "metadata": {},
     "output_type": "execute_result"
    },
    {
     "data": {
      "image/png": "[encoded data removed]",
      "text/plain": [
       "<Figure size 432x288 with 1 Axes>"
      ]
     },
     "metadata": {
      "needs_background": "light"
     },
     "output_type": "display_data"
    }
   ],
   "source": [
    "plt.bar(range(len(f1_model)), list(f1_model.values()), align='center')\n",
    "plt.xticks(range(len(f1_model)), list(f1_model.keys()), rotation=90)\n",
    "plt.title('F1 Score')\n",
    "plt.xlabel('Models')\n",
    "plt.ylabel('F1 Score Values')"
   ]
  },
  {
   "cell_type": "markdown",
   "metadata": {},
   "source": [
    "## Accuracy"
   ]
  },
  {
   "cell_type": "code",
   "execution_count": 154,
   "metadata": {
    "collapsed": true
   },
   "outputs": [
    {
     "data": {
      "text/plain": [
       "{'Decision Tree': 0.58,\n",
       " 'Randon Forest': 0.705,\n",
       " 'Balanced Random Forest': 0.623,\n",
       " 'XGBOOST': 0.571,\n",
       " 'CatBOOST': 0.661,\n",
       " 'AdaBOOST': 0.621}"
      ]
     },
     "execution_count": 154,
     "metadata": {},
     "output_type": "execute_result"
    }
   ],
   "source": [
    "acc_model = {\"Decision Tree\":0.580,\n",
    "                   \"Randon Forest\":0.705,\n",
    "                   \"Balanced Random Forest\":0.623,\n",
    "                   \"XGBOOST\":0.571,\n",
    "                   \"CatBOOST\":0.661,\n",
    "                   \"AdaBOOST\":0.621\n",
    "                  }\n",
    "acc_model"
   ]
  },
  {
   "cell_type": "code",
   "execution_count": 155,
   "metadata": {
    "collapsed": true
   },
   "outputs": [
    {
     "data": {
      "text/plain": [
       "Text(0, 0.5, 'Accuracy Values')"
      ]
     },
     "execution_count": 155,
     "metadata": {},
     "output_type": "execute_result"
    },
    {
     "data": {
      "image/png": "[encoded data removed]",
      "text/plain": [
       "<Figure size 432x288 with 1 Axes>"
      ]
     },
     "metadata": {
      "needs_background": "light"
     },
     "output_type": "display_data"
    }
   ],
   "source": [
    "plt.bar(range(len(acc_model)), list(acc_model.values()), align='center')\n",
    "plt.xticks(range(len(acc_model)), list(acc_model.keys()), rotation=90)\n",
    "plt.title('Accuary')\n",
    "plt.xlabel('Models')\n",
    "plt.ylabel('Accuracy Values')"
   ]
  },
  {
   "cell_type": "markdown",
   "metadata": {},
   "source": [
    "## AUC"
   ]
  },
  {
   "cell_type": "code",
   "execution_count": 156,
   "metadata": {
    "collapsed": true
   },
   "outputs": [
    {
     "data": {
      "text/plain": [
       "{'Decision Tree': 0.571,\n",
       " 'Randon Forest': 0.642,\n",
       " 'Balanced Random Forest': 0.665,\n",
       " 'XGBOOST': 0.661,\n",
       " 'CatBOOST': 0.667,\n",
       " 'AdaBOOST': 0.647}"
      ]
     },
     "execution_count": 156,
     "metadata": {},
     "output_type": "execute_result"
    }
   ],
   "source": [
    "auc_model = {\"Decision Tree\":0.571,\n",
    "                   \"Randon Forest\":0.642,\n",
    "                   \"Balanced Random Forest\":0.665,\n",
    "                   \"XGBOOST\":0.661,\n",
    "                   \"CatBOOST\":0.667,\n",
    "                   \"AdaBOOST\":0.647\n",
    "                  }\n",
    "auc_model"
   ]
  },
  {
   "cell_type": "code",
   "execution_count": 157,
   "metadata": {
    "collapsed": true
   },
   "outputs": [
    {
     "data": {
      "text/plain": [
       "Text(0, 0.5, 'ROC AUC Values')"
      ]
     },
     "execution_count": 157,
     "metadata": {},
     "output_type": "execute_result"
    },
    {
     "data": {
      "image/png": "[encoded data removed]",
      "text/plain": [
       "<Figure size 432x288 with 1 Axes>"
      ]
     },
     "metadata": {
      "needs_background": "light"
     },
     "output_type": "display_data"
    }
   ],
   "source": [
    "plt.bar(range(len(auc_model)), list(auc_model.values()), align='center')\n",
    "plt.xticks(range(len(auc_model)), list(auc_model.keys()), rotation=90)\n",
    "plt.title('ROC AUC')\n",
    "plt.xlabel('Models')\n",
    "plt.ylabel('ROC AUC Values')"
   ]
  },
  {
   "cell_type": "markdown",
   "metadata": {},
   "source": [
    "# FEATURES IMPORTANCE"
   ]
  },
  {
   "cell_type": "markdown",
   "metadata": {},
   "source": [
    "#### TO CATBOOST BY SELECTED PARAMETERS WITHOUT PCA"
   ]
  },
  {
   "cell_type": "code",
   "execution_count": 71,
   "metadata": {
    "collapsed": true
   },
   "outputs": [
    {
     "name": "stdout",
     "output_type": "stream",
     "text": [
      "0:\tlearn: 0.6902646\ttotal: 116ms\tremaining: 28.9s\n",
      "1:\tlearn: 0.6885663\ttotal: 253ms\tremaining: 31.3s\n",
      "2:\tlearn: 0.6863562\ttotal: 392ms\tremaining: 32.3s\n",
      "3:\tlearn: 0.6842493\ttotal: 530ms\tremaining: 32.6s\n",
      "4:\tlearn: 0.6815932\ttotal: 672ms\tremaining: 32.9s\n",
      "5:\tlearn: 0.6797615\ttotal: 811ms\tremaining: 33s\n",
      "6:\tlearn: 0.6776023\ttotal: 959ms\tremaining: 33.3s\n",
      "7:\tlearn: 0.6755897\ttotal: 1.12s\tremaining: 33.9s\n",
      "8:\tlearn: 0.6735559\ttotal: 1.28s\tremaining: 34.3s\n",
      "9:\tlearn: 0.6712805\ttotal: 1.43s\tremaining: 34.3s\n",
      "10:\tlearn: 0.6694544\ttotal: 1.57s\tremaining: 34.2s\n",
      "11:\tlearn: 0.6674929\ttotal: 1.71s\tremaining: 34s\n",
      "12:\tlearn: 0.6662428\ttotal: 1.86s\tremaining: 33.9s\n",
      "13:\tlearn: 0.6648400\ttotal: 2s\tremaining: 33.7s\n",
      "14:\tlearn: 0.6636414\ttotal: 2.14s\tremaining: 33.6s\n",
      "15:\tlearn: 0.6611446\ttotal: 2.28s\tremaining: 33.4s\n",
      "16:\tlearn: 0.6588638\ttotal: 2.46s\tremaining: 33.8s\n",
      "17:\tlearn: 0.6568786\ttotal: 2.59s\tremaining: 33.4s\n",
      "18:\tlearn: 0.6543375\ttotal: 2.74s\tremaining: 33.3s\n",
      "19:\tlearn: 0.6519974\ttotal: 2.88s\tremaining: 33.1s\n",
      "20:\tlearn: 0.6505962\ttotal: 3.03s\tremaining: 33s\n",
      "21:\tlearn: 0.6491168\ttotal: 3.17s\tremaining: 32.8s\n",
      "22:\tlearn: 0.6474857\ttotal: 3.31s\tremaining: 32.6s\n",
      "23:\tlearn: 0.6461510\ttotal: 3.44s\tremaining: 32.4s\n",
      "24:\tlearn: 0.6442924\ttotal: 3.59s\tremaining: 32.3s\n",
      "25:\tlearn: 0.6423303\ttotal: 3.75s\tremaining: 32.3s\n",
      "26:\tlearn: 0.6400989\ttotal: 3.88s\tremaining: 32.1s\n",
      "27:\tlearn: 0.6382618\ttotal: 4.03s\tremaining: 31.9s\n",
      "28:\tlearn: 0.6365820\ttotal: 4.17s\tremaining: 31.8s\n",
      "29:\tlearn: 0.6348076\ttotal: 4.32s\tremaining: 31.7s\n",
      "30:\tlearn: 0.6333499\ttotal: 4.46s\tremaining: 31.5s\n",
      "31:\tlearn: 0.6313110\ttotal: 4.59s\tremaining: 31.3s\n",
      "32:\tlearn: 0.6299449\ttotal: 4.75s\tremaining: 31.2s\n",
      "33:\tlearn: 0.6287879\ttotal: 4.89s\tremaining: 31.1s\n",
      "34:\tlearn: 0.6275558\ttotal: 5.01s\tremaining: 30.8s\n",
      "35:\tlearn: 0.6258988\ttotal: 5.14s\tremaining: 30.5s\n",
      "36:\tlearn: 0.6242381\ttotal: 5.28s\tremaining: 30.4s\n",
      "37:\tlearn: 0.6228266\ttotal: 5.42s\tremaining: 30.2s\n",
      "38:\tlearn: 0.6213016\ttotal: 5.56s\tremaining: 30.1s\n",
      "39:\tlearn: 0.6190231\ttotal: 5.69s\tremaining: 29.9s\n",
      "40:\tlearn: 0.6173082\ttotal: 5.83s\tremaining: 29.7s\n",
      "41:\tlearn: 0.6152596\ttotal: 5.95s\tremaining: 29.5s\n",
      "42:\tlearn: 0.6135173\ttotal: 6.09s\tremaining: 29.3s\n",
      "43:\tlearn: 0.6118569\ttotal: 6.23s\tremaining: 29.2s\n",
      "44:\tlearn: 0.6096040\ttotal: 6.38s\tremaining: 29.1s\n",
      "45:\tlearn: 0.6077746\ttotal: 6.52s\tremaining: 28.9s\n",
      "46:\tlearn: 0.6063009\ttotal: 6.67s\tremaining: 28.8s\n",
      "47:\tlearn: 0.6051404\ttotal: 6.81s\tremaining: 28.7s\n",
      "48:\tlearn: 0.6034038\ttotal: 6.97s\tremaining: 28.6s\n",
      "49:\tlearn: 0.6016540\ttotal: 7.11s\tremaining: 28.4s\n",
      "50:\tlearn: 0.6005214\ttotal: 7.27s\tremaining: 28.4s\n",
      "51:\tlearn: 0.5989054\ttotal: 7.41s\tremaining: 28.2s\n",
      "52:\tlearn: 0.5978652\ttotal: 7.55s\tremaining: 28.1s\n",
      "53:\tlearn: 0.5960995\ttotal: 7.68s\tremaining: 27.9s\n",
      "54:\tlearn: 0.5943791\ttotal: 7.83s\tremaining: 27.8s\n",
      "55:\tlearn: 0.5927578\ttotal: 7.97s\tremaining: 27.6s\n",
      "56:\tlearn: 0.5914560\ttotal: 8.12s\tremaining: 27.5s\n",
      "57:\tlearn: 0.5900984\ttotal: 8.26s\tremaining: 27.3s\n",
      "58:\tlearn: 0.5888264\ttotal: 8.41s\tremaining: 27.2s\n",
      "59:\tlearn: 0.5877216\ttotal: 8.55s\tremaining: 27.1s\n",
      "60:\tlearn: 0.5869255\ttotal: 8.7s\tremaining: 27s\n",
      "61:\tlearn: 0.5851990\ttotal: 8.87s\tremaining: 26.9s\n",
      "62:\tlearn: 0.5839383\ttotal: 9.01s\tremaining: 26.7s\n",
      "63:\tlearn: 0.5828222\ttotal: 9.15s\tremaining: 26.6s\n",
      "64:\tlearn: 0.5807796\ttotal: 9.29s\tremaining: 26.5s\n",
      "65:\tlearn: 0.5789153\ttotal: 9.44s\tremaining: 26.3s\n",
      "66:\tlearn: 0.5777068\ttotal: 9.59s\tremaining: 26.2s\n",
      "67:\tlearn: 0.5763676\ttotal: 9.71s\tremaining: 26s\n",
      "68:\tlearn: 0.5753703\ttotal: 9.84s\tremaining: 25.8s\n",
      "69:\tlearn: 0.5741537\ttotal: 9.98s\tremaining: 25.7s\n",
      "70:\tlearn: 0.5725351\ttotal: 10.1s\tremaining: 25.5s\n",
      "71:\tlearn: 0.5709059\ttotal: 10.3s\tremaining: 25.4s\n",
      "72:\tlearn: 0.5696209\ttotal: 10.4s\tremaining: 25.2s\n",
      "73:\tlearn: 0.5686574\ttotal: 10.5s\tremaining: 25.1s\n",
      "74:\tlearn: 0.5676148\ttotal: 10.7s\tremaining: 24.9s\n",
      "75:\tlearn: 0.5662767\ttotal: 10.8s\tremaining: 24.8s\n",
      "76:\tlearn: 0.5644203\ttotal: 11s\tremaining: 24.6s\n",
      "77:\tlearn: 0.5626308\ttotal: 11.1s\tremaining: 24.5s\n",
      "78:\tlearn: 0.5614812\ttotal: 11.3s\tremaining: 24.4s\n",
      "79:\tlearn: 0.5599853\ttotal: 11.4s\tremaining: 24.3s\n",
      "80:\tlearn: 0.5587128\ttotal: 11.6s\tremaining: 24.1s\n",
      "81:\tlearn: 0.5571985\ttotal: 11.7s\tremaining: 24s\n",
      "82:\tlearn: 0.5559373\ttotal: 11.8s\tremaining: 23.8s\n",
      "83:\tlearn: 0.5547481\ttotal: 12s\tremaining: 23.7s\n",
      "84:\tlearn: 0.5525222\ttotal: 12.1s\tremaining: 23.5s\n",
      "85:\tlearn: 0.5511423\ttotal: 12.3s\tremaining: 23.4s\n",
      "86:\tlearn: 0.5492795\ttotal: 12.4s\tremaining: 23.2s\n",
      "87:\tlearn: 0.5481361\ttotal: 12.6s\tremaining: 23.1s\n",
      "88:\tlearn: 0.5466967\ttotal: 12.7s\tremaining: 22.9s\n",
      "89:\tlearn: 0.5450116\ttotal: 12.8s\tremaining: 22.8s\n",
      "90:\tlearn: 0.5435512\ttotal: 13s\tremaining: 22.7s\n",
      "91:\tlearn: 0.5426451\ttotal: 13.1s\tremaining: 22.5s\n",
      "92:\tlearn: 0.5414289\ttotal: 13.2s\tremaining: 22.4s\n",
      "93:\tlearn: 0.5404129\ttotal: 13.4s\tremaining: 22.2s\n",
      "94:\tlearn: 0.5386461\ttotal: 13.5s\tremaining: 22.1s\n",
      "95:\tlearn: 0.5374010\ttotal: 13.7s\tremaining: 21.9s\n",
      "96:\tlearn: 0.5366302\ttotal: 13.8s\tremaining: 21.8s\n",
      "97:\tlearn: 0.5351363\ttotal: 14s\tremaining: 21.7s\n",
      "98:\tlearn: 0.5332234\ttotal: 14.1s\tremaining: 21.5s\n",
      "99:\tlearn: 0.5318044\ttotal: 14.2s\tremaining: 21.3s\n",
      "100:\tlearn: 0.5307955\ttotal: 14.4s\tremaining: 21.2s\n",
      "101:\tlearn: 0.5290465\ttotal: 14.5s\tremaining: 21.1s\n",
      "102:\tlearn: 0.5279156\ttotal: 14.7s\tremaining: 20.9s\n",
      "103:\tlearn: 0.5268682\ttotal: 14.8s\tremaining: 20.8s\n",
      "104:\tlearn: 0.5254500\ttotal: 15s\tremaining: 20.7s\n",
      "105:\tlearn: 0.5235771\ttotal: 15.1s\tremaining: 20.5s\n",
      "106:\tlearn: 0.5219198\ttotal: 15.2s\tremaining: 20.4s\n",
      "107:\tlearn: 0.5209900\ttotal: 15.4s\tremaining: 20.2s\n",
      "108:\tlearn: 0.5198973\ttotal: 15.5s\tremaining: 20.1s\n",
      "109:\tlearn: 0.5193406\ttotal: 15.7s\tremaining: 19.9s\n",
      "110:\tlearn: 0.5186877\ttotal: 15.8s\tremaining: 19.8s\n",
      "111:\tlearn: 0.5173896\ttotal: 15.9s\tremaining: 19.6s\n",
      "112:\tlearn: 0.5162590\ttotal: 16.1s\tremaining: 19.5s\n",
      "113:\tlearn: 0.5152470\ttotal: 16.2s\tremaining: 19.3s\n",
      "114:\tlearn: 0.5137642\ttotal: 16.4s\tremaining: 19.2s\n",
      "115:\tlearn: 0.5128025\ttotal: 16.6s\tremaining: 19.2s\n",
      "116:\tlearn: 0.5116419\ttotal: 16.7s\tremaining: 19s\n",
      "117:\tlearn: 0.5106439\ttotal: 16.9s\tremaining: 18.9s\n",
      "118:\tlearn: 0.5090753\ttotal: 17s\tremaining: 18.8s\n",
      "119:\tlearn: 0.5078487\ttotal: 17.2s\tremaining: 18.6s\n",
      "120:\tlearn: 0.5072054\ttotal: 17.3s\tremaining: 18.4s\n",
      "121:\tlearn: 0.5063792\ttotal: 17.4s\tremaining: 18.3s\n",
      "122:\tlearn: 0.5056446\ttotal: 17.6s\tremaining: 18.1s\n",
      "123:\tlearn: 0.5043237\ttotal: 17.7s\tremaining: 18s\n",
      "124:\tlearn: 0.5033585\ttotal: 17.9s\tremaining: 17.9s\n",
      "125:\tlearn: 0.5023032\ttotal: 18s\tremaining: 17.7s\n",
      "126:\tlearn: 0.5012785\ttotal: 18.1s\tremaining: 17.6s\n",
      "127:\tlearn: 0.4997156\ttotal: 18.3s\tremaining: 17.4s\n",
      "128:\tlearn: 0.4985063\ttotal: 18.5s\tremaining: 17.3s\n",
      "129:\tlearn: 0.4971510\ttotal: 18.6s\tremaining: 17.2s\n",
      "130:\tlearn: 0.4963098\ttotal: 18.7s\tremaining: 17s\n",
      "131:\tlearn: 0.4947263\ttotal: 18.9s\tremaining: 16.9s\n",
      "132:\tlearn: 0.4934847\ttotal: 19s\tremaining: 16.8s\n",
      "133:\tlearn: 0.4921782\ttotal: 19.2s\tremaining: 16.6s\n",
      "134:\tlearn: 0.4913290\ttotal: 19.3s\tremaining: 16.5s\n",
      "135:\tlearn: 0.4900932\ttotal: 19.5s\tremaining: 16.3s\n",
      "136:\tlearn: 0.4891003\ttotal: 19.6s\tremaining: 16.2s\n",
      "137:\tlearn: 0.4878201\ttotal: 19.7s\tremaining: 16s\n",
      "138:\tlearn: 0.4868472\ttotal: 19.9s\tremaining: 15.9s\n",
      "139:\tlearn: 0.4856305\ttotal: 20s\tremaining: 15.7s\n",
      "140:\tlearn: 0.4845255\ttotal: 20.1s\tremaining: 15.6s\n",
      "141:\tlearn: 0.4837415\ttotal: 20.3s\tremaining: 15.4s\n",
      "142:\tlearn: 0.4824789\ttotal: 20.4s\tremaining: 15.3s\n",
      "143:\tlearn: 0.4811591\ttotal: 20.6s\tremaining: 15.2s\n",
      "144:\tlearn: 0.4802770\ttotal: 20.7s\tremaining: 15s\n",
      "145:\tlearn: 0.4790775\ttotal: 20.8s\tremaining: 14.8s\n",
      "146:\tlearn: 0.4782053\ttotal: 21s\tremaining: 14.7s\n",
      "147:\tlearn: 0.4772708\ttotal: 21.1s\tremaining: 14.5s\n",
      "148:\tlearn: 0.4761748\ttotal: 21.2s\tremaining: 14.4s\n",
      "149:\tlearn: 0.4749565\ttotal: 21.4s\tremaining: 14.2s\n",
      "150:\tlearn: 0.4742461\ttotal: 21.5s\tremaining: 14.1s\n",
      "151:\tlearn: 0.4734385\ttotal: 21.7s\tremaining: 14s\n",
      "152:\tlearn: 0.4722728\ttotal: 21.8s\tremaining: 13.8s\n",
      "153:\tlearn: 0.4707312\ttotal: 21.9s\tremaining: 13.7s\n",
      "154:\tlearn: 0.4694628\ttotal: 22.1s\tremaining: 13.5s\n",
      "155:\tlearn: 0.4680940\ttotal: 22.2s\tremaining: 13.4s\n",
      "156:\tlearn: 0.4672205\ttotal: 22.4s\tremaining: 13.3s\n",
      "157:\tlearn: 0.4662684\ttotal: 22.5s\tremaining: 13.1s\n",
      "158:\tlearn: 0.4648207\ttotal: 22.7s\tremaining: 13s\n",
      "159:\tlearn: 0.4643135\ttotal: 22.8s\tremaining: 12.8s\n",
      "160:\tlearn: 0.4633038\ttotal: 23s\tremaining: 12.7s\n"
     ]
    },
    {
     "name": "stdout",
     "output_type": "stream",
     "text": [
      "161:\tlearn: 0.4624793\ttotal: 23.1s\tremaining: 12.6s\n",
      "162:\tlearn: 0.4613573\ttotal: 23.2s\tremaining: 12.4s\n",
      "163:\tlearn: 0.4599240\ttotal: 23.4s\tremaining: 12.3s\n",
      "164:\tlearn: 0.4586697\ttotal: 23.5s\tremaining: 12.1s\n",
      "165:\tlearn: 0.4577076\ttotal: 23.7s\tremaining: 12s\n",
      "166:\tlearn: 0.4565026\ttotal: 23.9s\tremaining: 11.9s\n",
      "167:\tlearn: 0.4557585\ttotal: 24s\tremaining: 11.7s\n",
      "168:\tlearn: 0.4550502\ttotal: 24.1s\tremaining: 11.6s\n",
      "169:\tlearn: 0.4539363\ttotal: 24.3s\tremaining: 11.4s\n",
      "170:\tlearn: 0.4525237\ttotal: 24.5s\tremaining: 11.3s\n",
      "171:\tlearn: 0.4511909\ttotal: 24.6s\tremaining: 11.2s\n",
      "172:\tlearn: 0.4500232\ttotal: 24.8s\tremaining: 11s\n",
      "173:\tlearn: 0.4491673\ttotal: 24.9s\tremaining: 10.9s\n",
      "174:\tlearn: 0.4479259\ttotal: 25.1s\tremaining: 10.7s\n",
      "175:\tlearn: 0.4473032\ttotal: 25.2s\tremaining: 10.6s\n",
      "176:\tlearn: 0.4462169\ttotal: 25.4s\tremaining: 10.5s\n",
      "177:\tlearn: 0.4454017\ttotal: 25.5s\tremaining: 10.3s\n",
      "178:\tlearn: 0.4442638\ttotal: 25.7s\tremaining: 10.2s\n",
      "179:\tlearn: 0.4433948\ttotal: 25.8s\tremaining: 10s\n",
      "180:\tlearn: 0.4420153\ttotal: 26s\tremaining: 9.9s\n",
      "181:\tlearn: 0.4412724\ttotal: 26.1s\tremaining: 9.75s\n",
      "182:\tlearn: 0.4405889\ttotal: 26.2s\tremaining: 9.6s\n",
      "183:\tlearn: 0.4397323\ttotal: 26.4s\tremaining: 9.46s\n",
      "184:\tlearn: 0.4389189\ttotal: 26.5s\tremaining: 9.32s\n",
      "185:\tlearn: 0.4377626\ttotal: 26.7s\tremaining: 9.18s\n",
      "186:\tlearn: 0.4369310\ttotal: 26.8s\tremaining: 9.03s\n",
      "187:\tlearn: 0.4360925\ttotal: 26.9s\tremaining: 8.87s\n",
      "188:\tlearn: 0.4354695\ttotal: 27.1s\tremaining: 8.74s\n",
      "189:\tlearn: 0.4342102\ttotal: 27.2s\tremaining: 8.59s\n",
      "190:\tlearn: 0.4329689\ttotal: 27.4s\tremaining: 8.45s\n",
      "191:\tlearn: 0.4321868\ttotal: 27.5s\tremaining: 8.31s\n",
      "192:\tlearn: 0.4309280\ttotal: 27.7s\tremaining: 8.17s\n",
      "193:\tlearn: 0.4300184\ttotal: 27.8s\tremaining: 8.03s\n",
      "194:\tlearn: 0.4289876\ttotal: 28s\tremaining: 7.88s\n",
      "195:\tlearn: 0.4281426\ttotal: 28.1s\tremaining: 7.74s\n",
      "196:\tlearn: 0.4271645\ttotal: 28.2s\tremaining: 7.6s\n",
      "197:\tlearn: 0.4262472\ttotal: 28.4s\tremaining: 7.45s\n",
      "198:\tlearn: 0.4254806\ttotal: 28.5s\tremaining: 7.31s\n",
      "199:\tlearn: 0.4248915\ttotal: 28.7s\tremaining: 7.17s\n",
      "200:\tlearn: 0.4237942\ttotal: 28.8s\tremaining: 7.02s\n",
      "201:\tlearn: 0.4229886\ttotal: 29s\tremaining: 6.88s\n",
      "202:\tlearn: 0.4219399\ttotal: 29.1s\tremaining: 6.74s\n",
      "203:\tlearn: 0.4213365\ttotal: 29.3s\tremaining: 6.6s\n",
      "204:\tlearn: 0.4201862\ttotal: 29.4s\tremaining: 6.46s\n",
      "205:\tlearn: 0.4197343\ttotal: 29.5s\tremaining: 6.31s\n",
      "206:\tlearn: 0.4188046\ttotal: 29.7s\tremaining: 6.16s\n",
      "207:\tlearn: 0.4180322\ttotal: 29.8s\tremaining: 6.02s\n",
      "208:\tlearn: 0.4169538\ttotal: 30s\tremaining: 5.88s\n",
      "209:\tlearn: 0.4164470\ttotal: 30.1s\tremaining: 5.74s\n",
      "210:\tlearn: 0.4153240\ttotal: 30.3s\tremaining: 5.59s\n",
      "211:\tlearn: 0.4147155\ttotal: 30.4s\tremaining: 5.45s\n",
      "212:\tlearn: 0.4135942\ttotal: 30.6s\tremaining: 5.31s\n",
      "213:\tlearn: 0.4128109\ttotal: 30.7s\tremaining: 5.17s\n",
      "214:\tlearn: 0.4121436\ttotal: 30.9s\tremaining: 5.03s\n",
      "215:\tlearn: 0.4112202\ttotal: 31.1s\tremaining: 4.89s\n",
      "216:\tlearn: 0.4101436\ttotal: 31.2s\tremaining: 4.75s\n",
      "217:\tlearn: 0.4087692\ttotal: 31.4s\tremaining: 4.61s\n",
      "218:\tlearn: 0.4077345\ttotal: 31.5s\tremaining: 4.46s\n",
      "219:\tlearn: 0.4063548\ttotal: 31.7s\tremaining: 4.32s\n",
      "220:\tlearn: 0.4058017\ttotal: 31.8s\tremaining: 4.18s\n",
      "221:\tlearn: 0.4046929\ttotal: 32s\tremaining: 4.03s\n",
      "222:\tlearn: 0.4036366\ttotal: 32.1s\tremaining: 3.89s\n",
      "223:\tlearn: 0.4026720\ttotal: 32.3s\tremaining: 3.75s\n",
      "224:\tlearn: 0.4019221\ttotal: 32.4s\tremaining: 3.6s\n",
      "225:\tlearn: 0.4011954\ttotal: 32.6s\tremaining: 3.46s\n",
      "226:\tlearn: 0.4004902\ttotal: 32.7s\tremaining: 3.32s\n",
      "227:\tlearn: 0.3994978\ttotal: 32.9s\tremaining: 3.17s\n",
      "228:\tlearn: 0.3987834\ttotal: 33s\tremaining: 3.03s\n",
      "229:\tlearn: 0.3982960\ttotal: 33.2s\tremaining: 2.89s\n",
      "230:\tlearn: 0.3975507\ttotal: 33.4s\tremaining: 2.75s\n",
      "231:\tlearn: 0.3967246\ttotal: 33.5s\tremaining: 2.6s\n",
      "232:\tlearn: 0.3953910\ttotal: 33.7s\tremaining: 2.46s\n",
      "233:\tlearn: 0.3944043\ttotal: 33.8s\tremaining: 2.31s\n",
      "234:\tlearn: 0.3933746\ttotal: 34s\tremaining: 2.17s\n",
      "235:\tlearn: 0.3924611\ttotal: 34.1s\tremaining: 2.02s\n",
      "236:\tlearn: 0.3914944\ttotal: 34.3s\tremaining: 1.88s\n",
      "237:\tlearn: 0.3906894\ttotal: 34.4s\tremaining: 1.73s\n",
      "238:\tlearn: 0.3899014\ttotal: 34.6s\tremaining: 1.59s\n",
      "239:\tlearn: 0.3895304\ttotal: 34.7s\tremaining: 1.45s\n",
      "240:\tlearn: 0.3890457\ttotal: 34.9s\tremaining: 1.3s\n",
      "241:\tlearn: 0.3881730\ttotal: 35s\tremaining: 1.16s\n",
      "242:\tlearn: 0.3872973\ttotal: 35.2s\tremaining: 1.01s\n",
      "243:\tlearn: 0.3869134\ttotal: 35.3s\tremaining: 868ms\n",
      "244:\tlearn: 0.3864088\ttotal: 35.5s\tremaining: 724ms\n",
      "245:\tlearn: 0.3858439\ttotal: 35.6s\tremaining: 579ms\n",
      "246:\tlearn: 0.3853126\ttotal: 35.7s\tremaining: 434ms\n",
      "247:\tlearn: 0.3846600\ttotal: 35.9s\tremaining: 289ms\n",
      "248:\tlearn: 0.3841231\ttotal: 36s\tremaining: 145ms\n",
      "249:\tlearn: 0.3835966\ttotal: 36.1s\tremaining: 0us\n"
     ]
    },
    {
     "data": {
      "text/plain": [
       "<catboost.core.CatBoostClassifier at 0x1220e9d9748>"
      ]
     },
     "execution_count": 71,
     "metadata": {},
     "output_type": "execute_result"
    }
   ],
   "source": [
    "clf_for_feat_importance = catboost.CatBoostClassifier(scale_pos_weight=0.3,depth=7,iterations=250,learning_rate=0.01,l2_leaf_reg=5)\n",
    "clf_for_feat_importance.fit(x,y.replace({\"yes\":1.0, \"no\":0.0}))"
   ]
  },
  {
   "cell_type": "code",
   "execution_count": 73,
   "metadata": {},
   "outputs": [
    {
     "data": {
      "text/plain": [
       "[('count_ETCO2', 2.9162626993263703),\n",
       " ('count_VTsetting', 2.8774239731058877),\n",
       " ('min_ArtBPD', 1.6571624541027379),\n",
       " ('median_Na-ABG', 1.6221531639800055),\n",
       " ('count_FiO2', 1.461998580510823),\n",
       " ('std_PEEP', 1.3279995710187624),\n",
       " ('max_Temp', 1.2209820265585565),\n",
       " ('median_Albumin', 1.1575402624491085),\n",
       " ('count_SaturationPulse', 1.128790595430638),\n",
       " ('count_ArtBPM', 1.1179607454071847),\n",
       " ('count_CCPOT', 1.1159479557603853),\n",
       " ('min_max_ETCO2', 1.1065403323609209),\n",
       " ('max_WCC', 1.0449230457807244),\n",
       " ('min_max_SuctionsPerDay', 1.0387701254251924),\n",
       " ('count_TotalMinuteVolume', 1.029895967025318),\n",
       " ('median_GlucoseABG', 1.0231252735663565),\n",
       " ('std_WCC', 1.009704197263861),\n",
       " ('std_Albumin', 0.9492399089617046),\n",
       " ('median_PT-INR', 0.9460104141076944),\n",
       " ('count_ArtBPS', 0.9439564516828028),\n",
       " ('count_HR', 0.9231146055031372),\n",
       " ('min_max_Na-ABG', 0.9171837141272022),\n",
       " ('median_PaCO2', 0.8986102583515738),\n",
       " ('std_ETCO2', 0.8954739901748411),\n",
       " ('min_max_WCC', 0.8823541921026905),\n",
       " ('min_ETCO2', 0.8669247665297004),\n",
       " ('std_SuctionsPerDay', 0.8539886775516431),\n",
       " ('max_Albumin', 0.8532898938065656),\n",
       " ('max_PaCO2', 0.8428245606148),\n",
       " ('count_PEEP', 0.8411409981322793),\n",
       " ('min_max_TotalMinuteVolume', 0.7893009279351832),\n",
       " ('count_RASS', 0.7792874772352144),\n",
       " ('median_HCT', 0.7729037638027966),\n",
       " ('count_PiP-Peak', 0.7259708064969771),\n",
       " ('count_Temp', 0.6995888971902084),\n",
       " ('max_ArtBPS', 0.6807009515404159),\n",
       " ('count_ArtBPD', 0.674049158789164),\n",
       " ('max_CCPOT', 0.6713458684233218),\n",
       " ('max_ETCO2', 0.667283943880073),\n",
       " ('median_TotalMinuteVolume', 0.6664733651871233),\n",
       " ('median_Creatinine', 0.655252775118161),\n",
       " ('median_PH', 0.6470292867697744),\n",
       " ('count_PotassiumABG', 0.6397336716866434),\n",
       " ('std_Urea', 0.6354872031109015),\n",
       " ('max_Hemoglobin', 0.6150972935848836),\n",
       " ('min_max_ArtBPD', 0.6030538700491648),\n",
       " ('min_Bilirubin Total', 0.5870463634850147),\n",
       " ('max_GlucoseABG', 0.5719407510760846),\n",
       " ('std_GlucoseABG', 0.5718068054609052),\n",
       " ('min_PH', 0.5644617776768683),\n",
       " ('min_max_Creatinine', 0.5550952970006423),\n",
       " ('max_HR', 0.5511320149955163),\n",
       " ('std_PiP-Peak', 0.5509150189176261),\n",
       " ('min_max_Hemoglobin', 0.5507520314979305),\n",
       " ('min_max_PiP-Peak', 0.5506067465693906),\n",
       " ('Weight', 0.5387189315434853),\n",
       " ('median_Hemoglobin', 0.5329296374333097),\n",
       " ('std_SaturationPulse', 0.5311980985938483),\n",
       " ('min_max_Temp', 0.5301210223729197),\n",
       " ('median_RASS', 0.5299270734453143),\n",
       " ('min_Urea', 0.5260412722686165),\n",
       " ('std_ArtBPM', 0.5251989445443628),\n",
       " ('min_FiO2', 0.5202647275464924),\n",
       " ('min_RR', 0.5189407660862668),\n",
       " ('min_max_PEEP', 0.5138874021567787),\n",
       " ('std_TotalMinuteVolume', 0.5126045177731229),\n",
       " ('std_VTsetting', 0.5044226879998837),\n",
       " ('max_TotalMinuteVolume', 0.5028714923242913),\n",
       " ('median_SuctionsPerDay', 0.5005738712328347),\n",
       " ('std_HCO3', 0.49275382276899254),\n",
       " ('min_max_GlucoseABG', 0.49224491582977664),\n",
       " ('min_HR', 0.47843769744784526),\n",
       " ('min_PaCO2', 0.4734610604668488),\n",
       " ('count_PaCO2', 0.47322488971019344),\n",
       " ('min_max_HR', 0.46859309326040965),\n",
       " ('Unnamed: 0', 0.4677181268211348),\n",
       " ('min_max_Albumin', 0.46743234273886664),\n",
       " ('min_GlucoseABG', 0.46234943743831397),\n",
       " ('median_RR', 0.45716793113791027),\n",
       " ('max_PEEP', 0.45598070755220127),\n",
       " ('std_PH', 0.4541981763117348),\n",
       " ('median_Temp', 0.44847139831074295),\n",
       " ('std_Temp', 0.443344715882703),\n",
       " ('min_max_VTsetting', 0.44280225099239345),\n",
       " ('min_HCT', 0.44030859939807854),\n",
       " ('std_CCPOT', 0.43496682463333886),\n",
       " ('std_Platelets', 0.4348963365875451),\n",
       " ('std_RR', 0.4330676960476291),\n",
       " ('std_ArtBPS', 0.4295126039845764),\n",
       " ('std_Creatinine', 0.42739209073281825),\n",
       " ('min_HCO3', 0.42216984525287427),\n",
       " ('min_Na-ABG', 0.41491311112680546),\n",
       " ('std_Pmax', 0.41476890930192617),\n",
       " ('max_ArtBPM', 0.41394346099112356),\n",
       " ('std_FiO2', 0.4108893726048136),\n",
       " ('median_PotassiumABG', 0.41039365929263466),\n",
       " ('std_Bilirubin Total', 0.4099655650634537),\n",
       " ('count_RR', 0.404619641052747),\n",
       " ('std_PotassiumABG', 0.4044784105888295),\n",
       " ('Age', 0.4039112068782457),\n",
       " ('std_GCS_SOFA', 0.4032147016067313),\n",
       " ('min_max_Bilirubin Total', 0.39891046856886414),\n",
       " ('min_max_Urea', 0.39694048032969786),\n",
       " ('min_max_HCT', 0.3962606712191653),\n",
       " ('median_PiP-Peak', 0.39574653873587423),\n",
       " ('std_HCT', 0.3954612770348661),\n",
       " ('max_HCT', 0.39398695838434517),\n",
       " ('max_HCO3', 0.39172331891032286),\n",
       " ('max_PH', 0.38587617105214445),\n",
       " ('min_max_PotassiumABG', 0.37995212948678597),\n",
       " ('min_max_RASS', 0.37906950629885044),\n",
       " ('median_ArtBPS', 0.37283989520530925),\n",
       " ('max_PT-INR', 0.3713248107617955),\n",
       " ('count_WCC', 0.3676899802768203),\n",
       " ('min_max_ArtBPS', 0.3651045797927574),\n",
       " ('min_max_HCO3', 0.3589995654106128),\n",
       " ('min_ArtBPM', 0.3535974243649135),\n",
       " ('std_Na-ABG', 0.35275634997932087),\n",
       " ('Height', 0.351544709225974),\n",
       " ('min_max_PaO2_FiO2_SOFA', 0.3501961447206158),\n",
       " ('min_Temp', 0.34923424103541284),\n",
       " ('min_max_Platelets', 0.34403976767134337),\n",
       " ('min_max_ArtBPM', 0.3409340558834847),\n",
       " ('min_Platelets', 0.3349786868304297),\n",
       " ('median_HR', 0.3310295987416413),\n",
       " ('count_Pmax', 0.3303279593350105),\n",
       " ('min_max_FiO2', 0.32634291599736853),\n",
       " ('max_Pat', 0.32255537986319943),\n",
       " ('std_ArtBPD', 0.31702443616995746),\n",
       " ('max_Bilirubin Total', 0.31677634343367034),\n",
       " ('min_TotalMinuteVolume', 0.31586000968252603),\n",
       " ('min_PT-INR', 0.30830310444912185),\n",
       " ('max_RR', 0.30827978013989127),\n",
       " ('count_HCT', 0.3046552690737235),\n",
       " ('min_max_PaCO2', 0.30137658584525845),\n",
       " ('std_PT-INR', 0.3011689707423695),\n",
       " ('min_VTsetting', 0.29767946081611163),\n",
       " ('median_VTsetting', 0.2898312860966187),\n",
       " ('count_Bilirubin Total', 0.28620970193271184),\n",
       " ('min_max_PT-INR', 0.2845299877050612),\n",
       " ('median_HCO3', 0.2829587589071184),\n",
       " ('median_WCC', 0.28051280888565594),\n",
       " ('min_SuctionsPerDay', 0.27924874795886523),\n",
       " ('max_Platelets', 0.27423777683291134),\n",
       " ('count_PH', 0.2734318274479671),\n",
       " ('min_max_RR', 0.27151964492906827),\n",
       " ('AntibioticsCont', 0.27085345903958374),\n",
       " ('median_ArtBPM', 0.2696238080787062),\n",
       " ('median_FiO2', 0.2692080547102836),\n",
       " ('count_Urea', 0.267323711955215),\n",
       " ('median_CCPOT', 0.26634316391107615),\n",
       " ('std_RASS', 0.26618882418921774),\n",
       " ('std_HR', 0.26276267573060547),\n",
       " ('median_Urea', 0.26219340383703915),\n",
       " ('count_Creatinine', 0.2542505523030991),\n",
       " ('median_SaturationPulse', 0.2513974286424056),\n",
       " ('min_Hemoglobin', 0.2463214936145182),\n",
       " ('count_SuctionsPerDay', 0.24338225458427373),\n",
       " ('max_SuctionsPerDay', 0.24225258961864735),\n",
       " ('median_Bilirubin Total', 0.23980147155242557),\n",
       " ('max_RASS', 0.23946561796919394),\n",
       " ('median_Platelets', 0.23725153125169832),\n",
       " ('min_Creatinine', 0.22560361838359322),\n",
       " ('count_Pat', 0.2225331691473443),\n",
       " ('median_Pat', 0.21533544049888087),\n",
       " ('std_PaO2_FiO2_SOFA', 0.21104806059845882),\n",
       " ('min_Albumin', 0.21038769743289812),\n",
       " ('min_SaturationPulse', 0.2098371328355377),\n",
       " ('min_GCS_SOFA', 0.20896456798326715),\n",
       " ('std_PaCO2', 0.2066245181409284),\n",
       " ('Antibiotics', 0.19202392265702709),\n",
       " ('max_Na-ABG', 0.18901843413625816),\n",
       " ('AntibioticsIV', 0.18465622589456618),\n",
       " ('count_Albumin', 0.18127093832783547),\n",
       " ('median_Pmax', 0.1807033805094621),\n",
       " ('min_WCC', 0.17413733444070506),\n",
       " ('count_PT-INR', 0.16910847863121523),\n",
       " ('median_ArtBPD', 0.16215538001765017),\n",
       " ('MucusState_suppurative', 0.16116113004525998),\n",
       " ('min_max_PH', 0.15943493338915526),\n",
       " ('count_PaO2_FiO2_SOFA', 0.1578395063220338),\n",
       " ('median_GCS_SOFA', 0.1540193370757083),\n",
       " ('count_GCS_SOFA', 0.15267375023364899),\n",
       " ('median_PEEP', 0.15162424384654613),\n",
       " ('count_Na-ABG', 0.14891062472862876),\n",
       " ('count_GlucoseABG', 0.147495910074345),\n",
       " ('median_ETCO2', 0.14656976564497304),\n",
       " ('max_PotassiumABG', 0.1451055857659233),\n",
       " ('max_Urea', 0.14347321403680893),\n",
       " ('max_ArtBPD', 0.13665296240741528),\n",
       " ('min_PaO2_FiO2_SOFA', 0.1339585540749449),\n",
       " ('max_VTsetting', 0.12786779547623822),\n",
       " ('min_PotassiumABG', 0.12780005404803327),\n",
       " ('std_Pat', 0.1275773243816218),\n",
       " ('min_ArtBPS', 0.12723488360419827),\n",
       " ('min_Pmax', 0.1259024878839677),\n",
       " ('Consciousness_obtunded', 0.12526243103888515),\n",
       " ('Consciousness_under_anesthesia', 0.12119317647777118),\n",
       " ('min_max_Pmax', 0.11938181566508652),\n",
       " ('min_PEEP', 0.11812364170998108),\n",
       " ('acmv', 0.11179131870813734),\n",
       " ('max_GCS_SOFA', 0.10377877434796241),\n",
       " ('std_Hemoglobin', 0.10065729428259856),\n",
       " ('MucusState_thick', 0.0963478139237461),\n",
       " ('max_Pmax', 0.08685941880328012),\n",
       " ('Gender', 0.0863455397709065),\n",
       " ('max_PaO2_FiO2_SOFA', 0.08433164295528991),\n",
       " ('Consciousness_conscious', 0.08432531067053355),\n",
       " ('MucusState_bloody', 0.08278231522982309),\n",
       " ('count_HCO3', 0.0747011595611028),\n",
       " ('count_Hemoglobin', 0.07079541741519733),\n",
       " ('min_RASS', 0.06957294536887221),\n",
       " ('min_Pat', 0.06115843879561461),\n",
       " ('min_max_GCS_SOFA', 0.05476820124835105),\n",
       " ('max_PiP-Peak', 0.054554268763733725),\n",
       " ('MucusSuction', 0.0534799817250084),\n",
       " ('RespiratoryTherapy_respiratory_exercise', 0.05122525133494371),\n",
       " ('min_max_SaturationPulse', 0.04728531773527234),\n",
       " ('Consciousness_unconscious', 0.044340457831990227),\n",
       " ('min_PiP-Peak', 0.04343335559246164),\n",
       " ('count_Platelets', 0.04202042514492514),\n",
       " ('min_max_Pat', 0.038770618969831035),\n",
       " ('RespiratoryTherapy_cough_encouragement', 0.03594633497346252),\n",
       " ('MucusState_many', 0.034785342455386364),\n",
       " ('max_SaturationPulse', 0.033176514670117535),\n",
       " ('OriginalDepartment_InternalE', 0.026952260233168907),\n",
       " ('max_FiO2', 0.025563996193791697),\n",
       " ('OriginalDepartment_InternalC', 0.020050286636799523),\n",
       " ('min_max_CCPOT', 0.014045735282836851),\n",
       " ('PaO2_FiO2_Ventilated_SOFA_ventilated', 0.01034913519512809),\n",
       " ('OriginalDepartment_Neurosurgery', 0.004842558851686228),\n",
       " ('OriginalDepartment_AnotheHospital', 0.0015503177065616686),\n",
       " ('RespiratoryTherapy_couging', 0.00019017956597694674),\n",
       " ('max_Creatinine', 0.0),\n",
       " ('Consciousness_coma', 0.0),\n",
       " ('Consciousness_confused', 0.0),\n",
       " ('Consciousness_delirium', 0.0),\n",
       " ('Consciousness_fluctuated', 0.0),\n",
       " ('Consciousness_stupor', 0.0),\n",
       " ('MucusState_ambu_saline', 0.0),\n",
       " ('MucusState_frothy', 0.0),\n",
       " ('MucusState_little', 0.0),\n",
       " ('MucusState_medium', 0.0),\n",
       " ('MucusState_thin', 0.0),\n",
       " ('RespiratoryTherapy_expirium1-triflow', 0.0),\n",
       " ('RespiratoryTherapy_expirium2-triflow', 0.0),\n",
       " ('RespiratoryTherapy_inspirium1-triflow', 0.0),\n",
       " ('RespiratoryTherapy_inspirium2-triflow', 0.0),\n",
       " ('RespiratoryTherapy_other', 0.0),\n",
       " ('RespiratoryTherapy_suction', 0.0),\n",
       " ('value', 0.0),\n",
       " ('psv', 0.0),\n",
       " ('simv', 0.0),\n",
       " ('SolumedrolUse', 0.0),\n",
       " ('median_PaO2_FiO2_SOFA', 0.0),\n",
       " ('min_CCPOT', 0.0),\n",
       " ('OriginalDepartment_Angiology', 0.0),\n",
       " ('OriginalDepartment_BreastSurgery', 0.0),\n",
       " ('OriginalDepartment_CardiacIntensiveCare', 0.0),\n",
       " ('OriginalDepartment_Emergency', 0.0),\n",
       " ('OriginalDepartment_Gynaecology', 0.0),\n",
       " ('OriginalDepartment_HematoOncology', 0.0),\n",
       " ('OriginalDepartment_Home', 0.0),\n",
       " ('OriginalDepartment_InternalA', 0.0),\n",
       " ('OriginalDepartment_InternalB', 0.0),\n",
       " ('OriginalDepartment_InternalD', 0.0),\n",
       " ('OriginalDepartment_Neurology', 0.0),\n",
       " ('OriginalDepartment_Oncology', 0.0),\n",
       " ('OriginalDepartment_Orthopedics', 0.0),\n",
       " ('OriginalDepartment_Otorhinolaryngology', 0.0),\n",
       " ('OriginalDepartment_PlasticsBurns', 0.0),\n",
       " ('OriginalDepartment_Recanati', 0.0),\n",
       " ('OriginalDepartment_SurgicalA', 0.0),\n",
       " ('OriginalDepartment_SurgicalB', 0.0),\n",
       " ('OriginalDepartment_Transplantation', 0.0),\n",
       " ('OriginalDepartment_Trauma', 0.0),\n",
       " ('OriginalDepartment_Urology', 0.0)]"
      ]
     },
     "execution_count": 73,
     "metadata": {},
     "output_type": "execute_result"
    }
   ],
   "source": [
    "feat_importance = list(zip(x.columns, clf_for_feat_importance.get_feature_importance()))\n",
    "feat_importance = sorted(feat_importance, key=lambda tup: tup[1], reverse=True)\n",
    "feat_importance"
   ]
  },
  {
   "cell_type": "markdown",
   "metadata": {},
   "source": [
    "# LEARNING CURVE"
   ]
  },
  {
   "cell_type": "markdown",
   "metadata": {},
   "source": [
    "#### TO CATBOOST BY SELECTED PARAMETERS WITH PCA"
   ]
  },
  {
   "cell_type": "code",
   "execution_count": 167,
   "metadata": {},
   "outputs": [],
   "source": [
    "def plot_learning_curve(estimator, title, X, y, ylim=None, cv=None,\n",
    "                        n_jobs=None, train_sizes=np.linspace(.1, 1.0, 5)):\n",
    "    \"\"\"\n",
    "    Generate a simple plot of the test and training learning curve.\n",
    "\n",
    "    Parameters\n",
    "    ----------\n",
    "    estimator : object type that implements the \"fit\" and \"predict\" methods\n",
    "        An object of that type which is cloned for each validation.\n",
    "\n",
    "    title : string\n",
    "        Title for the chart.\n",
    "\n",
    "    X : array-like, shape (n_samples, n_features)\n",
    "        Training vector, where n_samples is the number of samples and\n",
    "        n_features is the number of features.\n",
    "\n",
    "    y : array-like, shape (n_samples) or (n_samples, n_features), optional\n",
    "        Target relative to X for classification or regression;\n",
    "        None for unsupervised learning.\n",
    "\n",
    "    ylim : tuple, shape (ymin, ymax), optional\n",
    "        Defines minimum and maximum yvalues plotted.\n",
    "\n",
    "    cv : int, cross-validation generator or an iterable, optional\n",
    "        Determines the cross-validation splitting strategy.\n",
    "        Possible inputs for cv are:\n",
    "          - None, to use the default 3-fold cross-validation,\n",
    "          - integer, to specify the number of folds.\n",
    "          - :term:`CV splitter`,\n",
    "          - An iterable yielding (train, test) splits as arrays of indices.\n",
    "\n",
    "        For integer/None inputs, if ``y`` is binary or multiclass,\n",
    "        :class:`StratifiedKFold` used. If the estimator is not a classifier\n",
    "        or if ``y`` is neither binary nor multiclass, :class:`KFold` is used.\n",
    "\n",
    "        Refer :ref:`User Guide <cross_validation>` for the various\n",
    "        cross-validators that can be used here.\n",
    "\n",
    "    n_jobs : int or None, optional (default=None)\n",
    "        Number of jobs to run in parallel.\n",
    "        ``None`` means 1 unless in a :obj:`joblib.parallel_backend` context.\n",
    "        ``-1`` means using all processors. See :term:`Glossary <n_jobs>`\n",
    "        for more details.\n",
    "\n",
    "    train_sizes : array-like, shape (n_ticks,), dtype float or int\n",
    "        Relative or absolute numbers of training examples that will be used to\n",
    "        generate the learning curve. If the dtype is float, it is regarded as a\n",
    "        fraction of the maximum size of the training set (that is determined\n",
    "        by the selected validation method), i.e. it has to be within (0, 1].\n",
    "        Otherwise it is interpreted as absolute sizes of the training sets.\n",
    "        Note that for classification the number of samples usually have to\n",
    "        be big enough to contain at least one sample from each class.\n",
    "        (default: np.linspace(0.1, 1.0, 5))\n",
    "    \"\"\"\n",
    "    plt.figure()\n",
    "    plt.title(title)\n",
    "    if ylim is not None:\n",
    "        plt.ylim(*ylim)\n",
    "    plt.xlabel(\"Training examples\")\n",
    "    plt.ylabel(\"Score\")\n",
    "    train_sizes, train_scores, test_scores = learning_curve(\n",
    "        estimator, X, y, cv=cv, n_jobs=n_jobs, train_sizes=train_sizes,scoring=\"f1\")\n",
    "    train_scores_mean = np.mean(train_scores, axis=1)\n",
    "    train_scores_std = np.std(train_scores, axis=1)\n",
    "    test_scores_mean = np.mean(test_scores, axis=1)\n",
    "    test_scores_std = np.std(test_scores, axis=1)\n",
    "    plt.grid()\n",
    "\n",
    "    plt.fill_between(train_sizes, train_scores_mean - train_scores_std,\n",
    "                     train_scores_mean + train_scores_std, alpha=0.1,\n",
    "                     color=\"r\")\n",
    "    plt.fill_between(train_sizes, test_scores_mean - test_scores_std,\n",
    "                     test_scores_mean + test_scores_std, alpha=0.1, color=\"g\")\n",
    "    plt.plot(train_sizes, train_scores_mean, 'o-', color=\"r\",\n",
    "             label=\"Training score\")\n",
    "    plt.plot(train_sizes, test_scores_mean, 'o-', color=\"g\",\n",
    "             label=\"Cross-validation score\")\n",
    "\n",
    "    plt.legend(loc=\"best\")\n",
    "    return plt"
   ]
  },
  {
   "cell_type": "code",
   "execution_count": 168,
   "metadata": {},
   "outputs": [
    {
     "data": {
      "text/plain": [
       "<module 'matplotlib.pyplot' from 'C:\\\\ProgramData\\\\Anaconda3\\\\envs\\\\dandush\\\\lib\\\\site-packages\\\\matplotlib\\\\pyplot.py'>"
      ]
     },
     "execution_count": 168,
     "metadata": {},
     "output_type": "execute_result"
    },
    {
     "data": {
      "image/png": "[encoded data removed]",
      "text/plain": [
       "<Figure size 432x288 with 1 Axes>"
      ]
     },
     "metadata": {
      "needs_background": "light"
     },
     "output_type": "display_data"
    }
   ],
   "source": [
    "plot_learning_curve(catboost.CatBoostClassifier(scale_pos_weight=0.3, learning_rate=0.001, l2_leaf_reg=5,\n",
    "                                       iterations=250, depth=7), \"x\", x, y_bool, (0, 1), cv=10, n_jobs=10)"
   ]
  }
 ],
 "metadata": {
  "kernelspec": {
   "display_name": "Python dandush",
   "language": "python",
   "name": "dandush"
  },
  "language_info": {
   "codemirror_mode": {
    "name": "ipython",
    "version": 3
   },
   "file_extension": ".py",
   "mimetype": "text/x-python",
   "name": "python",
   "nbconvert_exporter": "python",
   "pygments_lexer": "ipython3",
   "version": "3.7.4"
  }
 },
 "nbformat": 4,
 "nbformat_minor": 2
}
