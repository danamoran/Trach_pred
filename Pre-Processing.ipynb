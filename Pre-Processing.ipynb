{
 "cells": [
  {
   "cell_type": "markdown",
   "metadata": {},
   "source": [
    "# IMPORTS"
   ]
  },
  {
   "cell_type": "markdown",
   "metadata": {},
   "source": [
    "import pandas as pd\n",
    "from os import walk, path\n",
    "import os\n",
    "import sys\n",
    "%matplotlib inline"
   ]
  },
  {
   "cell_type": "code",
   "execution_count": 13,
   "metadata": {},
   "outputs": [],
   "source": [
    "NUMERIC_DIR = r\"C:\\Users\\Dana\\Documents\\Final_Project\\Data\\processed\\numeric_files\"\n",
    "CATEGORICAL_DIR = r\"C:\\Users\\Dana\\Documents\\Final_Project\\Data\\processed\\categorial_files\"\n",
    "META_DIR = r\"C:\\Users\\Dana\\Documents\\Final_Project\\Data\\processed\\meta_files\"\n",
    "processed_FOLDER = r\"C:\\Users\\Dana\\Documents\\Final_Project\\Data\\processed\"\n",
    "ORDINAL_DIR = r\"C:\\Users\\Dana\\Documents\\Final_Project\\Data\\processed\\ordinal_files\""
   ]
  },
  {
   "cell_type": "markdown",
   "metadata": {},
   "source": [
    "# All Data"
   ]
  },
  {
   "cell_type": "markdown",
   "metadata": {},
   "source": [
    "### Remove: first 10 seconds from monitored data + outliers"
   ]
  },
  {
   "cell_type": "markdown",
   "metadata": {},
   "source": [
    "When connecting monitored device to a patient, the first 10 minutes of the connection result from the calibration of the device, so the values are irrelevant"
   ]
  },
  {
   "cell_type": "code",
   "execution_count": 3,
   "metadata": {},
   "outputs": [],
   "source": [
    "monitor_list = ('ArtBPD.csv','ArtBPM.csv','ArtBPS.csv','ETCO2.csv','FiO2.csv','HR.csv','Pat. RR.csv','PEEP.csv','PiP-Peak.csv','Pmax.csv','RR.csv','SaturationPulse.csv','Temp.csv','TotalMinuteVolume.csv','VTsetting.csv')"
   ]
  },
  {
   "cell_type": "code",
   "execution_count": 4,
   "metadata": {},
   "outputs": [],
   "source": [
    "known_ouliers_dict = {\"HR.csv\":(20,240), \"ArtBPM.csv\":(0,200), \"ArtBPD.csv\":(0,200), \"ArtBPS.csv\":(0,350), \"Temp.csv\":(25,45)}"
   ]
  },
  {
   "cell_type": "code",
   "execution_count": 122,
   "metadata": {},
   "outputs": [],
   "source": [
    "def remove_first_ten_minutes(df):\n",
    "    df[\"time\"] = pd.to_datetime(df[\"time\"])\n",
    "    df = df.sort_values([\"key\",\"time\"])\n",
    "    drop_this = df.groupby(\"key\").first()[\"time\"].to_frame(\"first_time\")\n",
    "    drop_this[\"plus_10\"] = drop_this[\"first_time\"] + pd.Timedelta(minutes=10)\n",
    "    df = df.merge(drop_this, left_on=\"key\", how=\"left\", right_index=True)\n",
    "    df[\"time_diff\"] = df[\"time\"] - df[\"plus_10\"]\n",
    "    df = df[df[\"time_diff\"] > pd.Timedelta(minutes=0)]\n",
    "    return df\n"
   ]
  },
  {
   "cell_type": "code",
   "execution_count": 123,
   "metadata": {},
   "outputs": [],
   "source": [
    "def remove_known_outliers(df,f):\n",
    "    df = df[df[\"value\"].between(known_ouliers_dict[f][0], known_ouliers_dict[f][1])]\n",
    "    return df"
   ]
  },
  {
   "cell_type": "code",
   "execution_count": 124,
   "metadata": {},
   "outputs": [],
   "source": [
    "def remove_outliers(df):\n",
    "    highest_val = df[\"value\"].mean() + 4 * df[\"value\"].std()\n",
    "    df = df[df[\"value\"] <= highest_val ]\n",
    "    return df"
   ]
  },
  {
   "cell_type": "code",
   "execution_count": 127,
   "metadata": {},
   "outputs": [
    {
     "name": "stdout",
     "output_type": "stream",
     "text": [
      "RR.csv\n",
      "SaturationPulse.csv\n",
      "SuctionsPerDay.csv\n",
      "Temp.csv\n",
      "TotalMinuteVolume.csv\n",
      "Urea.csv\n",
      "VTsetting.csv\n",
      "WCC.csv\n"
     ]
    }
   ],
   "source": [
    "for root, dirs, files in os.walk(NUMERIC_DIR):\n",
    "    for f in files:\n",
    "        df_parameter = pd.read_csv(os.path.join(NUMERIC_DIR,f))\n",
    "        if f in monitor_list:\n",
    "            df_parameter = remove_first_ten_minutes(df_parameter)\n",
    "        df_parameter = df_parameter[df_parameter[\"value\"] > 0]\n",
    "        if f in known_ouliers_dict:\n",
    "            df_parameter = remove_known_outliers(df_parameter,f)\n",
    "        else:\n",
    "            df_parameter = remove_outliers(df_parameter)\n",
    "        df_parameter.to_csv(os.path.join(NUMERIC_DIR,f))"
   ]
  },
  {
   "cell_type": "markdown",
   "metadata": {},
   "source": [
    "# Meta Data "
   ]
  },
  {
   "cell_type": "markdown",
   "metadata": {},
   "source": [
    "### Preparing boolean values where needed"
   ]
  },
  {
   "cell_type": "markdown",
   "metadata": {},
   "source": [
    "Some of the data has numeric ot string values, but we only want to know whether a patient did or did not have the paramter"
   ]
  },
  {
   "cell_type": "code",
   "execution_count": 5,
   "metadata": {},
   "outputs": [],
   "source": [
    "parameters_list = ('acmv.csv','AntibioticsCont.csv','AntibioticsIV.csv','psv.csv','simv.csv','SolumedrolUse.csv')"
   ]
  },
  {
   "cell_type": "code",
   "execution_count": null,
   "metadata": {
    "scrolled": true
   },
   "outputs": [],
   "source": [
    "for root, dirs, files in os.walk(META_DIR):\n",
    "    for f in files:\n",
    "        if f in parameters_list:\n",
    "            df_preparing_bool = pd.read_csv(os.path.join(META_DIR,f))\n",
    "            df_preparing_bool['value'] = 1\n",
    "            df_preparing_bool.to_csv(os.path.join(META_DIR,f))"
   ]
  },
  {
   "cell_type": "markdown",
   "metadata": {},
   "source": [
    "### Fixing duplicates "
   ]
  },
  {
   "cell_type": "code",
   "execution_count": 11,
   "metadata": {
    "scrolled": true
   },
   "outputs": [],
   "source": [
    "for root, dirs, files in os.walk(META_DIR):\n",
    "    for f in files:\n",
    "        df_with_duplicates = pd.read_csv(os.path.join(META_DIR,f))\n",
    "        df_with_duplicates[\"time\"] = pd.to_datetime(df_with_duplicates[\"time\"])\n",
    "        df_with_duplicates = df_with_duplicates.sort_values([\"key\",\"time\"])\n",
    "        df_remove_duplicates = df_with_duplicates.groupby(\"key\").last()\n",
    "        df_remove_duplicates.to_csv(os.path.join(META_DIR,f))"
   ]
  },
  {
   "cell_type": "markdown",
   "metadata": {},
   "source": [
    "# Ordinal"
   ]
  },
  {
   "cell_type": "code",
   "execution_count": 31,
   "metadata": {
    "scrolled": true
   },
   "outputs": [],
   "source": [
    "GCS_SOFA = pd.read_csv(r\"C:\\Users\\Dana\\Documents\\Final_Project\\Data\\processed\\ordinal_files\\GCS_SOFA.csv\")\n",
    "GCS_SOFA = GCS_SOFA.replace({\"value\":{'< 6':0, '6 - 9':1, '10 - 12':2, '13 - 14':3,' > 14':4}})\n",
    "GCS_SOFA.to_csv(os.path.join(r\"C:\\Users\\Dana\\Documents\\Final_Project\\Data\\processed\\ordinal_files\\GCS_SOFA.csv\"))"
   ]
  },
  {
   "cell_type": "code",
   "execution_count": 32,
   "metadata": {
    "scrolled": true
   },
   "outputs": [],
   "source": [
    "PaO2_FiO2_SOFA = pd.read_csv(r\"C:\\Users\\Dana\\Documents\\Final_Project\\Data\\processed\\ordinal_files\\PaO2_FiO2_SOFA.csv\")\n",
    "PaO2_FiO2_SOFA = PaO2_FiO2_SOFA.replace({\"value\":{'<100':0, '<200':1, '<300':2, '<400':3, '> 400':4}})\n",
    "PaO2_FiO2_SOFA.to_csv(os.path.join(r\"C:\\Users\\Dana\\Documents\\Final_Project\\Data\\processed\\ordinal_files\\PaO2_FiO2_SOFA.csv\"))"
   ]
  }
 ],
 "metadata": {
  "kernelspec": {
   "display_name": "Python 3",
   "language": "python",
   "name": "python3"
  },
  "language_info": {
   "codemirror_mode": {
    "name": "ipython",
    "version": 3
   },
   "file_extension": ".py",
   "mimetype": "text/x-python",
   "name": "python",
   "nbconvert_exporter": "python",
   "pygments_lexer": "ipython3",
   "version": "3.7.3"
  }
 },
 "nbformat": 4,
 "nbformat_minor": 2
}
