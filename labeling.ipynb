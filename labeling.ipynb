{
 "cells": [
  {
   "cell_type": "markdown",
   "metadata": {},
   "source": [
    "# IMPORTS"
   ]
  },
  {
   "cell_type": "code",
   "execution_count": 11,
   "metadata": {},
   "outputs": [],
   "source": [
    "import pandas as pd\n",
    "from functools import reduce\n",
    "import numpy as np\n",
    "import datetime as dt"
   ]
  },
  {
   "cell_type": "markdown",
   "metadata": {},
   "source": [
    "# CONSTANTS"
   ]
  },
  {
   "cell_type": "markdown",
   "metadata": {},
   "source": [
    "##### USING TWO RELEVANT PARAMETERS"
   ]
  },
  {
   "cell_type": "code",
   "execution_count": 12,
   "metadata": {},
   "outputs": [],
   "source": [
    "AIRWAY_PATH = r\"C:\\Users\\Dana\\Documents\\Final_Project\\Data\\processed\\categorial_files\\Airway.csv\"\n",
    "ETCO2_PATH = r\"C:\\Users\\Dana\\Documents\\Final_Project\\Data\\processed\\numeric_files\\ETCO2.csv\""
   ]
  },
  {
   "cell_type": "code",
   "execution_count": 13,
   "metadata": {},
   "outputs": [],
   "source": [
    "airway_df = pd.read_csv(AIRWAY_PATH)\n",
    "etco2_df = pd.read_csv(ETCO2_PATH)"
   ]
  },
  {
   "cell_type": "markdown",
   "metadata": {},
   "source": [
    "##### DEFINE PMV "
   ]
  },
  {
   "cell_type": "code",
   "execution_count": 1,
   "metadata": {},
   "outputs": [],
   "source": [
    "MIN_DAYS_WITH_ETCO2 = 7"
   ]
  },
  {
   "cell_type": "markdown",
   "metadata": {},
   "source": [
    "# CREATE GROUPED DATA OF THE RELEVANT PARAMETERS"
   ]
  },
  {
   "cell_type": "code",
   "execution_count": 14,
   "metadata": {},
   "outputs": [],
   "source": [
    "full_df = reduce(lambda x, y: pd.merge(x, y, on=['key', 'time'], how='outer'), [airway_df,etco2_df])"
   ]
  },
  {
   "cell_type": "code",
   "execution_count": 15,
   "metadata": {},
   "outputs": [],
   "source": [
    "full_df = full_df[[\"key\", \"value_x\", \"value_y\", 'time']]\n",
    "full_df = full_df.rename(columns={\"value_x\": \"airway_value\", \"value_y\": \"etco2_value\"})"
   ]
  },
  {
   "cell_type": "code",
   "execution_count": 16,
   "metadata": {},
   "outputs": [],
   "source": [
    "full_df[\"time\"] = pd.to_datetime(full_df[\"time\"])\n",
    "full_df.key = full_df.key.astype(int)\n",
    "full_df.etco2_value = full_df.etco2_value.astype(float)"
   ]
  },
  {
   "cell_type": "code",
   "execution_count": 17,
   "metadata": {},
   "outputs": [],
   "source": [
    "grp_df = full_df[full_df[\"etco2_value\"] >= 2].sort_values(\"time\")  # ETCO2 should be at least 2\n",
    "start_time = grp_df.groupby(\"key\").first()[\"time\"]\n",
    "end_time = grp_df.groupby(\"key\").last()[\"time\"]\n",
    "good_keys = (end_time - start_time).dt.days >= MIN_DAYS_WITH_ETCO2\n",
    "good_keys_list = good_keys[good_keys == True].index.tolist()\n",
    "full_df_filtered = full_df[full_df[\"key\"].isin(good_keys_list)]\n",
    "keys_with_airway_value = full_df_filtered[~full_df_filtered.airway_value.isnull()].key.unique().tolist()\n",
    "full_df_filtered = full_df_filtered[full_df_filtered[\"key\"].isin(keys_with_airway_value)]\n",
    "full_df_filtered = full_df_filtered.sort_values(\"time\")"
   ]
  },
  {
   "cell_type": "markdown",
   "metadata": {},
   "source": [
    "# CREATE LABELS"
   ]
  },
  {
   "cell_type": "markdown",
   "metadata": {},
   "source": [
    "### REGARDING TRACHEOSTOMY SUBJECTS"
   ]
  },
  {
   "cell_type": "code",
   "execution_count": 40,
   "metadata": {},
   "outputs": [
    {
     "name": "stdout",
     "output_type": "stream",
     "text": [
      "dropped\n"
     ]
    }
   ],
   "source": [
    "try:\n",
    "    full_df_filtered = full_df_filtered.drop(columns=\"Unnamed: 0\")\n",
    "except:\n",
    "    print(\"dropped\")\n",
    "full_df_filtered = full_df_filtered.sort_values(\"time\")\n",
    "trach_keys_list = list(full_df_filtered[(full_df_filtered[\"airway_value\"] == \"Trach\")][\"key\"].unique())\n",
    "etco2_dur = []\n",
    "for key in trach_keys_list:\n",
    "    try:\n",
    "        first_trach = full_df_filtered[(full_df_filtered[\"key\"] == key) & (full_df_filtered[\"airway_value\"] == \"Trach\")].iloc[0]\n",
    "        last_etco2 = full_df_filtered[(full_df_filtered[\"key\"] == key) & (full_df_filtered[\"etco2_value\"] > 0)].iloc[-1]\n",
    "        etco2_dur.append((last_etco2[\"time\"] - first_trach[\"time\"]).days)\n",
    "    except IndexError:\n",
    "        etco2_dur.append(0)"
   ]
  },
  {
   "cell_type": "code",
   "execution_count": 49,
   "metadata": {
    "scrolled": true
   },
   "outputs": [],
   "source": [
    "trach_df = pd.DataFrame({ \"num_days_after_trach\":etco2_dur, \"key\":trach_keys_list})\n",
    "trach_df = trach_df.set_index(\"key\")\n",
    "trach_df = trach_df[trach_df[\"num_days_after_trach\"] >= 0]\n"
   ]
  },
  {
   "cell_type": "markdown",
   "metadata": {},
   "source": [
    "#### 'Legitimate tracheostomy placement' VS 'Un-legitimate tracheostomy placement'. "
   ]
  },
  {
   "cell_type": "code",
   "execution_count": null,
   "metadata": {},
   "outputs": [],
   "source": [
    "trach_df.loc[trach_df[\"num_days_after_trach\"] >= 5, \"label\"] = \"positive_trach\"\n",
    "trach_df.loc[trach_df[\"num_days_after_trach\"] < 5, \"label\"] = \"negative_trach\""
   ]
  },
  {
   "cell_type": "markdown",
   "metadata": {},
   "source": [
    "### REGARDING ENDOTRACHEAL SUBJECTS"
   ]
  },
  {
   "cell_type": "code",
   "execution_count": 62,
   "metadata": {},
   "outputs": [],
   "source": [
    "tube_keys = full_df_filtered[full_df_filtered[\"airway_value\"] == \"Tracheal tube\"].key.unique().tolist()\n",
    "df_tube = full_df_filtered[(full_df_filtered[\"key\"].isin(tube_keys)) & (full_df_filtered[\"etco2_value\"] > 0)].sort_values(\"time\")\n",
    "df_tube['diff'] = df_tube.groupby('key')['time'].diff()"
   ]
  },
  {
   "cell_type": "code",
   "execution_count": 84,
   "metadata": {},
   "outputs": [],
   "source": [
    "tube_df_list = []\n",
    "for key in df_tube[\"key\"].unique():\n",
    "    try:\n",
    "        trach_date = df_tube[(df_tube[\"key\"] == key) & (df_tube[\"airway_value\"] == \"Trach\")].iloc[0,3] #3 is the column index of 'time'\n",
    "        temp_tube_df = df_tube[(df_tube[\"key\"] == key) & (df_tube[\"time\"] <= trach_date)]  #leave only endotracheal intubation before tracheostomy placement\n",
    "    except IndexError:\n",
    "        temp_tube_df = temp_tube_df = df_tube[(df_tube[\"key\"] == key)]\n",
    "    tube_df_list.append(temp_tube_df)\n",
    "df_tube_filtered = pd.concat(tube_df_list)"
   ]
  },
  {
   "cell_type": "code",
   "execution_count": 89,
   "metadata": {},
   "outputs": [],
   "source": [
    "df_tube_max_diff = pd.DataFrame(df_tube_filtered.groupby(\"key\").max()[\"diff\"].dt.days)"
   ]
  },
  {
   "cell_type": "markdown",
   "metadata": {},
   "source": [
    "#### 'Successful extubation' VS 'Unsuccessful extubation'"
   ]
  },
  {
   "cell_type": "code",
   "execution_count": 101,
   "metadata": {
    "scrolled": true
   },
   "outputs": [],
   "source": [
    "df_tube_max_diff.loc[df_tube_max_diff[\"diff\"] >= 2, \"label\"] = \"positive_tube\"\n",
    "df_tube_max_diff.loc[df_tube_max_diff[\"diff\"] < 2, \"label\"] = \"negative_tube\""
   ]
  },
  {
   "cell_type": "markdown",
   "metadata": {},
   "source": [
    "# CREATE CLASSIFICATION LABELS"
   ]
  },
  {
   "cell_type": "markdown",
   "metadata": {},
   "source": [
    "#### 'Positive example' VS 'Negative example'"
   ]
  },
  {
   "cell_type": "code",
   "execution_count": 124,
   "metadata": {},
   "outputs": [],
   "source": [
    "labels_to_num_dict = {'positive_trach':4, 'negative_trach':3, 'negative_tube':2,\n",
    "       'positive_tube':1}\n",
    "labels_to_clf_dict = {4:\"yes\", 2:\"yes\", 3:\"no\",\n",
    "       1:\"no\"}"
   ]
  },
  {
   "cell_type": "code",
   "execution_count": 125,
   "metadata": {
    "scrolled": true
   },
   "outputs": [],
   "source": [
    "labeled_df = pd.concat([trach_df[[\"label\"]],df_tube_max_diff[[\"label\"]]])\n",
    "labeled_df_numbers = labeled_df.replace({\"label\":labels_to_num_dict})"
   ]
  },
  {
   "cell_type": "code",
   "execution_count": 126,
   "metadata": {
    "collapsed": true
   },
   "outputs": [
    {
     "data": {
      "text/html": [
       "<div>\n",
       "<style scoped>\n",
       "    .dataframe tbody tr th:only-of-type {\n",
       "        vertical-align: middle;\n",
       "    }\n",
       "\n",
       "    .dataframe tbody tr th {\n",
       "        vertical-align: top;\n",
       "    }\n",
       "\n",
       "    .dataframe thead th {\n",
       "        text-align: right;\n",
       "    }\n",
       "</style>\n",
       "<table border=\"1\" class=\"dataframe\">\n",
       "  <thead>\n",
       "    <tr style=\"text-align: right;\">\n",
       "      <th></th>\n",
       "      <th>label</th>\n",
       "    </tr>\n",
       "    <tr>\n",
       "      <th>key</th>\n",
       "      <th></th>\n",
       "    </tr>\n",
       "  </thead>\n",
       "  <tbody>\n",
       "    <tr>\n",
       "      <th>0</th>\n",
       "      <td>2</td>\n",
       "    </tr>\n",
       "    <tr>\n",
       "      <th>11</th>\n",
       "      <td>2</td>\n",
       "    </tr>\n",
       "    <tr>\n",
       "      <th>20</th>\n",
       "      <td>2</td>\n",
       "    </tr>\n",
       "    <tr>\n",
       "      <th>26</th>\n",
       "      <td>4</td>\n",
       "    </tr>\n",
       "    <tr>\n",
       "      <th>29</th>\n",
       "      <td>2</td>\n",
       "    </tr>\n",
       "    <tr>\n",
       "      <th>43</th>\n",
       "      <td>1</td>\n",
       "    </tr>\n",
       "    <tr>\n",
       "      <th>45</th>\n",
       "      <td>2</td>\n",
       "    </tr>\n",
       "    <tr>\n",
       "      <th>48</th>\n",
       "      <td>1</td>\n",
       "    </tr>\n",
       "    <tr>\n",
       "      <th>49</th>\n",
       "      <td>4</td>\n",
       "    </tr>\n",
       "    <tr>\n",
       "      <th>59</th>\n",
       "      <td>1</td>\n",
       "    </tr>\n",
       "    <tr>\n",
       "      <th>64</th>\n",
       "      <td>4</td>\n",
       "    </tr>\n",
       "    <tr>\n",
       "      <th>67</th>\n",
       "      <td>4</td>\n",
       "    </tr>\n",
       "    <tr>\n",
       "      <th>68</th>\n",
       "      <td>4</td>\n",
       "    </tr>\n",
       "    <tr>\n",
       "      <th>75</th>\n",
       "      <td>4</td>\n",
       "    </tr>\n",
       "    <tr>\n",
       "      <th>79</th>\n",
       "      <td>1</td>\n",
       "    </tr>\n",
       "    <tr>\n",
       "      <th>83</th>\n",
       "      <td>2</td>\n",
       "    </tr>\n",
       "    <tr>\n",
       "      <th>89</th>\n",
       "      <td>2</td>\n",
       "    </tr>\n",
       "    <tr>\n",
       "      <th>102</th>\n",
       "      <td>2</td>\n",
       "    </tr>\n",
       "    <tr>\n",
       "      <th>105</th>\n",
       "      <td>4</td>\n",
       "    </tr>\n",
       "    <tr>\n",
       "      <th>107</th>\n",
       "      <td>2</td>\n",
       "    </tr>\n",
       "    <tr>\n",
       "      <th>124</th>\n",
       "      <td>1</td>\n",
       "    </tr>\n",
       "    <tr>\n",
       "      <th>132</th>\n",
       "      <td>2</td>\n",
       "    </tr>\n",
       "    <tr>\n",
       "      <th>134</th>\n",
       "      <td>2</td>\n",
       "    </tr>\n",
       "    <tr>\n",
       "      <th>145</th>\n",
       "      <td>2</td>\n",
       "    </tr>\n",
       "    <tr>\n",
       "      <th>148</th>\n",
       "      <td>1</td>\n",
       "    </tr>\n",
       "    <tr>\n",
       "      <th>152</th>\n",
       "      <td>2</td>\n",
       "    </tr>\n",
       "    <tr>\n",
       "      <th>155</th>\n",
       "      <td>4</td>\n",
       "    </tr>\n",
       "    <tr>\n",
       "      <th>157</th>\n",
       "      <td>2</td>\n",
       "    </tr>\n",
       "    <tr>\n",
       "      <th>164</th>\n",
       "      <td>2</td>\n",
       "    </tr>\n",
       "    <tr>\n",
       "      <th>190</th>\n",
       "      <td>2</td>\n",
       "    </tr>\n",
       "    <tr>\n",
       "      <th>...</th>\n",
       "      <td>...</td>\n",
       "    </tr>\n",
       "    <tr>\n",
       "      <th>7822</th>\n",
       "      <td>2</td>\n",
       "    </tr>\n",
       "    <tr>\n",
       "      <th>7823</th>\n",
       "      <td>1</td>\n",
       "    </tr>\n",
       "    <tr>\n",
       "      <th>7825</th>\n",
       "      <td>2</td>\n",
       "    </tr>\n",
       "    <tr>\n",
       "      <th>7826</th>\n",
       "      <td>2</td>\n",
       "    </tr>\n",
       "    <tr>\n",
       "      <th>7827</th>\n",
       "      <td>2</td>\n",
       "    </tr>\n",
       "    <tr>\n",
       "      <th>7832</th>\n",
       "      <td>3</td>\n",
       "    </tr>\n",
       "    <tr>\n",
       "      <th>7851</th>\n",
       "      <td>2</td>\n",
       "    </tr>\n",
       "    <tr>\n",
       "      <th>7856</th>\n",
       "      <td>4</td>\n",
       "    </tr>\n",
       "    <tr>\n",
       "      <th>7860</th>\n",
       "      <td>2</td>\n",
       "    </tr>\n",
       "    <tr>\n",
       "      <th>7871</th>\n",
       "      <td>4</td>\n",
       "    </tr>\n",
       "    <tr>\n",
       "      <th>7891</th>\n",
       "      <td>2</td>\n",
       "    </tr>\n",
       "    <tr>\n",
       "      <th>7903</th>\n",
       "      <td>3</td>\n",
       "    </tr>\n",
       "    <tr>\n",
       "      <th>7909</th>\n",
       "      <td>2</td>\n",
       "    </tr>\n",
       "    <tr>\n",
       "      <th>7910</th>\n",
       "      <td>2</td>\n",
       "    </tr>\n",
       "    <tr>\n",
       "      <th>7914</th>\n",
       "      <td>2</td>\n",
       "    </tr>\n",
       "    <tr>\n",
       "      <th>7917</th>\n",
       "      <td>3</td>\n",
       "    </tr>\n",
       "    <tr>\n",
       "      <th>7919</th>\n",
       "      <td>4</td>\n",
       "    </tr>\n",
       "    <tr>\n",
       "      <th>7924</th>\n",
       "      <td>2</td>\n",
       "    </tr>\n",
       "    <tr>\n",
       "      <th>7935</th>\n",
       "      <td>2</td>\n",
       "    </tr>\n",
       "    <tr>\n",
       "      <th>7945</th>\n",
       "      <td>4</td>\n",
       "    </tr>\n",
       "    <tr>\n",
       "      <th>7963</th>\n",
       "      <td>1</td>\n",
       "    </tr>\n",
       "    <tr>\n",
       "      <th>7967</th>\n",
       "      <td>2</td>\n",
       "    </tr>\n",
       "    <tr>\n",
       "      <th>7969</th>\n",
       "      <td>4</td>\n",
       "    </tr>\n",
       "    <tr>\n",
       "      <th>7975</th>\n",
       "      <td>4</td>\n",
       "    </tr>\n",
       "    <tr>\n",
       "      <th>7979</th>\n",
       "      <td>4</td>\n",
       "    </tr>\n",
       "    <tr>\n",
       "      <th>7982</th>\n",
       "      <td>3</td>\n",
       "    </tr>\n",
       "    <tr>\n",
       "      <th>7989</th>\n",
       "      <td>2</td>\n",
       "    </tr>\n",
       "    <tr>\n",
       "      <th>7990</th>\n",
       "      <td>2</td>\n",
       "    </tr>\n",
       "    <tr>\n",
       "      <th>7996</th>\n",
       "      <td>4</td>\n",
       "    </tr>\n",
       "    <tr>\n",
       "      <th>8000</th>\n",
       "      <td>4</td>\n",
       "    </tr>\n",
       "  </tbody>\n",
       "</table>\n",
       "<p>729 rows × 1 columns</p>\n",
       "</div>"
      ],
      "text/plain": [
       "      label\n",
       "key        \n",
       "0         2\n",
       "11        2\n",
       "20        2\n",
       "26        4\n",
       "29        2\n",
       "43        1\n",
       "45        2\n",
       "48        1\n",
       "49        4\n",
       "59        1\n",
       "64        4\n",
       "67        4\n",
       "68        4\n",
       "75        4\n",
       "79        1\n",
       "83        2\n",
       "89        2\n",
       "102       2\n",
       "105       4\n",
       "107       2\n",
       "124       1\n",
       "132       2\n",
       "134       2\n",
       "145       2\n",
       "148       1\n",
       "152       2\n",
       "155       4\n",
       "157       2\n",
       "164       2\n",
       "190       2\n",
       "...     ...\n",
       "7822      2\n",
       "7823      1\n",
       "7825      2\n",
       "7826      2\n",
       "7827      2\n",
       "7832      3\n",
       "7851      2\n",
       "7856      4\n",
       "7860      2\n",
       "7871      4\n",
       "7891      2\n",
       "7903      3\n",
       "7909      2\n",
       "7910      2\n",
       "7914      2\n",
       "7917      3\n",
       "7919      4\n",
       "7924      2\n",
       "7935      2\n",
       "7945      4\n",
       "7963      1\n",
       "7967      2\n",
       "7969      4\n",
       "7975      4\n",
       "7979      4\n",
       "7982      3\n",
       "7989      2\n",
       "7990      2\n",
       "7996      4\n",
       "8000      4\n",
       "\n",
       "[729 rows x 1 columns]"
      ]
     },
     "execution_count": 126,
     "metadata": {},
     "output_type": "execute_result"
    }
   ],
   "source": [
    "labeled_df_numbers = labeled_df_numbers.groupby(\"key\")[[\"label\"]].max()  # leave last procedure"
   ]
  },
  {
   "cell_type": "code",
   "execution_count": 127,
   "metadata": {},
   "outputs": [],
   "source": [
    "labeled_df_numbers[\"label_clf\"] = labeled_df_numbers.replace({\"label\":labels_to_clf_dict})[\"label\"]"
   ]
  },
  {
   "cell_type": "code",
   "execution_count": 130,
   "metadata": {
    "collapsed": true
   },
   "outputs": [
    {
     "data": {
      "text/plain": [
       "yes    534\n",
       "no     195\n",
       "Name: label_clf, dtype: int64"
      ]
     },
     "execution_count": 130,
     "metadata": {},
     "output_type": "execute_result"
    }
   ],
   "source": [
    "labeled_df_numbers[\"label_clf\"].value_counts()"
   ]
  },
  {
   "cell_type": "code",
   "execution_count": 132,
   "metadata": {},
   "outputs": [],
   "source": [
    "labeled_df_numbers.to_csv(r\"C:\\Users\\Dana\\Documents\\Final_Project\\Data\\processed\\labels.csv\")"
   ]
  }
 ],
 "metadata": {
  "kernelspec": {
   "display_name": "Python 3",
   "language": "python",
   "name": "python3"
  },
  "language_info": {
   "codemirror_mode": {
    "name": "ipython",
    "version": 3
   },
   "file_extension": ".py",
   "mimetype": "text/x-python",
   "name": "python",
   "nbconvert_exporter": "python",
   "pygments_lexer": "ipython3",
   "version": "3.7.3"
  }
 },
 "nbformat": 4,
 "nbformat_minor": 2
}
